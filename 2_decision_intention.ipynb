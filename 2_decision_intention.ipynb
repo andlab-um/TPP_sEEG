{
 "cells": [
  {
   "cell_type": "code",
   "execution_count": 5,
   "metadata": {},
   "outputs": [],
   "source": [
    "#import possibly needed modules\n",
    "import matplotlib.pyplot as plt\n",
    "import nibabel as nib\n",
    "import pandas as pd\n",
    "import numpy as np\n",
    "import scipy.io \n",
    "import mne\n",
    "import os\n",
    "import sys\n"
   ]
  },
  {
   "cell_type": "code",
   "execution_count": 8,
   "metadata": {},
   "outputs": [],
   "source": [
    "#define the path and subjects\n",
    "#in_path = r\"/Users/madwoman/Desktop/tpp_seeg/roi_data_67/sts/\" # 分析哪个roi就输入哪个文件夹的数据\n",
    "in_path = r\"/Users/madwoman/Desktop/tpp_seeg/roi_data_1234/amygdala_new/\" # 分析哪个roi就输入哪个文件夹的数据\n",
    "in_path_baseline = r\"/Users/madwoman/Desktop/tpp_seeg/roi_data_baseline/amygdala_new/\" # 分析哪个roi就输入哪个文件夹的数据\n",
    "#out_path = r\"/Users/madwoman/Desktop/tpp_seeg/frqe_out/sts/\" # 分析哪个roi就输入哪个文件夹的数据\n",
    "#roi_name = \"amy\"\n",
    "# subjects = [108, 116, 117, 120, 122, 130, 135] # vmpfc  \n",
    "# subjects = [119,125,127] # vmpfc for kids \n",
    "subjects= [108, 112, 113, 116, 117, 122, 130, 135] # amy  \n",
    "# subjects = [110, 119, 124, 125, 127, 131, 133, 134] # amy for kids\n",
    "# subjects = [108, 112, 113, 116, 117, 120, 122, 123, 130, 135] # insula/ai\n",
    "# subjects = [110, 119, 124, 125, 127, 131, 134] # insula/ai for kids\n",
    "#subjects = [125, 127] # insula/ai for kids\n",
    "#epochs_name = '/biomo_epo.fif'\n",
    "\n",
    "# subjects = [123]\n",
    "#functions for gaussian filter\n",
    "def gaussian_filter(data, time_span=50, fs=1000, axis=-1):\n",
    "\n",
    "    # time_span: the length of the window (ms)\n",
    "    from scipy import signal, ndimage\n",
    "\n",
    "    winsize = time_span * fs / 1000\n",
    "\n",
    "    # create a window(kernel) with value follow a gaussian distrubution\n",
    "    window = signal.gaussian(winsize,std = int((winsize)/5) ) # Note! In matlab function 'gausswin',the parameter is α(defaut = 2.5), here is std, std = winsize/2α\n",
    "\n",
    "    # Make the sum of the window = 1\n",
    "    gusWin = window/sum(window)\n",
    "\n",
    "    # convolve the last dimension\n",
    "    data_filtered = ndimage.convolve1d(input=data, weights=gusWin, axis=axis, mode='nearest', origin=0)\n",
    "\n",
    "    return data_filtered"
   ]
  },
  {
   "cell_type": "code",
   "execution_count": 9,
   "metadata": {},
   "outputs": [
    {
     "name": "stdout",
     "output_type": "stream",
     "text": [
      "Extracting parameters from /Users/madwoman/Desktop/tpp_seeg/roi_data_1234/amygdala_new/108.set...\n",
      "Not setting metadata\n",
      "45 matching events found\n",
      "No baseline correction applied\n",
      "0 projection items activated\n",
      "Ready.\n",
      "NOTE: tfr_morlet() is a legacy function. New code should use .compute_tfr(method=\"morlet\").\n"
     ]
    },
    {
     "name": "stderr",
     "output_type": "stream",
     "text": [
      "/var/folders/9v/hrxf86p91h31ptwdds0f77qw0000gn/T/ipykernel_50381/2006044614.py:28: RuntimeWarning: At least one epoch has multiple events. Only the latency of the first event will be retained.\n",
      "  ROI_epochs = mne.read_epochs_eeglab(in_path + str(subjects[i]) + '.set')\n",
      "[Parallel(n_jobs=1)]: Using backend SequentialBackend with 1 concurrent workers.\n"
     ]
    },
    {
     "name": "stdout",
     "output_type": "stream",
     "text": [
      "NOTE: tfr_morlet() is a legacy function. New code should use .compute_tfr(method=\"morlet\").\n"
     ]
    },
    {
     "name": "stderr",
     "output_type": "stream",
     "text": [
      "[Parallel(n_jobs=1)]: Done   1 out of   1 | elapsed:    0.0s remaining:    0.0s\n",
      "[Parallel(n_jobs=1)]: Done   2 out of   2 | elapsed:    0.0s remaining:    0.0s\n",
      "[Parallel(n_jobs=1)]: Done   3 out of   3 | elapsed:    0.1s remaining:    0.0s\n",
      "[Parallel(n_jobs=1)]: Done   4 out of   4 | elapsed:    0.1s remaining:    0.0s\n",
      "[Parallel(n_jobs=1)]: Done   8 out of   8 | elapsed:    0.2s finished\n",
      "[Parallel(n_jobs=1)]: Using backend SequentialBackend with 1 concurrent workers.\n",
      "[Parallel(n_jobs=1)]: Done   1 out of   1 | elapsed:    0.0s remaining:    0.0s\n",
      "[Parallel(n_jobs=1)]: Done   2 out of   2 | elapsed:    0.0s remaining:    0.0s\n",
      "[Parallel(n_jobs=1)]: Done   3 out of   3 | elapsed:    0.0s remaining:    0.0s\n",
      "[Parallel(n_jobs=1)]: Done   4 out of   4 | elapsed:    0.1s remaining:    0.0s\n"
     ]
    },
    {
     "name": "stdout",
     "output_type": "stream",
     "text": [
      "Extracting parameters from /Users/madwoman/Desktop/tpp_seeg/roi_data_baseline/amygdala_new/108.set...\n",
      "Not setting metadata\n",
      "46 matching events found\n",
      "No baseline correction applied\n",
      "0 projection items activated\n",
      "Ready.\n",
      "NOTE: tfr_morlet() is a legacy function. New code should use .compute_tfr(method=\"morlet\").\n",
      "NOTE: tfr_morlet() is a legacy function. New code should use .compute_tfr(method=\"morlet\").\n"
     ]
    },
    {
     "name": "stderr",
     "output_type": "stream",
     "text": [
      "[Parallel(n_jobs=1)]: Done   8 out of   8 | elapsed:    0.1s finished\n",
      "/var/folders/9v/hrxf86p91h31ptwdds0f77qw0000gn/T/ipykernel_50381/2006044614.py:40: RuntimeWarning: At least one epoch has multiple events. Only the latency of the first event will be retained.\n",
      "  baseline_epoches = mne.read_epochs_eeglab(in_path_baseline + str(subjects[i]) + '.set')\n",
      "[Parallel(n_jobs=1)]: Using backend SequentialBackend with 1 concurrent workers.\n",
      "[Parallel(n_jobs=1)]: Done   1 out of   1 | elapsed:    0.0s remaining:    0.0s\n",
      "[Parallel(n_jobs=1)]: Done   2 out of   2 | elapsed:    0.0s remaining:    0.0s\n",
      "[Parallel(n_jobs=1)]: Done   3 out of   3 | elapsed:    0.0s remaining:    0.0s\n",
      "[Parallel(n_jobs=1)]: Done   4 out of   4 | elapsed:    0.1s remaining:    0.0s\n",
      "[Parallel(n_jobs=1)]: Done   8 out of   8 | elapsed:    0.1s finished\n"
     ]
    },
    {
     "name": "stdout",
     "output_type": "stream",
     "text": [
      "Applying baseline correction (mode: zlogratio)\n",
      "Applying baseline correction (mode: zlogratio)\n"
     ]
    },
    {
     "name": "stderr",
     "output_type": "stream",
     "text": [
      "[Parallel(n_jobs=1)]: Using backend SequentialBackend with 1 concurrent workers.\n",
      "[Parallel(n_jobs=1)]: Done   1 out of   1 | elapsed:    0.0s remaining:    0.0s\n",
      "[Parallel(n_jobs=1)]: Done   2 out of   2 | elapsed:    0.0s remaining:    0.0s\n",
      "[Parallel(n_jobs=1)]: Done   3 out of   3 | elapsed:    0.1s remaining:    0.0s\n",
      "[Parallel(n_jobs=1)]: Done   4 out of   4 | elapsed:    0.1s remaining:    0.0s\n",
      "[Parallel(n_jobs=1)]: Done   8 out of   8 | elapsed:    0.2s finished\n",
      "/var/folders/9v/hrxf86p91h31ptwdds0f77qw0000gn/T/ipykernel_50381/2006044614.py:66: FutureWarning: Parameters \"info\", \"data\", \"times\", \"nave\" are deprecated and will be removed in version 1.8. For a quick fix, use ``AverageTFRArray`` with the same parameters. For a long-term fix, see the docstring notes.\n",
      "  all_pn_mean_tfr = mne.time_frequency.AverageTFR(info=info, data=pn_mean_tfr, times=time_range, freqs=freqs, nave=1)\n",
      "/var/folders/9v/hrxf86p91h31ptwdds0f77qw0000gn/T/ipykernel_50381/2006044614.py:67: FutureWarning: Parameters \"info\", \"data\", \"times\", \"nave\" are deprecated and will be removed in version 1.8. For a quick fix, use ``AverageTFRArray`` with the same parameters. For a long-term fix, see the docstring notes.\n",
      "  all_npn_mean_tfr = mne.time_frequency.AverageTFR(info=info, data=npn_mean_tfr, times=time_range, freqs=freqs, nave=1)\n"
     ]
    },
    {
     "name": "stdout",
     "output_type": "stream",
     "text": [
      "Extracting parameters from /Users/madwoman/Desktop/tpp_seeg/roi_data_1234/amygdala_new/112.set...\n"
     ]
    },
    {
     "name": "stderr",
     "output_type": "stream",
     "text": [
      "/var/folders/9v/hrxf86p91h31ptwdds0f77qw0000gn/T/ipykernel_50381/2006044614.py:28: RuntimeWarning: At least one epoch has multiple events. Only the latency of the first event will be retained.\n",
      "  ROI_epochs = mne.read_epochs_eeglab(in_path + str(subjects[i]) + '.set')\n"
     ]
    },
    {
     "name": "stdout",
     "output_type": "stream",
     "text": [
      "Not setting metadata\n",
      "48 matching events found\n",
      "No baseline correction applied\n",
      "0 projection items activated\n",
      "Ready.\n",
      "NOTE: tfr_morlet() is a legacy function. New code should use .compute_tfr(method=\"morlet\").\n",
      "NOTE: tfr_morlet() is a legacy function. New code should use .compute_tfr(method=\"morlet\").\n"
     ]
    },
    {
     "name": "stderr",
     "output_type": "stream",
     "text": [
      "[Parallel(n_jobs=1)]: Using backend SequentialBackend with 1 concurrent workers.\n",
      "[Parallel(n_jobs=1)]: Done   1 out of   1 | elapsed:    0.0s remaining:    0.0s\n",
      "[Parallel(n_jobs=1)]: Done   2 out of   2 | elapsed:    0.0s remaining:    0.0s\n",
      "[Parallel(n_jobs=1)]: Done   2 out of   2 | elapsed:    0.0s finished\n",
      "[Parallel(n_jobs=1)]: Using backend SequentialBackend with 1 concurrent workers.\n",
      "[Parallel(n_jobs=1)]: Done   1 out of   1 | elapsed:    0.0s remaining:    0.0s\n",
      "[Parallel(n_jobs=1)]: Done   2 out of   2 | elapsed:    0.0s remaining:    0.0s\n",
      "[Parallel(n_jobs=1)]: Done   2 out of   2 | elapsed:    0.0s finished\n"
     ]
    },
    {
     "name": "stdout",
     "output_type": "stream",
     "text": [
      "Extracting parameters from /Users/madwoman/Desktop/tpp_seeg/roi_data_baseline/amygdala_new/112.set...\n"
     ]
    },
    {
     "name": "stderr",
     "output_type": "stream",
     "text": [
      "/var/folders/9v/hrxf86p91h31ptwdds0f77qw0000gn/T/ipykernel_50381/2006044614.py:40: RuntimeWarning: At least one epoch has multiple events. Only the latency of the first event will be retained.\n",
      "  baseline_epoches = mne.read_epochs_eeglab(in_path_baseline + str(subjects[i]) + '.set')\n"
     ]
    },
    {
     "name": "stdout",
     "output_type": "stream",
     "text": [
      "Not setting metadata\n",
      "55 matching events found\n",
      "No baseline correction applied\n",
      "0 projection items activated\n",
      "Ready.\n",
      "NOTE: tfr_morlet() is a legacy function. New code should use .compute_tfr(method=\"morlet\").\n",
      "NOTE: tfr_morlet() is a legacy function. New code should use .compute_tfr(method=\"morlet\").\n",
      "Applying baseline correction (mode: zlogratio)\n",
      "Applying baseline correction (mode: zlogratio)\n"
     ]
    },
    {
     "name": "stderr",
     "output_type": "stream",
     "text": [
      "[Parallel(n_jobs=1)]: Using backend SequentialBackend with 1 concurrent workers.\n",
      "[Parallel(n_jobs=1)]: Done   1 out of   1 | elapsed:    0.0s remaining:    0.0s\n",
      "[Parallel(n_jobs=1)]: Done   2 out of   2 | elapsed:    0.0s remaining:    0.0s\n",
      "[Parallel(n_jobs=1)]: Done   2 out of   2 | elapsed:    0.0s finished\n",
      "[Parallel(n_jobs=1)]: Using backend SequentialBackend with 1 concurrent workers.\n",
      "[Parallel(n_jobs=1)]: Done   1 out of   1 | elapsed:    0.0s remaining:    0.0s\n",
      "[Parallel(n_jobs=1)]: Done   2 out of   2 | elapsed:    0.0s remaining:    0.0s\n",
      "[Parallel(n_jobs=1)]: Done   2 out of   2 | elapsed:    0.0s finished\n",
      "/var/folders/9v/hrxf86p91h31ptwdds0f77qw0000gn/T/ipykernel_50381/2006044614.py:66: FutureWarning: Parameters \"info\", \"data\", \"times\", \"nave\" are deprecated and will be removed in version 1.8. For a quick fix, use ``AverageTFRArray`` with the same parameters. For a long-term fix, see the docstring notes.\n",
      "  all_pn_mean_tfr = mne.time_frequency.AverageTFR(info=info, data=pn_mean_tfr, times=time_range, freqs=freqs, nave=1)\n",
      "/var/folders/9v/hrxf86p91h31ptwdds0f77qw0000gn/T/ipykernel_50381/2006044614.py:67: FutureWarning: Parameters \"info\", \"data\", \"times\", \"nave\" are deprecated and will be removed in version 1.8. For a quick fix, use ``AverageTFRArray`` with the same parameters. For a long-term fix, see the docstring notes.\n",
      "  all_npn_mean_tfr = mne.time_frequency.AverageTFR(info=info, data=npn_mean_tfr, times=time_range, freqs=freqs, nave=1)\n"
     ]
    },
    {
     "name": "stdout",
     "output_type": "stream",
     "text": [
      "Extracting parameters from /Users/madwoman/Desktop/tpp_seeg/roi_data_1234/amygdala_new/113.set...\n"
     ]
    },
    {
     "name": "stderr",
     "output_type": "stream",
     "text": [
      "/var/folders/9v/hrxf86p91h31ptwdds0f77qw0000gn/T/ipykernel_50381/2006044614.py:28: RuntimeWarning: At least one epoch has multiple events. Only the latency of the first event will be retained.\n",
      "  ROI_epochs = mne.read_epochs_eeglab(in_path + str(subjects[i]) + '.set')\n"
     ]
    },
    {
     "name": "stdout",
     "output_type": "stream",
     "text": [
      "Not setting metadata\n",
      "48 matching events found\n",
      "No baseline correction applied\n",
      "0 projection items activated\n",
      "Ready.\n",
      "NOTE: tfr_morlet() is a legacy function. New code should use .compute_tfr(method=\"morlet\").\n",
      "NOTE: tfr_morlet() is a legacy function. New code should use .compute_tfr(method=\"morlet\").\n"
     ]
    },
    {
     "name": "stderr",
     "output_type": "stream",
     "text": [
      "[Parallel(n_jobs=1)]: Using backend SequentialBackend with 1 concurrent workers.\n",
      "[Parallel(n_jobs=1)]: Done   1 out of   1 | elapsed:    0.0s remaining:    0.0s\n",
      "[Parallel(n_jobs=1)]: Done   2 out of   2 | elapsed:    0.0s remaining:    0.0s\n",
      "[Parallel(n_jobs=1)]: Done   3 out of   3 | elapsed:    0.0s remaining:    0.0s\n",
      "[Parallel(n_jobs=1)]: Done   4 out of   4 | elapsed:    0.1s remaining:    0.0s\n",
      "[Parallel(n_jobs=1)]: Done   6 out of   6 | elapsed:    0.1s finished\n",
      "[Parallel(n_jobs=1)]: Using backend SequentialBackend with 1 concurrent workers.\n",
      "[Parallel(n_jobs=1)]: Done   1 out of   1 | elapsed:    0.0s remaining:    0.0s\n",
      "[Parallel(n_jobs=1)]: Done   2 out of   2 | elapsed:    0.0s remaining:    0.0s\n",
      "[Parallel(n_jobs=1)]: Done   3 out of   3 | elapsed:    0.0s remaining:    0.0s\n",
      "[Parallel(n_jobs=1)]: Done   4 out of   4 | elapsed:    0.1s remaining:    0.0s\n",
      "[Parallel(n_jobs=1)]: Done   6 out of   6 | elapsed:    0.1s finished\n"
     ]
    },
    {
     "name": "stdout",
     "output_type": "stream",
     "text": [
      "Extracting parameters from /Users/madwoman/Desktop/tpp_seeg/roi_data_baseline/amygdala_new/113.set...\n"
     ]
    },
    {
     "name": "stderr",
     "output_type": "stream",
     "text": [
      "/var/folders/9v/hrxf86p91h31ptwdds0f77qw0000gn/T/ipykernel_50381/2006044614.py:40: RuntimeWarning: At least one epoch has multiple events. Only the latency of the first event will be retained.\n",
      "  baseline_epoches = mne.read_epochs_eeglab(in_path_baseline + str(subjects[i]) + '.set')\n"
     ]
    },
    {
     "name": "stdout",
     "output_type": "stream",
     "text": [
      "Not setting metadata\n",
      "48 matching events found\n",
      "No baseline correction applied\n",
      "0 projection items activated\n",
      "Ready.\n",
      "NOTE: tfr_morlet() is a legacy function. New code should use .compute_tfr(method=\"morlet\").\n",
      "NOTE: tfr_morlet() is a legacy function. New code should use .compute_tfr(method=\"morlet\").\n"
     ]
    },
    {
     "name": "stderr",
     "output_type": "stream",
     "text": [
      "[Parallel(n_jobs=1)]: Using backend SequentialBackend with 1 concurrent workers.\n",
      "[Parallel(n_jobs=1)]: Done   1 out of   1 | elapsed:    0.0s remaining:    0.0s\n",
      "[Parallel(n_jobs=1)]: Done   2 out of   2 | elapsed:    0.0s remaining:    0.0s\n",
      "[Parallel(n_jobs=1)]: Done   3 out of   3 | elapsed:    0.1s remaining:    0.0s\n",
      "[Parallel(n_jobs=1)]: Done   4 out of   4 | elapsed:    0.1s remaining:    0.0s\n",
      "[Parallel(n_jobs=1)]: Done   6 out of   6 | elapsed:    0.1s finished\n",
      "[Parallel(n_jobs=1)]: Using backend SequentialBackend with 1 concurrent workers.\n",
      "[Parallel(n_jobs=1)]: Done   1 out of   1 | elapsed:    0.0s remaining:    0.0s\n",
      "[Parallel(n_jobs=1)]: Done   2 out of   2 | elapsed:    0.0s remaining:    0.0s\n",
      "[Parallel(n_jobs=1)]: Done   3 out of   3 | elapsed:    0.1s remaining:    0.0s\n",
      "[Parallel(n_jobs=1)]: Done   4 out of   4 | elapsed:    0.1s remaining:    0.0s\n"
     ]
    },
    {
     "name": "stdout",
     "output_type": "stream",
     "text": [
      "Applying baseline correction (mode: zlogratio)\n",
      "Applying baseline correction (mode: zlogratio)\n"
     ]
    },
    {
     "name": "stderr",
     "output_type": "stream",
     "text": [
      "[Parallel(n_jobs=1)]: Done   6 out of   6 | elapsed:    0.1s finished\n",
      "/var/folders/9v/hrxf86p91h31ptwdds0f77qw0000gn/T/ipykernel_50381/2006044614.py:66: FutureWarning: Parameters \"info\", \"data\", \"times\", \"nave\" are deprecated and will be removed in version 1.8. For a quick fix, use ``AverageTFRArray`` with the same parameters. For a long-term fix, see the docstring notes.\n",
      "  all_pn_mean_tfr = mne.time_frequency.AverageTFR(info=info, data=pn_mean_tfr, times=time_range, freqs=freqs, nave=1)\n",
      "/var/folders/9v/hrxf86p91h31ptwdds0f77qw0000gn/T/ipykernel_50381/2006044614.py:67: FutureWarning: Parameters \"info\", \"data\", \"times\", \"nave\" are deprecated and will be removed in version 1.8. For a quick fix, use ``AverageTFRArray`` with the same parameters. For a long-term fix, see the docstring notes.\n",
      "  all_npn_mean_tfr = mne.time_frequency.AverageTFR(info=info, data=npn_mean_tfr, times=time_range, freqs=freqs, nave=1)\n"
     ]
    },
    {
     "name": "stdout",
     "output_type": "stream",
     "text": [
      "Extracting parameters from /Users/madwoman/Desktop/tpp_seeg/roi_data_1234/amygdala_new/116.set...\n"
     ]
    },
    {
     "name": "stderr",
     "output_type": "stream",
     "text": [
      "/var/folders/9v/hrxf86p91h31ptwdds0f77qw0000gn/T/ipykernel_50381/2006044614.py:28: RuntimeWarning: At least one epoch has multiple events. Only the latency of the first event will be retained.\n",
      "  ROI_epochs = mne.read_epochs_eeglab(in_path + str(subjects[i]) + '.set')\n"
     ]
    },
    {
     "name": "stdout",
     "output_type": "stream",
     "text": [
      "Not setting metadata\n",
      "48 matching events found\n",
      "No baseline correction applied\n",
      "0 projection items activated\n",
      "Ready.\n",
      "NOTE: tfr_morlet() is a legacy function. New code should use .compute_tfr(method=\"morlet\").\n",
      "NOTE: tfr_morlet() is a legacy function. New code should use .compute_tfr(method=\"morlet\").\n"
     ]
    },
    {
     "name": "stderr",
     "output_type": "stream",
     "text": [
      "[Parallel(n_jobs=1)]: Using backend SequentialBackend with 1 concurrent workers.\n",
      "[Parallel(n_jobs=1)]: Done   1 out of   1 | elapsed:    0.0s remaining:    0.0s\n",
      "[Parallel(n_jobs=1)]: Done   2 out of   2 | elapsed:    0.0s remaining:    0.0s\n",
      "[Parallel(n_jobs=1)]: Done   3 out of   3 | elapsed:    0.0s remaining:    0.0s\n",
      "[Parallel(n_jobs=1)]: Done   4 out of   4 | elapsed:    0.1s remaining:    0.0s\n",
      "[Parallel(n_jobs=1)]: Done   5 out of   5 | elapsed:    0.1s finished\n",
      "[Parallel(n_jobs=1)]: Using backend SequentialBackend with 1 concurrent workers.\n",
      "[Parallel(n_jobs=1)]: Done   1 out of   1 | elapsed:    0.0s remaining:    0.0s\n",
      "[Parallel(n_jobs=1)]: Done   2 out of   2 | elapsed:    0.0s remaining:    0.0s\n",
      "[Parallel(n_jobs=1)]: Done   3 out of   3 | elapsed:    0.0s remaining:    0.0s\n",
      "[Parallel(n_jobs=1)]: Done   4 out of   4 | elapsed:    0.0s remaining:    0.0s\n",
      "[Parallel(n_jobs=1)]: Done   5 out of   5 | elapsed:    0.1s finished\n"
     ]
    },
    {
     "name": "stdout",
     "output_type": "stream",
     "text": [
      "Extracting parameters from /Users/madwoman/Desktop/tpp_seeg/roi_data_baseline/amygdala_new/116.set...\n"
     ]
    },
    {
     "name": "stderr",
     "output_type": "stream",
     "text": [
      "/var/folders/9v/hrxf86p91h31ptwdds0f77qw0000gn/T/ipykernel_50381/2006044614.py:40: RuntimeWarning: At least one epoch has multiple events. Only the latency of the first event will be retained.\n",
      "  baseline_epoches = mne.read_epochs_eeglab(in_path_baseline + str(subjects[i]) + '.set')\n"
     ]
    },
    {
     "name": "stdout",
     "output_type": "stream",
     "text": [
      "Not setting metadata\n",
      "48 matching events found\n",
      "No baseline correction applied\n",
      "0 projection items activated\n",
      "Ready.\n",
      "NOTE: tfr_morlet() is a legacy function. New code should use .compute_tfr(method=\"morlet\").\n",
      "NOTE: tfr_morlet() is a legacy function. New code should use .compute_tfr(method=\"morlet\").\n",
      "Applying baseline correction (mode: zlogratio)\n",
      "Applying baseline correction (mode: zlogratio)\n"
     ]
    },
    {
     "name": "stderr",
     "output_type": "stream",
     "text": [
      "[Parallel(n_jobs=1)]: Using backend SequentialBackend with 1 concurrent workers.\n",
      "[Parallel(n_jobs=1)]: Done   1 out of   1 | elapsed:    0.0s remaining:    0.0s\n",
      "[Parallel(n_jobs=1)]: Done   2 out of   2 | elapsed:    0.0s remaining:    0.0s\n",
      "[Parallel(n_jobs=1)]: Done   3 out of   3 | elapsed:    0.0s remaining:    0.0s\n",
      "[Parallel(n_jobs=1)]: Done   4 out of   4 | elapsed:    0.1s remaining:    0.0s\n",
      "[Parallel(n_jobs=1)]: Done   5 out of   5 | elapsed:    0.1s finished\n",
      "[Parallel(n_jobs=1)]: Using backend SequentialBackend with 1 concurrent workers.\n",
      "[Parallel(n_jobs=1)]: Done   1 out of   1 | elapsed:    0.0s remaining:    0.0s\n",
      "[Parallel(n_jobs=1)]: Done   2 out of   2 | elapsed:    0.0s remaining:    0.0s\n",
      "[Parallel(n_jobs=1)]: Done   3 out of   3 | elapsed:    0.0s remaining:    0.0s\n",
      "[Parallel(n_jobs=1)]: Done   4 out of   4 | elapsed:    0.0s remaining:    0.0s\n",
      "[Parallel(n_jobs=1)]: Done   5 out of   5 | elapsed:    0.1s finished\n",
      "/var/folders/9v/hrxf86p91h31ptwdds0f77qw0000gn/T/ipykernel_50381/2006044614.py:66: FutureWarning: Parameters \"info\", \"data\", \"times\", \"nave\" are deprecated and will be removed in version 1.8. For a quick fix, use ``AverageTFRArray`` with the same parameters. For a long-term fix, see the docstring notes.\n",
      "  all_pn_mean_tfr = mne.time_frequency.AverageTFR(info=info, data=pn_mean_tfr, times=time_range, freqs=freqs, nave=1)\n",
      "/var/folders/9v/hrxf86p91h31ptwdds0f77qw0000gn/T/ipykernel_50381/2006044614.py:67: FutureWarning: Parameters \"info\", \"data\", \"times\", \"nave\" are deprecated and will be removed in version 1.8. For a quick fix, use ``AverageTFRArray`` with the same parameters. For a long-term fix, see the docstring notes.\n",
      "  all_npn_mean_tfr = mne.time_frequency.AverageTFR(info=info, data=npn_mean_tfr, times=time_range, freqs=freqs, nave=1)\n"
     ]
    },
    {
     "name": "stdout",
     "output_type": "stream",
     "text": [
      "Extracting parameters from /Users/madwoman/Desktop/tpp_seeg/roi_data_1234/amygdala_new/117.set...\n"
     ]
    },
    {
     "name": "stderr",
     "output_type": "stream",
     "text": [
      "/var/folders/9v/hrxf86p91h31ptwdds0f77qw0000gn/T/ipykernel_50381/2006044614.py:28: RuntimeWarning: At least one epoch has multiple events. Only the latency of the first event will be retained.\n",
      "  ROI_epochs = mne.read_epochs_eeglab(in_path + str(subjects[i]) + '.set')\n"
     ]
    },
    {
     "name": "stdout",
     "output_type": "stream",
     "text": [
      "Not setting metadata\n",
      "48 matching events found\n",
      "No baseline correction applied\n",
      "0 projection items activated\n",
      "Ready.\n",
      "NOTE: tfr_morlet() is a legacy function. New code should use .compute_tfr(method=\"morlet\").\n",
      "NOTE: tfr_morlet() is a legacy function. New code should use .compute_tfr(method=\"morlet\").\n"
     ]
    },
    {
     "name": "stderr",
     "output_type": "stream",
     "text": [
      "[Parallel(n_jobs=1)]: Using backend SequentialBackend with 1 concurrent workers.\n",
      "[Parallel(n_jobs=1)]: Done   1 out of   1 | elapsed:    0.0s remaining:    0.0s\n",
      "[Parallel(n_jobs=1)]: Done   2 out of   2 | elapsed:    0.0s remaining:    0.0s\n",
      "[Parallel(n_jobs=1)]: Done   3 out of   3 | elapsed:    0.0s remaining:    0.0s\n",
      "[Parallel(n_jobs=1)]: Done   4 out of   4 | elapsed:    0.1s remaining:    0.0s\n",
      "[Parallel(n_jobs=1)]: Done   6 out of   6 | elapsed:    0.1s finished\n",
      "[Parallel(n_jobs=1)]: Using backend SequentialBackend with 1 concurrent workers.\n",
      "[Parallel(n_jobs=1)]: Done   1 out of   1 | elapsed:    0.0s remaining:    0.0s\n",
      "[Parallel(n_jobs=1)]: Done   2 out of   2 | elapsed:    0.0s remaining:    0.0s\n",
      "[Parallel(n_jobs=1)]: Done   3 out of   3 | elapsed:    0.0s remaining:    0.0s\n",
      "[Parallel(n_jobs=1)]: Done   4 out of   4 | elapsed:    0.0s remaining:    0.0s\n",
      "[Parallel(n_jobs=1)]: Done   6 out of   6 | elapsed:    0.1s finished\n"
     ]
    },
    {
     "name": "stdout",
     "output_type": "stream",
     "text": [
      "Extracting parameters from /Users/madwoman/Desktop/tpp_seeg/roi_data_baseline/amygdala_new/117.set...\n"
     ]
    },
    {
     "name": "stderr",
     "output_type": "stream",
     "text": [
      "/var/folders/9v/hrxf86p91h31ptwdds0f77qw0000gn/T/ipykernel_50381/2006044614.py:40: RuntimeWarning: At least one epoch has multiple events. Only the latency of the first event will be retained.\n",
      "  baseline_epoches = mne.read_epochs_eeglab(in_path_baseline + str(subjects[i]) + '.set')\n"
     ]
    },
    {
     "name": "stdout",
     "output_type": "stream",
     "text": [
      "Not setting metadata\n",
      "48 matching events found\n",
      "No baseline correction applied\n",
      "0 projection items activated\n",
      "Ready.\n",
      "NOTE: tfr_morlet() is a legacy function. New code should use .compute_tfr(method=\"morlet\").\n",
      "NOTE: tfr_morlet() is a legacy function. New code should use .compute_tfr(method=\"morlet\").\n"
     ]
    },
    {
     "name": "stderr",
     "output_type": "stream",
     "text": [
      "[Parallel(n_jobs=1)]: Using backend SequentialBackend with 1 concurrent workers.\n",
      "[Parallel(n_jobs=1)]: Done   1 out of   1 | elapsed:    0.0s remaining:    0.0s\n",
      "[Parallel(n_jobs=1)]: Done   2 out of   2 | elapsed:    0.0s remaining:    0.0s\n",
      "[Parallel(n_jobs=1)]: Done   3 out of   3 | elapsed:    0.1s remaining:    0.0s\n",
      "[Parallel(n_jobs=1)]: Done   4 out of   4 | elapsed:    0.1s remaining:    0.0s\n",
      "[Parallel(n_jobs=1)]: Done   6 out of   6 | elapsed:    0.1s finished\n",
      "[Parallel(n_jobs=1)]: Using backend SequentialBackend with 1 concurrent workers.\n",
      "[Parallel(n_jobs=1)]: Done   1 out of   1 | elapsed:    0.0s remaining:    0.0s\n",
      "[Parallel(n_jobs=1)]: Done   2 out of   2 | elapsed:    0.0s remaining:    0.0s\n",
      "[Parallel(n_jobs=1)]: Done   3 out of   3 | elapsed:    0.0s remaining:    0.0s\n",
      "[Parallel(n_jobs=1)]: Done   4 out of   4 | elapsed:    0.1s remaining:    0.0s\n"
     ]
    },
    {
     "name": "stdout",
     "output_type": "stream",
     "text": [
      "Applying baseline correction (mode: zlogratio)\n",
      "Applying baseline correction (mode: zlogratio)\n"
     ]
    },
    {
     "name": "stderr",
     "output_type": "stream",
     "text": [
      "[Parallel(n_jobs=1)]: Done   6 out of   6 | elapsed:    0.1s finished\n",
      "/var/folders/9v/hrxf86p91h31ptwdds0f77qw0000gn/T/ipykernel_50381/2006044614.py:66: FutureWarning: Parameters \"info\", \"data\", \"times\", \"nave\" are deprecated and will be removed in version 1.8. For a quick fix, use ``AverageTFRArray`` with the same parameters. For a long-term fix, see the docstring notes.\n",
      "  all_pn_mean_tfr = mne.time_frequency.AverageTFR(info=info, data=pn_mean_tfr, times=time_range, freqs=freqs, nave=1)\n",
      "/var/folders/9v/hrxf86p91h31ptwdds0f77qw0000gn/T/ipykernel_50381/2006044614.py:67: FutureWarning: Parameters \"info\", \"data\", \"times\", \"nave\" are deprecated and will be removed in version 1.8. For a quick fix, use ``AverageTFRArray`` with the same parameters. For a long-term fix, see the docstring notes.\n",
      "  all_npn_mean_tfr = mne.time_frequency.AverageTFR(info=info, data=npn_mean_tfr, times=time_range, freqs=freqs, nave=1)\n"
     ]
    },
    {
     "name": "stdout",
     "output_type": "stream",
     "text": [
      "Extracting parameters from /Users/madwoman/Desktop/tpp_seeg/roi_data_1234/amygdala_new/122.set...\n"
     ]
    },
    {
     "name": "stderr",
     "output_type": "stream",
     "text": [
      "/var/folders/9v/hrxf86p91h31ptwdds0f77qw0000gn/T/ipykernel_50381/2006044614.py:28: RuntimeWarning: At least one epoch has multiple events. Only the latency of the first event will be retained.\n",
      "  ROI_epochs = mne.read_epochs_eeglab(in_path + str(subjects[i]) + '.set')\n"
     ]
    },
    {
     "name": "stdout",
     "output_type": "stream",
     "text": [
      "Not setting metadata\n",
      "48 matching events found\n",
      "No baseline correction applied\n",
      "0 projection items activated\n",
      "Ready.\n",
      "NOTE: tfr_morlet() is a legacy function. New code should use .compute_tfr(method=\"morlet\").\n",
      "NOTE: tfr_morlet() is a legacy function. New code should use .compute_tfr(method=\"morlet\").\n"
     ]
    },
    {
     "name": "stderr",
     "output_type": "stream",
     "text": [
      "[Parallel(n_jobs=1)]: Using backend SequentialBackend with 1 concurrent workers.\n",
      "[Parallel(n_jobs=1)]: Done   1 out of   1 | elapsed:    0.0s remaining:    0.0s\n",
      "[Parallel(n_jobs=1)]: Done   2 out of   2 | elapsed:    0.0s remaining:    0.0s\n",
      "[Parallel(n_jobs=1)]: Done   3 out of   3 | elapsed:    0.0s remaining:    0.0s\n",
      "[Parallel(n_jobs=1)]: Done   3 out of   3 | elapsed:    0.0s finished\n",
      "[Parallel(n_jobs=1)]: Using backend SequentialBackend with 1 concurrent workers.\n",
      "[Parallel(n_jobs=1)]: Done   1 out of   1 | elapsed:    0.0s remaining:    0.0s\n",
      "[Parallel(n_jobs=1)]: Done   2 out of   2 | elapsed:    0.0s remaining:    0.0s\n",
      "[Parallel(n_jobs=1)]: Done   3 out of   3 | elapsed:    0.0s remaining:    0.0s\n",
      "[Parallel(n_jobs=1)]: Done   3 out of   3 | elapsed:    0.0s finished\n"
     ]
    },
    {
     "name": "stdout",
     "output_type": "stream",
     "text": [
      "Extracting parameters from /Users/madwoman/Desktop/tpp_seeg/roi_data_baseline/amygdala_new/122.set...\n"
     ]
    },
    {
     "name": "stderr",
     "output_type": "stream",
     "text": [
      "/var/folders/9v/hrxf86p91h31ptwdds0f77qw0000gn/T/ipykernel_50381/2006044614.py:40: RuntimeWarning: At least one epoch has multiple events. Only the latency of the first event will be retained.\n",
      "  baseline_epoches = mne.read_epochs_eeglab(in_path_baseline + str(subjects[i]) + '.set')\n"
     ]
    },
    {
     "name": "stdout",
     "output_type": "stream",
     "text": [
      "Not setting metadata\n",
      "48 matching events found\n",
      "No baseline correction applied\n",
      "0 projection items activated\n",
      "Ready.\n",
      "NOTE: tfr_morlet() is a legacy function. New code should use .compute_tfr(method=\"morlet\").\n",
      "NOTE: tfr_morlet() is a legacy function. New code should use .compute_tfr(method=\"morlet\").\n",
      "Applying baseline correction (mode: zlogratio)\n",
      "Applying baseline correction (mode: zlogratio)\n",
      "Extracting parameters from /Users/madwoman/Desktop/tpp_seeg/roi_data_1234/amygdala_new/130.set...\n",
      "Not setting metadata\n",
      "48 matching events found\n",
      "No baseline correction applied\n",
      "0 projection items activated\n",
      "Ready.\n",
      "NOTE: tfr_morlet() is a legacy function. New code should use .compute_tfr(method=\"morlet\").\n",
      "NOTE: tfr_morlet() is a legacy function. New code should use .compute_tfr(method=\"morlet\").\n"
     ]
    },
    {
     "name": "stderr",
     "output_type": "stream",
     "text": [
      "[Parallel(n_jobs=1)]: Using backend SequentialBackend with 1 concurrent workers.\n",
      "[Parallel(n_jobs=1)]: Done   1 out of   1 | elapsed:    0.0s remaining:    0.0s\n",
      "[Parallel(n_jobs=1)]: Done   2 out of   2 | elapsed:    0.0s remaining:    0.0s\n",
      "[Parallel(n_jobs=1)]: Done   3 out of   3 | elapsed:    0.0s remaining:    0.0s\n",
      "[Parallel(n_jobs=1)]: Done   3 out of   3 | elapsed:    0.0s finished\n",
      "[Parallel(n_jobs=1)]: Using backend SequentialBackend with 1 concurrent workers.\n",
      "[Parallel(n_jobs=1)]: Done   1 out of   1 | elapsed:    0.0s remaining:    0.0s\n",
      "[Parallel(n_jobs=1)]: Done   2 out of   2 | elapsed:    0.0s remaining:    0.0s\n",
      "[Parallel(n_jobs=1)]: Done   3 out of   3 | elapsed:    0.0s remaining:    0.0s\n",
      "[Parallel(n_jobs=1)]: Done   3 out of   3 | elapsed:    0.0s finished\n",
      "/var/folders/9v/hrxf86p91h31ptwdds0f77qw0000gn/T/ipykernel_50381/2006044614.py:66: FutureWarning: Parameters \"info\", \"data\", \"times\", \"nave\" are deprecated and will be removed in version 1.8. For a quick fix, use ``AverageTFRArray`` with the same parameters. For a long-term fix, see the docstring notes.\n",
      "  all_pn_mean_tfr = mne.time_frequency.AverageTFR(info=info, data=pn_mean_tfr, times=time_range, freqs=freqs, nave=1)\n",
      "/var/folders/9v/hrxf86p91h31ptwdds0f77qw0000gn/T/ipykernel_50381/2006044614.py:67: FutureWarning: Parameters \"info\", \"data\", \"times\", \"nave\" are deprecated and will be removed in version 1.8. For a quick fix, use ``AverageTFRArray`` with the same parameters. For a long-term fix, see the docstring notes.\n",
      "  all_npn_mean_tfr = mne.time_frequency.AverageTFR(info=info, data=npn_mean_tfr, times=time_range, freqs=freqs, nave=1)\n",
      "/var/folders/9v/hrxf86p91h31ptwdds0f77qw0000gn/T/ipykernel_50381/2006044614.py:28: RuntimeWarning: At least one epoch has multiple events. Only the latency of the first event will be retained.\n",
      "  ROI_epochs = mne.read_epochs_eeglab(in_path + str(subjects[i]) + '.set')\n",
      "[Parallel(n_jobs=1)]: Using backend SequentialBackend with 1 concurrent workers.\n",
      "[Parallel(n_jobs=1)]: Done   1 out of   1 | elapsed:    0.0s remaining:    0.0s\n",
      "[Parallel(n_jobs=1)]: Done   2 out of   2 | elapsed:    0.0s remaining:    0.0s\n",
      "[Parallel(n_jobs=1)]: Done   3 out of   3 | elapsed:    0.0s remaining:    0.0s\n",
      "[Parallel(n_jobs=1)]: Done   3 out of   3 | elapsed:    0.0s finished\n",
      "[Parallel(n_jobs=1)]: Using backend SequentialBackend with 1 concurrent workers.\n",
      "[Parallel(n_jobs=1)]: Done   1 out of   1 | elapsed:    0.0s remaining:    0.0s\n"
     ]
    },
    {
     "name": "stdout",
     "output_type": "stream",
     "text": [
      "Extracting parameters from /Users/madwoman/Desktop/tpp_seeg/roi_data_baseline/amygdala_new/130.set...\n",
      "Not setting metadata\n",
      "48 matching events found\n",
      "No baseline correction applied\n",
      "0 projection items activated\n",
      "Ready.\n",
      "NOTE: tfr_morlet() is a legacy function. New code should use .compute_tfr(method=\"morlet\").\n",
      "NOTE: tfr_morlet() is a legacy function. New code should use .compute_tfr(method=\"morlet\").\n",
      "Applying baseline correction (mode: zlogratio)\n",
      "Applying baseline correction (mode: zlogratio)\n"
     ]
    },
    {
     "name": "stderr",
     "output_type": "stream",
     "text": [
      "[Parallel(n_jobs=1)]: Done   2 out of   2 | elapsed:    0.0s remaining:    0.0s\n",
      "[Parallel(n_jobs=1)]: Done   3 out of   3 | elapsed:    0.0s remaining:    0.0s\n",
      "[Parallel(n_jobs=1)]: Done   3 out of   3 | elapsed:    0.0s finished\n",
      "/var/folders/9v/hrxf86p91h31ptwdds0f77qw0000gn/T/ipykernel_50381/2006044614.py:40: RuntimeWarning: At least one epoch has multiple events. Only the latency of the first event will be retained.\n",
      "  baseline_epoches = mne.read_epochs_eeglab(in_path_baseline + str(subjects[i]) + '.set')\n",
      "[Parallel(n_jobs=1)]: Using backend SequentialBackend with 1 concurrent workers.\n",
      "[Parallel(n_jobs=1)]: Done   1 out of   1 | elapsed:    0.0s remaining:    0.0s\n",
      "[Parallel(n_jobs=1)]: Done   2 out of   2 | elapsed:    0.0s remaining:    0.0s\n",
      "[Parallel(n_jobs=1)]: Done   3 out of   3 | elapsed:    0.0s remaining:    0.0s\n",
      "[Parallel(n_jobs=1)]: Done   3 out of   3 | elapsed:    0.0s finished\n",
      "[Parallel(n_jobs=1)]: Using backend SequentialBackend with 1 concurrent workers.\n",
      "[Parallel(n_jobs=1)]: Done   1 out of   1 | elapsed:    0.0s remaining:    0.0s\n",
      "[Parallel(n_jobs=1)]: Done   2 out of   2 | elapsed:    0.0s remaining:    0.0s\n",
      "[Parallel(n_jobs=1)]: Done   3 out of   3 | elapsed:    0.1s remaining:    0.0s\n",
      "[Parallel(n_jobs=1)]: Done   3 out of   3 | elapsed:    0.1s finished\n",
      "/var/folders/9v/hrxf86p91h31ptwdds0f77qw0000gn/T/ipykernel_50381/2006044614.py:66: FutureWarning: Parameters \"info\", \"data\", \"times\", \"nave\" are deprecated and will be removed in version 1.8. For a quick fix, use ``AverageTFRArray`` with the same parameters. For a long-term fix, see the docstring notes.\n",
      "  all_pn_mean_tfr = mne.time_frequency.AverageTFR(info=info, data=pn_mean_tfr, times=time_range, freqs=freqs, nave=1)\n",
      "/var/folders/9v/hrxf86p91h31ptwdds0f77qw0000gn/T/ipykernel_50381/2006044614.py:67: FutureWarning: Parameters \"info\", \"data\", \"times\", \"nave\" are deprecated and will be removed in version 1.8. For a quick fix, use ``AverageTFRArray`` with the same parameters. For a long-term fix, see the docstring notes.\n",
      "  all_npn_mean_tfr = mne.time_frequency.AverageTFR(info=info, data=npn_mean_tfr, times=time_range, freqs=freqs, nave=1)\n"
     ]
    },
    {
     "name": "stdout",
     "output_type": "stream",
     "text": [
      "Extracting parameters from /Users/madwoman/Desktop/tpp_seeg/roi_data_1234/amygdala_new/135.set...\n",
      "Not setting metadata\n",
      "43 matching events found\n",
      "No baseline correction applied\n",
      "0 projection items activated\n",
      "Ready.\n",
      "NOTE: tfr_morlet() is a legacy function. New code should use .compute_tfr(method=\"morlet\").\n",
      "NOTE: tfr_morlet() is a legacy function. New code should use .compute_tfr(method=\"morlet\").\n"
     ]
    },
    {
     "name": "stderr",
     "output_type": "stream",
     "text": [
      "/var/folders/9v/hrxf86p91h31ptwdds0f77qw0000gn/T/ipykernel_50381/2006044614.py:28: RuntimeWarning: At least one epoch has multiple events. Only the latency of the first event will be retained.\n",
      "  ROI_epochs = mne.read_epochs_eeglab(in_path + str(subjects[i]) + '.set')\n",
      "[Parallel(n_jobs=1)]: Using backend SequentialBackend with 1 concurrent workers.\n",
      "[Parallel(n_jobs=1)]: Done   1 out of   1 | elapsed:    0.0s remaining:    0.0s\n",
      "[Parallel(n_jobs=1)]: Done   2 out of   2 | elapsed:    0.0s remaining:    0.0s\n",
      "[Parallel(n_jobs=1)]: Done   3 out of   3 | elapsed:    0.0s remaining:    0.0s\n",
      "[Parallel(n_jobs=1)]: Done   4 out of   4 | elapsed:    0.1s remaining:    0.0s\n",
      "[Parallel(n_jobs=1)]: Done   6 out of   6 | elapsed:    0.1s finished\n",
      "[Parallel(n_jobs=1)]: Using backend SequentialBackend with 1 concurrent workers.\n",
      "[Parallel(n_jobs=1)]: Done   1 out of   1 | elapsed:    0.0s remaining:    0.0s\n",
      "[Parallel(n_jobs=1)]: Done   2 out of   2 | elapsed:    0.0s remaining:    0.0s\n",
      "[Parallel(n_jobs=1)]: Done   3 out of   3 | elapsed:    0.0s remaining:    0.0s\n",
      "[Parallel(n_jobs=1)]: Done   4 out of   4 | elapsed:    0.0s remaining:    0.0s\n",
      "[Parallel(n_jobs=1)]: Done   6 out of   6 | elapsed:    0.1s finished\n"
     ]
    },
    {
     "name": "stdout",
     "output_type": "stream",
     "text": [
      "Extracting parameters from /Users/madwoman/Desktop/tpp_seeg/roi_data_baseline/amygdala_new/135.set...\n",
      "Not setting metadata\n",
      "44 matching events found\n",
      "No baseline correction applied\n",
      "0 projection items activated\n",
      "Ready.\n",
      "NOTE: tfr_morlet() is a legacy function. New code should use .compute_tfr(method=\"morlet\").\n",
      "NOTE: tfr_morlet() is a legacy function. New code should use .compute_tfr(method=\"morlet\").\n"
     ]
    },
    {
     "name": "stderr",
     "output_type": "stream",
     "text": [
      "/var/folders/9v/hrxf86p91h31ptwdds0f77qw0000gn/T/ipykernel_50381/2006044614.py:40: RuntimeWarning: At least one epoch has multiple events. Only the latency of the first event will be retained.\n",
      "  baseline_epoches = mne.read_epochs_eeglab(in_path_baseline + str(subjects[i]) + '.set')\n",
      "[Parallel(n_jobs=1)]: Using backend SequentialBackend with 1 concurrent workers.\n",
      "[Parallel(n_jobs=1)]: Done   1 out of   1 | elapsed:    0.0s remaining:    0.0s\n",
      "[Parallel(n_jobs=1)]: Done   2 out of   2 | elapsed:    0.0s remaining:    0.0s\n",
      "[Parallel(n_jobs=1)]: Done   3 out of   3 | elapsed:    0.1s remaining:    0.0s\n",
      "[Parallel(n_jobs=1)]: Done   4 out of   4 | elapsed:    0.1s remaining:    0.0s\n",
      "[Parallel(n_jobs=1)]: Done   6 out of   6 | elapsed:    0.1s finished\n",
      "[Parallel(n_jobs=1)]: Using backend SequentialBackend with 1 concurrent workers.\n",
      "[Parallel(n_jobs=1)]: Done   1 out of   1 | elapsed:    0.0s remaining:    0.0s\n",
      "[Parallel(n_jobs=1)]: Done   2 out of   2 | elapsed:    0.0s remaining:    0.0s\n"
     ]
    },
    {
     "name": "stdout",
     "output_type": "stream",
     "text": [
      "Applying baseline correction (mode: zlogratio)\n",
      "Applying baseline correction (mode: zlogratio)\n"
     ]
    },
    {
     "name": "stderr",
     "output_type": "stream",
     "text": [
      "[Parallel(n_jobs=1)]: Done   3 out of   3 | elapsed:    0.0s remaining:    0.0s\n",
      "[Parallel(n_jobs=1)]: Done   4 out of   4 | elapsed:    0.1s remaining:    0.0s\n",
      "[Parallel(n_jobs=1)]: Done   6 out of   6 | elapsed:    0.1s finished\n",
      "/var/folders/9v/hrxf86p91h31ptwdds0f77qw0000gn/T/ipykernel_50381/2006044614.py:66: FutureWarning: Parameters \"info\", \"data\", \"times\", \"nave\" are deprecated and will be removed in version 1.8. For a quick fix, use ``AverageTFRArray`` with the same parameters. For a long-term fix, see the docstring notes.\n",
      "  all_pn_mean_tfr = mne.time_frequency.AverageTFR(info=info, data=pn_mean_tfr, times=time_range, freqs=freqs, nave=1)\n",
      "/var/folders/9v/hrxf86p91h31ptwdds0f77qw0000gn/T/ipykernel_50381/2006044614.py:67: FutureWarning: Parameters \"info\", \"data\", \"times\", \"nave\" are deprecated and will be removed in version 1.8. For a quick fix, use ``AverageTFRArray`` with the same parameters. For a long-term fix, see the docstring notes.\n",
      "  all_npn_mean_tfr = mne.time_frequency.AverageTFR(info=info, data=npn_mean_tfr, times=time_range, freqs=freqs, nave=1)\n"
     ]
    }
   ],
   "source": [
    "from mne.time_frequency import tfr_morlet\n",
    "#freqs=np.arange(70, 125, 5)\n",
    "freqs=np.arange(12, 30, 2)\n",
    "n_cycles=6\n",
    "time_span = 100\n",
    "ch_names = []\n",
    "whole_range = [-7, 0.999]  # baseline前后 0.3s\n",
    "baseline_range = [0, 0.2]\n",
    "\n",
    "\n",
    "mapping = {\n",
    "    11: \"atten/con/punish\",\n",
    "    10: \"atten/con/nonpunish\",\n",
    "    21: \"atten/incon/punish\",\n",
    "    20: \"atten/incon/nonpunish\",\n",
    "    31: \"unatten/con/punish\",\n",
    "    30: \"unatten/con/nonpunish\",\n",
    "    41: \"unatten/incon/punish\",\n",
    "    40: \"unatten/incon/nonpunish\",\n",
    "    5: \"video_end\",\n",
    "    233: \"boundry\",\n",
    "}\n",
    "# 生成时间序列\n",
    "time_range = np.arange(baseline_range[0]-baseline_range[1] + whole_range[0], whole_range[1], 0.001)\n",
    "for i in range(len(subjects)):\n",
    "\n",
    "    # 导入eegepoch数据\n",
    "    ROI_epochs = mne.read_epochs_eeglab(in_path + str(subjects[i]) + '.set')\n",
    "\n",
    "    selected_tags = [tag for tag in ROI_epochs.event_id if '11' in tag or '10' in tag]\n",
    "    pn_epochs = ROI_epochs[selected_tags]\n",
    "\n",
    "    selected_tags = [tag for tag in ROI_epochs.event_id if '31' in tag or '30' in tag]\n",
    "    npn_epochs = ROI_epochs[selected_tags]\n",
    "\n",
    "    ##计算tfr: attention v.s. non-attention in punished trials\n",
    "    tfr_ROI_epoch_pn = tfr_morlet(pn_epochs, freqs=freqs, n_cycles=n_cycles, return_itc=False, average=True, use_fft=True)\n",
    "    tfr_ROI_epoch_npn = tfr_morlet(npn_epochs, freqs=freqs, n_cycles=n_cycles, return_itc=False, average=True, use_fft=True)\n",
    "\n",
    "    baseline_epoches = mne.read_epochs_eeglab(in_path_baseline + str(subjects[i]) + '.set')\n",
    "\n",
    "    selected_tags = [tag for tag in baseline_epoches.event_id if '11' in tag or '10' in tag]\n",
    "    pn_epochs = baseline_epoches[selected_tags]\n",
    "\n",
    "    selected_tags = [tag for tag in baseline_epoches.event_id if '31' in tag or '30' in tag]\n",
    "    npn_epochs = baseline_epoches[selected_tags]\n",
    "    \n",
    "    ##计算tfr: attention v.s. non-attention in punished trials\n",
    "    tfr_ROI_epoch_pn_base = tfr_morlet(pn_epochs, freqs, n_cycles=n_cycles, return_itc=False, average = True, use_fft=True)\n",
    "    tfr_ROI_epoch_npn_base = tfr_morlet(npn_epochs, freqs, n_cycles=n_cycles, return_itc=False, average = True, use_fft=True)\n",
    "\n",
    "    baseline_interval = [0.002, 0.2]\n",
    "    # Crop the baseline interval from the baseline dataset\n",
    "    baseline_epochs_pn = tfr_ROI_epoch_pn_base.copy().crop(tmin=baseline_interval[0], tmax=baseline_interval[1])\n",
    "    baseline_epochs_npn = tfr_ROI_epoch_npn_base.copy().crop(tmin=baseline_interval[0], tmax=baseline_interval[1])\n",
    "    # Apply baseline correction to the main dataset using the cropped baseline interval\n",
    "    \n",
    "    # Concatenate the baseline and main TFR data along the time axis\n",
    "    pn_mean_tfr = np.concatenate((baseline_epochs_pn.data, tfr_ROI_epoch_pn.data), axis=2)\n",
    "    npn_mean_tfr = np.concatenate((baseline_epochs_npn.data, tfr_ROI_epoch_npn.data), axis=2)\n",
    "   \n",
    "\n",
    "    info = mne.create_info(ch_names = ROI_epochs.ch_names, ch_types = 'eeg', sfreq = 1000)\n",
    "    \n",
    "    # 生成mne的tfr文件\n",
    "    all_pn_mean_tfr = mne.time_frequency.AverageTFR(info=info, data=pn_mean_tfr, times=time_range, freqs=freqs, nave=1)\n",
    "    all_npn_mean_tfr = mne.time_frequency.AverageTFR(info=info, data=npn_mean_tfr, times=time_range, freqs=freqs, nave=1)\n",
    "\n",
    "\n",
    "    #baseline correction\n",
    "    #all_pn_mean_tfr.apply_baseline(mode='zlogratio', baseline=(baseline_epochs_pn.times[0], baseline_epochs_pn.times[-1]))\n",
    "    #all_npn_mean_tfr.apply_baseline(mode='zlogratio', baseline=(baseline_epochs_npn.times[0], baseline_epochs_npn.times[-1]))\n",
    "    #baseline correction\n",
    "    all_pn_mean_tfr.apply_baseline(mode='zlogratio', baseline=(-7.2, -7.002))\n",
    "    all_npn_mean_tfr.apply_baseline(mode='zlogratio', baseline=(-7.2, -7.002))\n",
    "    # Get data using get_data() method\n",
    "    #data_pn = epochs_pn.get_data()\n",
    "    #data_npn = epochs_npn.get_data()\n",
    "#####################\n",
    "\n",
    "    # gaussian_filter\n",
    "    smooth_hgb_pn_data = gaussian_filter(data=np.mean(all_pn_mean_tfr.data,axis=1), time_span=time_span, fs=ROI_epochs.info['sfreq'])\n",
    "    smooth_hgb_npn_data = gaussian_filter(data=np.mean(all_npn_mean_tfr.data,axis=1), time_span=time_span, fs=ROI_epochs.info['sfreq'])\n",
    "    # shape: trial, channel, time\n",
    "      \n",
    "    if i == 0:\n",
    "        all_smooth_hgb_pn_data = smooth_hgb_pn_data\n",
    "        all_smooth_hgb_npn_data = smooth_hgb_npn_data\n",
    "        ch_names = np.array(ROI_epochs.ch_names)\n",
    "    else:\n",
    "        all_smooth_hgb_pn_data = np.vstack((all_smooth_hgb_pn_data, smooth_hgb_pn_data))\n",
    "        all_smooth_hgb_npn_data = np.vstack((all_smooth_hgb_npn_data, smooth_hgb_npn_data))\n",
    "        ch_names = np.hstack((ch_names, np.array(ROI_epochs.ch_names)))\n",
    "  "
   ]
  },
  {
   "cell_type": "code",
   "execution_count": 11,
   "metadata": {},
   "outputs": [
    {
     "name": "stdout",
     "output_type": "stream",
     "text": [
      "Using a threshold of 2.024394\n",
      "stat_fun(H1): min=0.6015186483168649 max=3.8874343687834334\n"
     ]
    },
    {
     "name": "stdout",
     "output_type": "stream",
     "text": [
      "Running initial clustering …\n",
      "Found 3 clusters\n"
     ]
    },
    {
     "data": {
      "application/vnd.jupyter.widget-view+json": {
       "model_id": "9cd12608333d46038a0a8f91786fc9a1",
       "version_major": 2,
       "version_minor": 0
      },
      "text/plain": [
       "  0%|          | Permuting : 0/9999 [00:00<?,       ?it/s]"
      ]
     },
     "metadata": {},
     "output_type": "display_data"
    },
    {
     "name": "stdout",
     "output_type": "stream",
     "text": [
      "Using a threshold of 2.024394\n",
      "stat_fun(H1): min=-1.7787821237546035 max=3.110567494006101\n",
      "Running initial clustering …\n",
      "Found 1 cluster\n"
     ]
    },
    {
     "data": {
      "application/vnd.jupyter.widget-view+json": {
       "model_id": "9990e24d3c1c4b7bbca8f1ec6a48e34f",
       "version_major": 2,
       "version_minor": 0
      },
      "text/plain": [
       "  0%|          | Permuting : 0/9999 [00:00<?,       ?it/s]"
      ]
     },
     "metadata": {},
     "output_type": "display_data"
    },
    {
     "name": "stdout",
     "output_type": "stream",
     "text": [
      "Using a threshold of 3.966760\n",
      "stat_fun(H1): min=8.77381619649832e-06 max=9.723946560293399\n",
      "Running initial clustering …\n",
      "Found 2 clusters\n"
     ]
    },
    {
     "name": "stderr",
     "output_type": "stream",
     "text": [
      "/var/folders/9v/hrxf86p91h31ptwdds0f77qw0000gn/T/ipykernel_50381/1177071300.py:27: RuntimeWarning: Ignoring argument \"tail\", performing 1-tailed F-test\n",
      "  T_obs, clusters, cluster_p_values, H0 = mne.stats.permutation_cluster_test([all_smooth_hgb_pn_crop.data, all_smooth_hgb_npn_crop.data],\n"
     ]
    },
    {
     "data": {
      "application/vnd.jupyter.widget-view+json": {
       "model_id": "e7f37275f1da4ebdb12c8864f7e3e7ed",
       "version_major": 2,
       "version_minor": 0
      },
      "text/plain": [
       "  0%|          | Permuting : 0/9999 [00:00<?,       ?it/s]"
      ]
     },
     "metadata": {},
     "output_type": "display_data"
    }
   ],
   "source": [
    "# create a new epochs info\n",
    "info_fast = mne.create_info(ch_names = list(np.arange(all_smooth_hgb_pn_data.shape[0]).astype('str')), ch_types = 'eeg', sfreq = 1000)\n",
    "info_slow = mne.create_info(ch_names = list(np.arange(all_smooth_hgb_npn_data.shape[0]).astype('str')), ch_types = 'eeg', sfreq = 1000)\n",
    "\n",
    "# create a new ROI based epochs\n",
    "all_smooth_hgb_pn = mne.EvokedArray(data = all_smooth_hgb_pn_data, info = info_fast, tmin=-6.8)#改成-6.8\n",
    "all_smooth_hgb_npn = mne.EvokedArray(data = all_smooth_hgb_npn_data, info = info_slow, tmin=-6.8)\n",
    "\n",
    "times = all_smooth_hgb_npn.times\n",
    "\n",
    "all_smooth_hgb_pn_crop = all_smooth_hgb_pn\n",
    "all_smooth_hgb_npn_crop = all_smooth_hgb_npn\n",
    "\n",
    "all_smooth_hgb_pn_crop = all_smooth_hgb_pn_crop.crop(-0.8, 0.1)#看做决策前后哪一段\n",
    "all_smooth_hgb_npn_crop = all_smooth_hgb_npn_crop.crop(-0.8, 0.1) # vmpfc(0, 1.1)\n",
    "\n",
    "n_permutations = 10000\n",
    "\n",
    "# 两种情况下相对于0的显著性\n",
    "T_obs_fast, clusters_fast, cluster_p_values_fast, H0_fast  = mne.stats.permutation_cluster_1samp_test(all_smooth_hgb_pn_crop.data, \n",
    "                                                    out_type='mask',n_permutations=n_permutations, n_jobs=6, tail=0, verbose=None)\n",
    "\n",
    "T_obs_slow, clusters_slow, cluster_p_values_slow, H0_slow  = mne.stats.permutation_cluster_1samp_test(all_smooth_hgb_npn_crop.data, \n",
    "                                                    out_type='mask',n_permutations=n_permutations, n_jobs=6, tail=0, verbose=None)\n",
    "\n",
    "# 两者之间的显著性\n",
    "T_obs, clusters, cluster_p_values, H0 = mne.stats.permutation_cluster_test([all_smooth_hgb_pn_crop.data, all_smooth_hgb_npn_crop.data],\n",
    "                                                                out_type='mask', n_permutations=n_permutations, n_jobs=6,tail=0\n",
    "                                                                ,verbose=None) #, stat_fun=scipy.stats.ttest_ind())\n",
    "\n",
    "# all_smooth_hgb_fast = all_smooth_hgb_fast.crop(-0.1, 1.1)\n",
    "# all_smooth_hgb_slow = all_smooth_hgb_slow.crop(-0.1, 1.1)"
   ]
  },
  {
   "cell_type": "code",
   "execution_count": 82,
   "metadata": {},
   "outputs": [
    {
     "data": {
      "text/plain": [
       "array([], dtype=float64)"
      ]
     },
     "execution_count": 82,
     "metadata": {},
     "output_type": "execute_result"
    }
   ],
   "source": [
    "cluster_p_values"
   ]
  },
  {
   "cell_type": "code",
   "execution_count": 83,
   "metadata": {},
   "outputs": [
    {
     "data": {
      "text/plain": [
       "array([], dtype=float64)"
      ]
     },
     "execution_count": 83,
     "metadata": {},
     "output_type": "execute_result"
    }
   ],
   "source": [
    "clusters"
   ]
  },
  {
   "cell_type": "markdown",
   "metadata": {},
   "source": []
  },
  {
   "cell_type": "markdown",
   "metadata": {},
   "source": [
    "##  Adults"
   ]
  },
  {
   "cell_type": "code",
   "execution_count": 12,
   "metadata": {},
   "outputs": [
    {
     "data": {
      "text/plain": [
       "(array([-1. , -0.8, -0.6, -0.4, -0.2,  0. ,  0.2]),\n",
       " [Text(-1.0, 0, '−1.0'),\n",
       "  Text(-0.8, 0, '−0.8'),\n",
       "  Text(-0.6, 0, '−0.6'),\n",
       "  Text(-0.3999999999999999, 0, '−0.4'),\n",
       "  Text(-0.19999999999999996, 0, '−0.2'),\n",
       "  Text(0.0, 0, '0.0'),\n",
       "  Text(0.20000000000000018, 0, '0.2')])"
      ]
     },
     "execution_count": 12,
     "metadata": {},
     "output_type": "execute_result"
    },
    {
     "data": {
      "image/png": "[encoded data removed]",
      "text/plain": [
       "<Figure size 600x400 with 1 Axes>"
      ]
     },
     "metadata": {},
     "output_type": "display_data"
    }
   ],
   "source": [
    "#line_color = ['#A4132E','#B97979']\n",
    "#line_color = ['#984447','#476C9B'] #original red&blue\n",
    "line_color = ['#F1B84D','#449AD0']\n",
    "# line_color = ['#F3C939','#8CBCE5']\n",
    "figsize=(6,4) \n",
    "title_size=20\n",
    "legend_size=12\n",
    "ticksize = 30\n",
    "subplots_adjust=[0.2, 0.2, 0.85, 0.85]\n",
    "\n",
    "\n",
    "import matplotlib.pyplot as plt\n",
    "import numpy as np\n",
    "import os\n",
    "\n",
    "# if not os.path.exists(result_path):\n",
    "# os.mkdir(result_path)    \n",
    "# # plot for each ROI\n",
    "# for ROI_num in range(len(permutation_cluster_result['ROI_name'])):\n",
    "\n",
    "event_0_line_color = line_color[0]\n",
    "event_1_line_color = line_color[1]\n",
    "\n",
    "# the number of time axis\n",
    "times = all_smooth_hgb_npn.times\n",
    "\n",
    "plt.close('all')\n",
    "plt.rcParams['figure.figsize'] = figsize # 设置figure_size尺寸\n",
    "# plt.title('ROI: '+ roi_name, fontdict={'fontsize':title_size})\n",
    "\n",
    "epoch_mean={}\n",
    "epoch_mean[0] = np.squeeze(np.average(all_smooth_hgb_pn.data, axis=0))#就是每根电极的平均\n",
    "epoch_mean[1] = np.squeeze(np.average(all_smooth_hgb_npn.data, axis=0))\n",
    "\n",
    "plt.plot(times, epoch_mean[0], color=line_color[0], alpha=0.9, linewidth=3) # , linestyle='--')\n",
    "plt.plot(times, epoch_mean[1], color=line_color[1], alpha=0.9, linewidth=3) # , linestyle='--')\n",
    "\n",
    "# 标注哪条线是哪个event\n",
    "#legend_font = {'family': fontproperties}\n",
    "plt.legend(['Intentional', 'Unintentional'], fontsize=legend_size, frameon=False, loc='upper left') #, loc='top')\n",
    "\n",
    "# 画0s时的分割线 \n",
    "# plt.axvline(times[101], c=\"gray\", ls = \"dashed\")\n",
    "plt.axvline(times[800], c=\"gray\", ls = \"dashed\")\n",
    "#plt.plot(times, np.zeros(len(epoch_mean[0])), color=\"gray\", linestyle=\"--\")\n",
    "\n",
    "# 画误差(std),现在的版本是阴影部分代表每根电极\n",
    "std_event0 = np.squeeze(np.std(all_smooth_hgb_pn.data, axis=0))\n",
    "std_event1 = np.squeeze(np.std(all_smooth_hgb_npn.data, axis=0))\n",
    "\n",
    "se_event0 = std_event0/np.sqrt(all_smooth_hgb_pn.data.shape[0])\n",
    "se_event1 = std_event1/np.sqrt(all_smooth_hgb_npn.data.shape[0])\n",
    "\n",
    "plt.fill_between(times, epoch_mean[0] - se_event0, epoch_mean[0] + se_event0, color=line_color[0], alpha=0.3)\n",
    "plt.fill_between(times, epoch_mean[1] - se_event1, epoch_mean[1] + se_event1, color=line_color[1], alpha=0.2)\n",
    "\n",
    "# event 间的显著性\n",
    "for i_c, c in enumerate(clusters):\n",
    "    c = c[0]\n",
    "    if cluster_p_values[i_c] <= 0.05:\n",
    "        plt.axvspan(times[c.start], times[c.stop-1], color='#A4A4A4', alpha=0.15)\n",
    "        #plt.plot(times[c.start : c.stop - 1],  -15e-1* np.ones(len(epoch_mean[0]))[c.start : c.stop-1], color='#A4A4A4', alpha=0.7, linewidth=5)\n",
    "\n",
    "#hf = plt.plot(times, T_obs, 'g')\n",
    "#plt.legend((h, ), ('cluster p-value < 0.05', ))\n",
    "plt.subplots_adjust(left=subplots_adjust[0], bottom=subplots_adjust[1], right=subplots_adjust[2], top=subplots_adjust[3], hspace=0.1,wspace=0.1)\n",
    "\n",
    "plt.xlim([times[0]-0.01, times[-1]+0.01])\n",
    "plt.ylim(-15e-1, 0.2e+1)\n",
    "\n",
    "plt.yticks(size=ticksize)\n",
    "plt.xticks(size=ticksize)\n",
    "\n",
    "spines_width = 2\n",
    "ax=plt.gca()\n",
    "ax.spines['top'].set_linewidth(0)\n",
    "ax.spines['right'].set_linewidth(0)\n",
    "ax.spines['left'].set_linewidth(spines_width)\n",
    "ax.spines['bottom'].set_linewidth(spines_width)\n",
    "# sns.despine()\n",
    "\n",
    "# 坐标轴刻度粗细,朝内\n",
    "plt.rcParams['xtick.major.size'] = 4\n",
    "plt.rcParams['ytick.major.size'] = 4\n",
    "plt.rcParams['xtick.major.width'] = 2\n",
    "plt.rcParams['ytick.major.width'] = 2\n",
    "plt.rcParams['xtick.direction'] = 'in'\n",
    "plt.rcParams['ytick.direction'] = 'in'\n",
    "# plt.set_ylabel(\"Escape Accuracy\", size=ticksize, fontproperties='Arial')\n",
    "\n",
    "labelsize=18\n",
    "plt.xlabel(\"time (s)\", fontsize=labelsize, fontproperties='Arial')\n",
    "plt.ylabel(\"Beta Activity\", size=labelsize, fontproperties='Arial')\n",
    "# plt.ylabel(\"Beta Activity\", size=labelsize, fontproperties='Arial')\n",
    "# 坐标的粗细\n",
    "ticksize=18\n",
    "plt.yticks(fontsize=ticksize, fontproperties='Arial')\n",
    "plt.xticks(fontsize=ticksize, fontproperties='Arial')"
   ]
  },
  {
   "cell_type": "markdown",
   "metadata": {},
   "source": [
    "## Children"
   ]
  },
  {
   "cell_type": "code",
   "execution_count": 165,
   "metadata": {},
   "outputs": [
    {
     "data": {
      "text/plain": [
       "(array([-1. , -0.8, -0.6, -0.4, -0.2,  0. ,  0.2]),\n",
       " [Text(-1.0, 0, '−1.0'),\n",
       "  Text(-0.8, 0, '−0.8'),\n",
       "  Text(-0.6, 0, '−0.6'),\n",
       "  Text(-0.3999999999999999, 0, '−0.4'),\n",
       "  Text(-0.19999999999999996, 0, '−0.2'),\n",
       "  Text(0.0, 0, '0.0'),\n",
       "  Text(0.20000000000000018, 0, '0.2')])"
      ]
     },
     "execution_count": 165,
     "metadata": {},
     "output_type": "execute_result"
    },
    {
     "data": {
      "image/png": "[encoded data removed]",
      "text/plain": [
       "<Figure size 600x400 with 1 Axes>"
      ]
     },
     "metadata": {},
     "output_type": "display_data"
    }
   ],
   "source": [
    "#line_color = ['#A4132E','#B97979']\n",
    "#line_color = ['#984447','#476C9B'] #original red&blue\n",
    "# line_color = ['#F1B84D','#449AD0']\n",
    "line_color = ['#F3C939','#77BFDD']\n",
    "figsize=(6,4) \n",
    "title_size=20\n",
    "legend_size=12\n",
    "ticksize = 20\n",
    "subplots_adjust=[0.2, 0.2, 0.85, 0.85]\n",
    "\n",
    "\n",
    "import matplotlib.pyplot as plt\n",
    "import numpy as np\n",
    "import os\n",
    "\n",
    "# if not os.path.exists(result_path):\n",
    "# os.mkdir(result_path)    \n",
    "# # plot for each ROI\n",
    "# for ROI_num in range(len(permutation_cluster_result['ROI_name'])):\n",
    "\n",
    "event_0_line_color = line_color[0]\n",
    "event_1_line_color = line_color[1]\n",
    "\n",
    "# the number of time axis\n",
    "times = all_smooth_hgb_npn.times\n",
    "\n",
    "plt.close('all')\n",
    "plt.rcParams['figure.figsize'] = figsize # 设置figure_size尺寸\n",
    "# plt.title('ROI: '+ roi_name, fontdict={'fontsize':title_size})\n",
    "\n",
    "epoch_mean={}\n",
    "epoch_mean[0] = np.squeeze(np.average(all_smooth_hgb_pn.data, axis=0))#就是每根电极的平均\n",
    "epoch_mean[1] = np.squeeze(np.average(all_smooth_hgb_npn.data, axis=0))\n",
    "\n",
    "plt.plot(times, epoch_mean[0], color=line_color[0], alpha=0.9, linewidth=3) # , linestyle='--')\n",
    "plt.plot(times, epoch_mean[1], color=line_color[1], alpha=0.9, linewidth=3) # , linestyle='--')\n",
    "\n",
    "# 标注哪条线是哪个event\n",
    "#legend_font = {'family': fontproperties}\n",
    "plt.legend(['Intentional', 'Unintentional'], fontsize=legend_size, frameon=False, loc='upper left') #, loc='top')\n",
    "\n",
    "# 画0s时的分割线 \n",
    "# plt.axvline(times[101], c=\"gray\", ls = \"dashed\")\n",
    "plt.axvline(times[800], c=\"gray\", ls = \"dashed\")\n",
    "#plt.plot(times, np.zeros(len(epoch_mean[0])), color=\"gray\", linestyle=\"--\")\n",
    "\n",
    "# 画误差(std),现在的版本是阴影部分代表每根电极\n",
    "std_event0 = np.squeeze(np.std(all_smooth_hgb_pn.data, axis=0))\n",
    "std_event1 = np.squeeze(np.std(all_smooth_hgb_npn.data, axis=0))\n",
    "\n",
    "se_event0 = std_event0/np.sqrt(all_smooth_hgb_pn.data.shape[0])\n",
    "se_event1 = std_event1/np.sqrt(all_smooth_hgb_npn.data.shape[0])\n",
    "\n",
    "plt.fill_between(times, epoch_mean[0] - se_event0, epoch_mean[0] + se_event0, color=line_color[0], alpha=0.3)\n",
    "plt.fill_between(times, epoch_mean[1] - se_event1, epoch_mean[1] + se_event1, color=line_color[1], alpha=0.2)\n",
    "\n",
    "# event 间的显著性\n",
    "for i_c, c in enumerate(clusters):\n",
    "    c = c[0]\n",
    "    if cluster_p_values[i_c] <= 0.05:\n",
    "        plt.axvspan(times[c.start], times[c.stop-1], color='#A4A4A4', alpha=0.15)\n",
    "        #plt.plot(times[c.start : c.stop - 1],  -20e-1* np.ones(len(epoch_mean[0]))[c.start : c.stop-1], color='#872C78', alpha=0.7, linewidth=10)\n",
    "\n",
    "#hf = plt.plot(times, T_obs, 'g')\n",
    "#plt.legend((h, ), ('cluster p-value < 0.05', ))\n",
    "plt.subplots_adjust(left=subplots_adjust[0], bottom=subplots_adjust[1], right=subplots_adjust[2], top=subplots_adjust[3], hspace=0.1,wspace=0.1)\n",
    "\n",
    "plt.xlim([times[0]-0.01, times[-1]+0.01])\n",
    "plt.ylim(-15e-1, 0.2e+1)\n",
    "\n",
    "# 设置x轴和y轴刻度的字号大小\n",
    "plt.yticks(size=ticksize, fontproperties='Arial')\n",
    "plt.xticks(size=ticksize, fontproperties='Arial')\n",
    "\n",
    "# 设置x轴和y轴刻度的字号大小\n",
    "ax.tick_params(axis='both', which='major', labelsize=30)\n",
    "\n",
    "spines_width = 2\n",
    "ax=plt.gca()\n",
    "ax.spines['top'].set_linewidth(0)\n",
    "ax.spines['right'].set_linewidth(0)\n",
    "ax.spines['left'].set_linewidth(spines_width)\n",
    "ax.spines['bottom'].set_linewidth(spines_width)\n",
    "# sns.despine()\n",
    "\n",
    "# 坐标轴刻度粗细,朝内\n",
    "plt.rcParams['xtick.major.size'] = 4\n",
    "plt.rcParams['ytick.major.size'] = 4\n",
    "plt.rcParams['xtick.major.width'] = 2\n",
    "plt.rcParams['ytick.major.width'] = 2\n",
    "plt.rcParams['xtick.direction'] = 'in'\n",
    "plt.rcParams['ytick.direction'] = 'in'\n",
    "# plt.set_ylabel(\"Escape Accuracy\", size=ticksize, fontproperties='Arial')\n",
    "\n",
    "labelsize=18\n",
    "plt.xlabel(\"time (s)\", fontsize=labelsize, fontproperties='Arial')\n",
    "plt.ylabel(\"Beta Activity\", size=labelsize, fontproperties='Arial')\n",
    "# plt.ylabel(\"Beta Activity\", size=labelsize, fontproperties='Arial')\n",
    "# 坐标的粗细\n",
    "ticksize = 18\n",
    "plt.yticks(size=ticksize, fontproperties='Arial')\n",
    "plt.xticks(size=ticksize, fontproperties='Arial')\n"
   ]
  }
 ],
 "metadata": {
  "kernelspec": {
   "display_name": "neural",
   "language": "python",
   "name": "python3"
  },
  "language_info": {
   "codemirror_mode": {
    "name": "ipython",
    "version": 3
   },
   "file_extension": ".py",
   "mimetype": "text/x-python",
   "name": "python",
   "nbconvert_exporter": "python",
   "pygments_lexer": "ipython3",
   "version": "3.9.18"
  }
 },
 "nbformat": 4,
 "nbformat_minor": 2
}
