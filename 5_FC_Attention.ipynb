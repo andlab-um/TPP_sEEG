{
 "cells": [
  {
   "cell_type": "code",
   "execution_count": 41,
   "metadata": {},
   "outputs": [],
   "source": [
    "import matplotlib.pyplot as plt\n",
    "import nibabel as nib\n",
    "import pandas as pd\n",
    "import numpy as np\n",
    "from tqdm import trange\n",
    "import scipy.io \n",
    "import mne\n",
    "import os\n",
    "import sys\n",
    "psi_out_path = r\"/Users/madwoman/Desktop/tpp_seeg/psi_out/insula_amygdala_BGA_kids/\"\n",
    "os.makedirs(psi_out_path, exist_ok=True)  # 如果路径不存在，则创建\n",
    "\n",
    "# in_roi1_path = r\"E:/workspace/sEEG_slow_fast_attack/roi_data_true/vmpfc/\" # 分析哪个roi就输入哪个文件夹的数据\n",
    "in_roi1_path = r\"/Users/madwoman/Desktop/tpp_seeg/roi_data_1234_kids/insula/\"# 分析哪个roi就输入哪个文件夹的数据\n",
    "in_roi2_path = r\"/Users/madwoman/Desktop/tpp_seeg/roi_data_1234/amygdala_new/\" # 分析哪个roi就输入哪个文件夹的数据\n",
    "in_roi1_baseline = r\"/Users/madwoman/Desktop/tpp_seeg/roi_data_baseline/insula/\" \n",
    "in_roi2_baseline = r\"/Users/madwoman/Desktop/tpp_seeg/roi_data_baseline/amygdala_new/\" \n",
    "\n",
    "roi_name = \"vmpfc-insula\"\n",
    "# time_lag = np.arange(-0.3, 0.31, 0.01)\n",
    "# subjects = [119, 125, 127]  # vmpfc*amy/ins for kids \n",
    "\n",
    "# subjects = [108, 116, 117, 120, 122, 135]  # 同时有 vmpfc 和 insula (120)/amy  \n",
    "\n",
    "# subjects = [108, 112, 113, 116, 117, 122, 130, 135]  # insula 和 amy  \n",
    "subjects = [110, 119, 124, 125, 127, 131, 134] # amy* insula for kids\n",
    "\n",
    "# subjects = [108, 116, 117, 120, 122, 135] # vmpfc  \n",
    "# subjects = [119, 125, 127] # vmpfc for kids \n",
    "# subjects = [108, 113, 117, 120, 122, 135] # ipl  \n",
    "#subjects = [110, 125, 127, 134] # ipl for kids\n",
    "# subjects= [108, 112, 113, 116, 117, 122, 135] # amy 115 \n",
    "# subjects = [110, 119, 124, 125, 127, 131] # amy for kids\n",
    "# subjects = [108, 112, 113, 116, 117, 120, 122, 123, 135] # insula/ai\n",
    "\n",
    "event1 = ['5/11/6','5/10/7']\n",
    "event2 = ['5/31/6','5/30/7']\n",
    "\n"
   ]
  },
  {
   "cell_type": "markdown",
   "metadata": {},
   "source": [
    "## BGA extraction"
   ]
  },
  {
   "cell_type": "code",
   "execution_count": 42,
   "metadata": {},
   "outputs": [
    {
     "name": "stdout",
     "output_type": "stream",
     "text": [
      "Extracting parameters from /Users/madwoman/Desktop/tpp_seeg/roi_data_1234_kids/insula/110.set...\n",
      "Not setting metadata\n",
      "45 matching events found\n",
      "No baseline correction applied\n",
      "0 projection items activated\n",
      "Ready.\n",
      "NOTE: tfr_morlet() is a legacy function. New code should use .compute_tfr(method=\"morlet\").\n"
     ]
    },
    {
     "name": "stderr",
     "output_type": "stream",
     "text": [
      "/var/folders/9v/hrxf86p91h31ptwdds0f77qw0000gn/T/ipykernel_21916/500443317.py:16: RuntimeWarning: At least one epoch has multiple events. Only the latency of the first event will be retained.\n",
      "  ROI_epochs = mne.read_epochs_eeglab(in_roi1_path + str(subjects[i]) + '.set')\n",
      "[Parallel(n_jobs=1)]: Using backend SequentialBackend with 1 concurrent workers.\n",
      "[Parallel(n_jobs=1)]: Done   1 out of   1 | elapsed:    0.1s remaining:    0.0s\n",
      "[Parallel(n_jobs=1)]: Done   2 out of   2 | elapsed:    0.1s remaining:    0.0s\n",
      "[Parallel(n_jobs=1)]: Done   3 out of   3 | elapsed:    0.2s remaining:    0.0s\n",
      "[Parallel(n_jobs=1)]: Done   4 out of   4 | elapsed:    0.3s remaining:    0.0s\n"
     ]
    },
    {
     "name": "stdout",
     "output_type": "stream",
     "text": [
      "NOTE: tfr_morlet() is a legacy function. New code should use .compute_tfr(method=\"morlet\").\n"
     ]
    },
    {
     "name": "stderr",
     "output_type": "stream",
     "text": [
      "[Parallel(n_jobs=1)]: Done  11 out of  11 | elapsed:    0.7s finished\n",
      "[Parallel(n_jobs=1)]: Using backend SequentialBackend with 1 concurrent workers.\n",
      "[Parallel(n_jobs=1)]: Done   1 out of   1 | elapsed:    0.1s remaining:    0.0s\n",
      "[Parallel(n_jobs=1)]: Done   2 out of   2 | elapsed:    0.1s remaining:    0.0s\n",
      "[Parallel(n_jobs=1)]: Done   3 out of   3 | elapsed:    0.2s remaining:    0.0s\n",
      "[Parallel(n_jobs=1)]: Done   4 out of   4 | elapsed:    0.3s remaining:    0.0s\n"
     ]
    },
    {
     "name": "stdout",
     "output_type": "stream",
     "text": [
      "Extracting parameters from /Users/madwoman/Desktop/tpp_seeg/roi_data_baseline/insula/110.set...\n",
      "Not setting metadata\n",
      "48 matching events found\n",
      "No baseline correction applied\n",
      "0 projection items activated\n",
      "Ready.\n",
      "NOTE: tfr_morlet() is a legacy function. New code should use .compute_tfr(method=\"morlet\").\n"
     ]
    },
    {
     "name": "stderr",
     "output_type": "stream",
     "text": [
      "[Parallel(n_jobs=1)]: Done  11 out of  11 | elapsed:    0.8s finished\n",
      "/var/folders/9v/hrxf86p91h31ptwdds0f77qw0000gn/T/ipykernel_21916/500443317.py:31: RuntimeWarning: At least one epoch has multiple events. Only the latency of the first event will be retained.\n",
      "  baseline_epoches1 = mne.read_epochs_eeglab(in_roi1_baseline + str(subjects[i]) + '.set')\n",
      "[Parallel(n_jobs=1)]: Using backend SequentialBackend with 1 concurrent workers.\n",
      "[Parallel(n_jobs=1)]: Done   1 out of   1 | elapsed:    0.1s remaining:    0.0s\n",
      "[Parallel(n_jobs=1)]: Done   2 out of   2 | elapsed:    0.2s remaining:    0.0s\n",
      "[Parallel(n_jobs=1)]: Done   3 out of   3 | elapsed:    0.3s remaining:    0.0s\n",
      "[Parallel(n_jobs=1)]: Done   4 out of   4 | elapsed:    0.4s remaining:    0.0s\n"
     ]
    },
    {
     "name": "stdout",
     "output_type": "stream",
     "text": [
      "NOTE: tfr_morlet() is a legacy function. New code should use .compute_tfr(method=\"morlet\").\n"
     ]
    },
    {
     "name": "stderr",
     "output_type": "stream",
     "text": [
      "[Parallel(n_jobs=1)]: Done  11 out of  11 | elapsed:    1.1s finished\n",
      "[Parallel(n_jobs=1)]: Using backend SequentialBackend with 1 concurrent workers.\n",
      "[Parallel(n_jobs=1)]: Done   1 out of   1 | elapsed:    0.1s remaining:    0.0s\n",
      "[Parallel(n_jobs=1)]: Done   2 out of   2 | elapsed:    0.2s remaining:    0.0s\n",
      "[Parallel(n_jobs=1)]: Done   3 out of   3 | elapsed:    0.3s remaining:    0.0s\n",
      "[Parallel(n_jobs=1)]: Done   4 out of   4 | elapsed:    0.4s remaining:    0.0s\n"
     ]
    },
    {
     "name": "stdout",
     "output_type": "stream",
     "text": [
      "Applying baseline correction (mode: zlogratio)\n",
      "Applying baseline correction (mode: zlogratio)\n",
      "Extracting parameters from /Users/madwoman/Desktop/tpp_seeg/roi_data_1234_kids/insula/119.set...\n",
      "Not setting metadata\n",
      "46 matching events found\n"
     ]
    },
    {
     "name": "stderr",
     "output_type": "stream",
     "text": [
      "[Parallel(n_jobs=1)]: Done  11 out of  11 | elapsed:    1.0s finished\n",
      "/var/folders/9v/hrxf86p91h31ptwdds0f77qw0000gn/T/ipykernel_21916/500443317.py:56: FutureWarning: Parameters \"info\", \"data\", \"times\", \"nave\" are deprecated and will be removed in version 1.8. For a quick fix, use ``AverageTFRArray`` with the same parameters. For a long-term fix, see the docstring notes.\n",
      "  all_pn_mean_tfr = mne.time_frequency.AverageTFR(info=info, data=pn_mean_tfr, times=time_range, freqs=freqs, nave=1)\n",
      "/var/folders/9v/hrxf86p91h31ptwdds0f77qw0000gn/T/ipykernel_21916/500443317.py:57: FutureWarning: Parameters \"info\", \"data\", \"times\", \"nave\" are deprecated and will be removed in version 1.8. For a quick fix, use ``AverageTFRArray`` with the same parameters. For a long-term fix, see the docstring notes.\n",
      "  all_npn_mean_tfr = mne.time_frequency.AverageTFR(info=info, data=npn_mean_tfr, times=time_range, freqs=freqs, nave=1)\n",
      "/var/folders/9v/hrxf86p91h31ptwdds0f77qw0000gn/T/ipykernel_21916/500443317.py:16: RuntimeWarning: At least one epoch has multiple events. Only the latency of the first event will be retained.\n",
      "  ROI_epochs = mne.read_epochs_eeglab(in_roi1_path + str(subjects[i]) + '.set')\n"
     ]
    },
    {
     "name": "stdout",
     "output_type": "stream",
     "text": [
      "No baseline correction applied\n",
      "0 projection items activated\n",
      "Ready.\n",
      "NOTE: tfr_morlet() is a legacy function. New code should use .compute_tfr(method=\"morlet\").\n"
     ]
    },
    {
     "name": "stderr",
     "output_type": "stream",
     "text": [
      "[Parallel(n_jobs=1)]: Using backend SequentialBackend with 1 concurrent workers.\n",
      "[Parallel(n_jobs=1)]: Done   1 out of   1 | elapsed:    0.1s remaining:    0.0s\n",
      "[Parallel(n_jobs=1)]: Done   2 out of   2 | elapsed:    0.1s remaining:    0.0s\n",
      "[Parallel(n_jobs=1)]: Done   3 out of   3 | elapsed:    0.2s remaining:    0.0s\n",
      "[Parallel(n_jobs=1)]: Done   4 out of   4 | elapsed:    0.3s remaining:    0.0s\n"
     ]
    },
    {
     "name": "stdout",
     "output_type": "stream",
     "text": [
      "NOTE: tfr_morlet() is a legacy function. New code should use .compute_tfr(method=\"morlet\").\n"
     ]
    },
    {
     "name": "stderr",
     "output_type": "stream",
     "text": [
      "[Parallel(n_jobs=1)]: Done  10 out of  10 | elapsed:    0.7s finished\n",
      "[Parallel(n_jobs=1)]: Using backend SequentialBackend with 1 concurrent workers.\n",
      "[Parallel(n_jobs=1)]: Done   1 out of   1 | elapsed:    0.1s remaining:    0.0s\n",
      "[Parallel(n_jobs=1)]: Done   2 out of   2 | elapsed:    0.1s remaining:    0.0s\n",
      "[Parallel(n_jobs=1)]: Done   3 out of   3 | elapsed:    0.2s remaining:    0.0s\n",
      "[Parallel(n_jobs=1)]: Done   4 out of   4 | elapsed:    0.2s remaining:    0.0s\n"
     ]
    },
    {
     "name": "stdout",
     "output_type": "stream",
     "text": [
      "Extracting parameters from /Users/madwoman/Desktop/tpp_seeg/roi_data_baseline/insula/119.set...\n",
      "Not setting metadata\n",
      "45 matching events found\n",
      "No baseline correction applied\n",
      "0 projection items activated\n",
      "Ready.\n",
      "NOTE: tfr_morlet() is a legacy function. New code should use .compute_tfr(method=\"morlet\").\n"
     ]
    },
    {
     "name": "stderr",
     "output_type": "stream",
     "text": [
      "[Parallel(n_jobs=1)]: Done  10 out of  10 | elapsed:    0.5s finished\n",
      "/var/folders/9v/hrxf86p91h31ptwdds0f77qw0000gn/T/ipykernel_21916/500443317.py:31: RuntimeWarning: At least one epoch has multiple events. Only the latency of the first event will be retained.\n",
      "  baseline_epoches1 = mne.read_epochs_eeglab(in_roi1_baseline + str(subjects[i]) + '.set')\n",
      "[Parallel(n_jobs=1)]: Using backend SequentialBackend with 1 concurrent workers.\n",
      "[Parallel(n_jobs=1)]: Done   1 out of   1 | elapsed:    0.1s remaining:    0.0s\n",
      "[Parallel(n_jobs=1)]: Done   2 out of   2 | elapsed:    0.2s remaining:    0.0s\n",
      "[Parallel(n_jobs=1)]: Done   3 out of   3 | elapsed:    0.2s remaining:    0.0s\n",
      "[Parallel(n_jobs=1)]: Done   4 out of   4 | elapsed:    0.3s remaining:    0.0s\n"
     ]
    },
    {
     "name": "stdout",
     "output_type": "stream",
     "text": [
      "NOTE: tfr_morlet() is a legacy function. New code should use .compute_tfr(method=\"morlet\").\n"
     ]
    },
    {
     "name": "stderr",
     "output_type": "stream",
     "text": [
      "[Parallel(n_jobs=1)]: Done  10 out of  10 | elapsed:    0.8s finished\n",
      "[Parallel(n_jobs=1)]: Using backend SequentialBackend with 1 concurrent workers.\n",
      "[Parallel(n_jobs=1)]: Done   1 out of   1 | elapsed:    0.1s remaining:    0.0s\n",
      "[Parallel(n_jobs=1)]: Done   2 out of   2 | elapsed:    0.1s remaining:    0.0s\n",
      "[Parallel(n_jobs=1)]: Done   3 out of   3 | elapsed:    0.2s remaining:    0.0s\n",
      "[Parallel(n_jobs=1)]: Done   4 out of   4 | elapsed:    0.3s remaining:    0.0s\n"
     ]
    },
    {
     "name": "stdout",
     "output_type": "stream",
     "text": [
      "Applying baseline correction (mode: zlogratio)\n",
      "Applying baseline correction (mode: zlogratio)\n",
      "Extracting parameters from /Users/madwoman/Desktop/tpp_seeg/roi_data_1234_kids/insula/124.set...\n",
      "Not setting metadata\n",
      "43 matching events found\n",
      "No baseline correction applied\n",
      "0 projection items activated\n",
      "Ready.\n",
      "NOTE: tfr_morlet() is a legacy function. New code should use .compute_tfr(method=\"morlet\").\n"
     ]
    },
    {
     "name": "stderr",
     "output_type": "stream",
     "text": [
      "[Parallel(n_jobs=1)]: Done  10 out of  10 | elapsed:    0.6s finished\n",
      "/var/folders/9v/hrxf86p91h31ptwdds0f77qw0000gn/T/ipykernel_21916/500443317.py:56: FutureWarning: Parameters \"info\", \"data\", \"times\", \"nave\" are deprecated and will be removed in version 1.8. For a quick fix, use ``AverageTFRArray`` with the same parameters. For a long-term fix, see the docstring notes.\n",
      "  all_pn_mean_tfr = mne.time_frequency.AverageTFR(info=info, data=pn_mean_tfr, times=time_range, freqs=freqs, nave=1)\n",
      "/var/folders/9v/hrxf86p91h31ptwdds0f77qw0000gn/T/ipykernel_21916/500443317.py:57: FutureWarning: Parameters \"info\", \"data\", \"times\", \"nave\" are deprecated and will be removed in version 1.8. For a quick fix, use ``AverageTFRArray`` with the same parameters. For a long-term fix, see the docstring notes.\n",
      "  all_npn_mean_tfr = mne.time_frequency.AverageTFR(info=info, data=npn_mean_tfr, times=time_range, freqs=freqs, nave=1)\n",
      "/var/folders/9v/hrxf86p91h31ptwdds0f77qw0000gn/T/ipykernel_21916/500443317.py:16: RuntimeWarning: At least one epoch has multiple events. Only the latency of the first event will be retained.\n",
      "  ROI_epochs = mne.read_epochs_eeglab(in_roi1_path + str(subjects[i]) + '.set')\n",
      "[Parallel(n_jobs=1)]: Using backend SequentialBackend with 1 concurrent workers.\n",
      "[Parallel(n_jobs=1)]: Done   1 out of   1 | elapsed:    0.1s remaining:    0.0s\n"
     ]
    },
    {
     "name": "stdout",
     "output_type": "stream",
     "text": [
      "NOTE: tfr_morlet() is a legacy function. New code should use .compute_tfr(method=\"morlet\").\n"
     ]
    },
    {
     "name": "stderr",
     "output_type": "stream",
     "text": [
      "[Parallel(n_jobs=1)]: Done   2 out of   2 | elapsed:    0.1s remaining:    0.0s\n",
      "[Parallel(n_jobs=1)]: Done   3 out of   3 | elapsed:    0.2s remaining:    0.0s\n",
      "[Parallel(n_jobs=1)]: Done   4 out of   4 | elapsed:    0.3s remaining:    0.0s\n",
      "[Parallel(n_jobs=1)]: Done   4 out of   4 | elapsed:    0.3s finished\n",
      "[Parallel(n_jobs=1)]: Using backend SequentialBackend with 1 concurrent workers.\n",
      "[Parallel(n_jobs=1)]: Done   1 out of   1 | elapsed:    0.1s remaining:    0.0s\n"
     ]
    },
    {
     "name": "stdout",
     "output_type": "stream",
     "text": [
      "Extracting parameters from /Users/madwoman/Desktop/tpp_seeg/roi_data_baseline/insula/124.set...\n",
      "Not setting metadata\n",
      "43 matching events found\n",
      "No baseline correction applied\n",
      "0 projection items activated\n",
      "Ready.\n",
      "NOTE: tfr_morlet() is a legacy function. New code should use .compute_tfr(method=\"morlet\").\n"
     ]
    },
    {
     "name": "stderr",
     "output_type": "stream",
     "text": [
      "[Parallel(n_jobs=1)]: Done   2 out of   2 | elapsed:    0.1s remaining:    0.0s\n",
      "[Parallel(n_jobs=1)]: Done   3 out of   3 | elapsed:    0.2s remaining:    0.0s\n",
      "[Parallel(n_jobs=1)]: Done   4 out of   4 | elapsed:    0.2s remaining:    0.0s\n",
      "[Parallel(n_jobs=1)]: Done   4 out of   4 | elapsed:    0.2s finished\n",
      "/var/folders/9v/hrxf86p91h31ptwdds0f77qw0000gn/T/ipykernel_21916/500443317.py:31: RuntimeWarning: At least one epoch has multiple events. Only the latency of the first event will be retained.\n",
      "  baseline_epoches1 = mne.read_epochs_eeglab(in_roi1_baseline + str(subjects[i]) + '.set')\n",
      "[Parallel(n_jobs=1)]: Using backend SequentialBackend with 1 concurrent workers.\n",
      "[Parallel(n_jobs=1)]: Done   1 out of   1 | elapsed:    0.1s remaining:    0.0s\n",
      "[Parallel(n_jobs=1)]: Done   2 out of   2 | elapsed:    0.2s remaining:    0.0s\n",
      "[Parallel(n_jobs=1)]: Done   3 out of   3 | elapsed:    0.2s remaining:    0.0s\n"
     ]
    },
    {
     "name": "stdout",
     "output_type": "stream",
     "text": [
      "NOTE: tfr_morlet() is a legacy function. New code should use .compute_tfr(method=\"morlet\").\n"
     ]
    },
    {
     "name": "stderr",
     "output_type": "stream",
     "text": [
      "[Parallel(n_jobs=1)]: Done   4 out of   4 | elapsed:    0.3s remaining:    0.0s\n",
      "[Parallel(n_jobs=1)]: Done   4 out of   4 | elapsed:    0.3s finished\n",
      "[Parallel(n_jobs=1)]: Using backend SequentialBackend with 1 concurrent workers.\n",
      "[Parallel(n_jobs=1)]: Done   1 out of   1 | elapsed:    0.1s remaining:    0.0s\n",
      "[Parallel(n_jobs=1)]: Done   2 out of   2 | elapsed:    0.2s remaining:    0.0s\n"
     ]
    },
    {
     "name": "stdout",
     "output_type": "stream",
     "text": [
      "Applying baseline correction (mode: zlogratio)\n",
      "Applying baseline correction (mode: zlogratio)\n",
      "Extracting parameters from /Users/madwoman/Desktop/tpp_seeg/roi_data_1234_kids/insula/125.set...\n",
      "Not setting metadata\n",
      "48 matching events found\n",
      "No baseline correction applied\n",
      "0 projection items activated\n",
      "Ready.\n",
      "NOTE: tfr_morlet() is a legacy function. New code should use .compute_tfr(method=\"morlet\").\n"
     ]
    },
    {
     "name": "stderr",
     "output_type": "stream",
     "text": [
      "[Parallel(n_jobs=1)]: Done   3 out of   3 | elapsed:    0.2s remaining:    0.0s\n",
      "[Parallel(n_jobs=1)]: Done   4 out of   4 | elapsed:    0.3s remaining:    0.0s\n",
      "[Parallel(n_jobs=1)]: Done   4 out of   4 | elapsed:    0.3s finished\n",
      "/var/folders/9v/hrxf86p91h31ptwdds0f77qw0000gn/T/ipykernel_21916/500443317.py:56: FutureWarning: Parameters \"info\", \"data\", \"times\", \"nave\" are deprecated and will be removed in version 1.8. For a quick fix, use ``AverageTFRArray`` with the same parameters. For a long-term fix, see the docstring notes.\n",
      "  all_pn_mean_tfr = mne.time_frequency.AverageTFR(info=info, data=pn_mean_tfr, times=time_range, freqs=freqs, nave=1)\n",
      "/var/folders/9v/hrxf86p91h31ptwdds0f77qw0000gn/T/ipykernel_21916/500443317.py:57: FutureWarning: Parameters \"info\", \"data\", \"times\", \"nave\" are deprecated and will be removed in version 1.8. For a quick fix, use ``AverageTFRArray`` with the same parameters. For a long-term fix, see the docstring notes.\n",
      "  all_npn_mean_tfr = mne.time_frequency.AverageTFR(info=info, data=npn_mean_tfr, times=time_range, freqs=freqs, nave=1)\n",
      "/var/folders/9v/hrxf86p91h31ptwdds0f77qw0000gn/T/ipykernel_21916/500443317.py:16: RuntimeWarning: At least one epoch has multiple events. Only the latency of the first event will be retained.\n",
      "  ROI_epochs = mne.read_epochs_eeglab(in_roi1_path + str(subjects[i]) + '.set')\n",
      "[Parallel(n_jobs=1)]: Using backend SequentialBackend with 1 concurrent workers.\n",
      "[Parallel(n_jobs=1)]: Done   1 out of   1 | elapsed:    0.1s remaining:    0.0s\n",
      "[Parallel(n_jobs=1)]: Done   2 out of   2 | elapsed:    0.1s remaining:    0.0s\n",
      "[Parallel(n_jobs=1)]: Done   3 out of   3 | elapsed:    0.2s remaining:    0.0s\n",
      "[Parallel(n_jobs=1)]: Done   4 out of   4 | elapsed:    0.2s remaining:    0.0s\n"
     ]
    },
    {
     "name": "stdout",
     "output_type": "stream",
     "text": [
      "NOTE: tfr_morlet() is a legacy function. New code should use .compute_tfr(method=\"morlet\").\n"
     ]
    },
    {
     "name": "stderr",
     "output_type": "stream",
     "text": [
      "[Parallel(n_jobs=1)]: Done   9 out of   9 | elapsed:    0.5s finished\n",
      "[Parallel(n_jobs=1)]: Using backend SequentialBackend with 1 concurrent workers.\n",
      "[Parallel(n_jobs=1)]: Done   1 out of   1 | elapsed:    0.1s remaining:    0.0s\n",
      "[Parallel(n_jobs=1)]: Done   2 out of   2 | elapsed:    0.1s remaining:    0.0s\n",
      "[Parallel(n_jobs=1)]: Done   3 out of   3 | elapsed:    0.2s remaining:    0.0s\n",
      "[Parallel(n_jobs=1)]: Done   4 out of   4 | elapsed:    0.2s remaining:    0.0s\n"
     ]
    },
    {
     "name": "stdout",
     "output_type": "stream",
     "text": [
      "Extracting parameters from /Users/madwoman/Desktop/tpp_seeg/roi_data_baseline/insula/125.set...\n",
      "Not setting metadata\n",
      "48 matching events found\n",
      "No baseline correction applied\n",
      "0 projection items activated\n",
      "Ready.\n",
      "NOTE: tfr_morlet() is a legacy function. New code should use .compute_tfr(method=\"morlet\").\n"
     ]
    },
    {
     "name": "stderr",
     "output_type": "stream",
     "text": [
      "[Parallel(n_jobs=1)]: Done   9 out of   9 | elapsed:    0.5s finished\n",
      "/var/folders/9v/hrxf86p91h31ptwdds0f77qw0000gn/T/ipykernel_21916/500443317.py:31: RuntimeWarning: At least one epoch has multiple events. Only the latency of the first event will be retained.\n",
      "  baseline_epoches1 = mne.read_epochs_eeglab(in_roi1_baseline + str(subjects[i]) + '.set')\n",
      "[Parallel(n_jobs=1)]: Using backend SequentialBackend with 1 concurrent workers.\n",
      "[Parallel(n_jobs=1)]: Done   1 out of   1 | elapsed:    0.1s remaining:    0.0s\n",
      "[Parallel(n_jobs=1)]: Done   2 out of   2 | elapsed:    0.2s remaining:    0.0s\n",
      "[Parallel(n_jobs=1)]: Done   3 out of   3 | elapsed:    0.3s remaining:    0.0s\n",
      "[Parallel(n_jobs=1)]: Done   4 out of   4 | elapsed:    0.4s remaining:    0.0s\n"
     ]
    },
    {
     "name": "stdout",
     "output_type": "stream",
     "text": [
      "NOTE: tfr_morlet() is a legacy function. New code should use .compute_tfr(method=\"morlet\").\n"
     ]
    },
    {
     "name": "stderr",
     "output_type": "stream",
     "text": [
      "[Parallel(n_jobs=1)]: Done   9 out of   9 | elapsed:    0.8s finished\n",
      "[Parallel(n_jobs=1)]: Using backend SequentialBackend with 1 concurrent workers.\n",
      "[Parallel(n_jobs=1)]: Done   1 out of   1 | elapsed:    0.1s remaining:    0.0s\n",
      "[Parallel(n_jobs=1)]: Done   2 out of   2 | elapsed:    0.2s remaining:    0.0s\n",
      "[Parallel(n_jobs=1)]: Done   3 out of   3 | elapsed:    0.3s remaining:    0.0s\n",
      "[Parallel(n_jobs=1)]: Done   4 out of   4 | elapsed:    0.4s remaining:    0.0s\n"
     ]
    },
    {
     "name": "stdout",
     "output_type": "stream",
     "text": [
      "Applying baseline correction (mode: zlogratio)\n",
      "Applying baseline correction (mode: zlogratio)\n",
      "Extracting parameters from /Users/madwoman/Desktop/tpp_seeg/roi_data_1234_kids/insula/127.set...\n",
      "Not setting metadata\n",
      "48 matching events found\n"
     ]
    },
    {
     "name": "stderr",
     "output_type": "stream",
     "text": [
      "[Parallel(n_jobs=1)]: Done   9 out of   9 | elapsed:    0.9s finished\n",
      "/var/folders/9v/hrxf86p91h31ptwdds0f77qw0000gn/T/ipykernel_21916/500443317.py:56: FutureWarning: Parameters \"info\", \"data\", \"times\", \"nave\" are deprecated and will be removed in version 1.8. For a quick fix, use ``AverageTFRArray`` with the same parameters. For a long-term fix, see the docstring notes.\n",
      "  all_pn_mean_tfr = mne.time_frequency.AverageTFR(info=info, data=pn_mean_tfr, times=time_range, freqs=freqs, nave=1)\n",
      "/var/folders/9v/hrxf86p91h31ptwdds0f77qw0000gn/T/ipykernel_21916/500443317.py:57: FutureWarning: Parameters \"info\", \"data\", \"times\", \"nave\" are deprecated and will be removed in version 1.8. For a quick fix, use ``AverageTFRArray`` with the same parameters. For a long-term fix, see the docstring notes.\n",
      "  all_npn_mean_tfr = mne.time_frequency.AverageTFR(info=info, data=npn_mean_tfr, times=time_range, freqs=freqs, nave=1)\n",
      "/var/folders/9v/hrxf86p91h31ptwdds0f77qw0000gn/T/ipykernel_21916/500443317.py:16: RuntimeWarning: At least one epoch has multiple events. Only the latency of the first event will be retained.\n",
      "  ROI_epochs = mne.read_epochs_eeglab(in_roi1_path + str(subjects[i]) + '.set')\n"
     ]
    },
    {
     "name": "stdout",
     "output_type": "stream",
     "text": [
      "No baseline correction applied\n",
      "0 projection items activated\n",
      "Ready.\n",
      "NOTE: tfr_morlet() is a legacy function. New code should use .compute_tfr(method=\"morlet\").\n"
     ]
    },
    {
     "name": "stderr",
     "output_type": "stream",
     "text": [
      "[Parallel(n_jobs=1)]: Using backend SequentialBackend with 1 concurrent workers.\n",
      "[Parallel(n_jobs=1)]: Done   1 out of   1 | elapsed:    0.1s remaining:    0.0s\n",
      "[Parallel(n_jobs=1)]: Done   2 out of   2 | elapsed:    0.1s remaining:    0.0s\n",
      "[Parallel(n_jobs=1)]: Done   3 out of   3 | elapsed:    0.3s remaining:    0.0s\n",
      "[Parallel(n_jobs=1)]: Done   4 out of   4 | elapsed:    0.3s remaining:    0.0s\n"
     ]
    },
    {
     "name": "stdout",
     "output_type": "stream",
     "text": [
      "NOTE: tfr_morlet() is a legacy function. New code should use .compute_tfr(method=\"morlet\").\n"
     ]
    },
    {
     "name": "stderr",
     "output_type": "stream",
     "text": [
      "[Parallel(n_jobs=1)]: Done  18 out of  18 | elapsed:    1.3s finished\n",
      "[Parallel(n_jobs=1)]: Using backend SequentialBackend with 1 concurrent workers.\n",
      "[Parallel(n_jobs=1)]: Done   1 out of   1 | elapsed:    0.1s remaining:    0.0s\n",
      "[Parallel(n_jobs=1)]: Done   2 out of   2 | elapsed:    0.1s remaining:    0.0s\n",
      "[Parallel(n_jobs=1)]: Done   3 out of   3 | elapsed:    0.2s remaining:    0.0s\n",
      "[Parallel(n_jobs=1)]: Done   4 out of   4 | elapsed:    0.2s remaining:    0.0s\n"
     ]
    },
    {
     "name": "stdout",
     "output_type": "stream",
     "text": [
      "Extracting parameters from /Users/madwoman/Desktop/tpp_seeg/roi_data_baseline/insula/127.set...\n",
      "Not setting metadata\n",
      "48 matching events found\n",
      "No baseline correction applied\n",
      "0 projection items activated\n",
      "Ready.\n",
      "NOTE: tfr_morlet() is a legacy function. New code should use .compute_tfr(method=\"morlet\").\n"
     ]
    },
    {
     "name": "stderr",
     "output_type": "stream",
     "text": [
      "[Parallel(n_jobs=1)]: Done  18 out of  18 | elapsed:    1.1s finished\n",
      "/var/folders/9v/hrxf86p91h31ptwdds0f77qw0000gn/T/ipykernel_21916/500443317.py:31: RuntimeWarning: At least one epoch has multiple events. Only the latency of the first event will be retained.\n",
      "  baseline_epoches1 = mne.read_epochs_eeglab(in_roi1_baseline + str(subjects[i]) + '.set')\n",
      "[Parallel(n_jobs=1)]: Using backend SequentialBackend with 1 concurrent workers.\n",
      "[Parallel(n_jobs=1)]: Done   1 out of   1 | elapsed:    0.1s remaining:    0.0s\n",
      "[Parallel(n_jobs=1)]: Done   2 out of   2 | elapsed:    0.2s remaining:    0.0s\n",
      "[Parallel(n_jobs=1)]: Done   3 out of   3 | elapsed:    0.3s remaining:    0.0s\n",
      "[Parallel(n_jobs=1)]: Done   4 out of   4 | elapsed:    0.4s remaining:    0.0s\n"
     ]
    },
    {
     "name": "stdout",
     "output_type": "stream",
     "text": [
      "NOTE: tfr_morlet() is a legacy function. New code should use .compute_tfr(method=\"morlet\").\n"
     ]
    },
    {
     "name": "stderr",
     "output_type": "stream",
     "text": [
      "[Parallel(n_jobs=1)]: Done  18 out of  18 | elapsed:    1.8s finished\n",
      "[Parallel(n_jobs=1)]: Using backend SequentialBackend with 1 concurrent workers.\n",
      "[Parallel(n_jobs=1)]: Done   1 out of   1 | elapsed:    0.1s remaining:    0.0s\n",
      "[Parallel(n_jobs=1)]: Done   2 out of   2 | elapsed:    0.2s remaining:    0.0s\n",
      "[Parallel(n_jobs=1)]: Done   3 out of   3 | elapsed:    0.3s remaining:    0.0s\n",
      "[Parallel(n_jobs=1)]: Done   4 out of   4 | elapsed:    0.3s remaining:    0.0s\n",
      "[Parallel(n_jobs=1)]: Done  18 out of  18 | elapsed:    1.6s finished\n"
     ]
    },
    {
     "name": "stdout",
     "output_type": "stream",
     "text": [
      "Applying baseline correction (mode: zlogratio)\n",
      "Applying baseline correction (mode: zlogratio)\n",
      "Extracting parameters from /Users/madwoman/Desktop/tpp_seeg/roi_data_1234_kids/insula/131.set...\n",
      "Not setting metadata\n",
      "46 matching events found\n",
      "No baseline correction applied\n",
      "0 projection items activated\n",
      "Ready.\n",
      "NOTE: tfr_morlet() is a legacy function. New code should use .compute_tfr(method=\"morlet\").\n"
     ]
    },
    {
     "name": "stderr",
     "output_type": "stream",
     "text": [
      "/var/folders/9v/hrxf86p91h31ptwdds0f77qw0000gn/T/ipykernel_21916/500443317.py:56: FutureWarning: Parameters \"info\", \"data\", \"times\", \"nave\" are deprecated and will be removed in version 1.8. For a quick fix, use ``AverageTFRArray`` with the same parameters. For a long-term fix, see the docstring notes.\n",
      "  all_pn_mean_tfr = mne.time_frequency.AverageTFR(info=info, data=pn_mean_tfr, times=time_range, freqs=freqs, nave=1)\n",
      "/var/folders/9v/hrxf86p91h31ptwdds0f77qw0000gn/T/ipykernel_21916/500443317.py:57: FutureWarning: Parameters \"info\", \"data\", \"times\", \"nave\" are deprecated and will be removed in version 1.8. For a quick fix, use ``AverageTFRArray`` with the same parameters. For a long-term fix, see the docstring notes.\n",
      "  all_npn_mean_tfr = mne.time_frequency.AverageTFR(info=info, data=npn_mean_tfr, times=time_range, freqs=freqs, nave=1)\n",
      "/var/folders/9v/hrxf86p91h31ptwdds0f77qw0000gn/T/ipykernel_21916/500443317.py:16: RuntimeWarning: At least one epoch has multiple events. Only the latency of the first event will be retained.\n",
      "  ROI_epochs = mne.read_epochs_eeglab(in_roi1_path + str(subjects[i]) + '.set')\n",
      "[Parallel(n_jobs=1)]: Using backend SequentialBackend with 1 concurrent workers.\n",
      "[Parallel(n_jobs=1)]: Done   1 out of   1 | elapsed:    0.1s remaining:    0.0s\n",
      "[Parallel(n_jobs=1)]: Done   2 out of   2 | elapsed:    0.1s remaining:    0.0s\n",
      "[Parallel(n_jobs=1)]: Done   3 out of   3 | elapsed:    0.2s remaining:    0.0s\n",
      "[Parallel(n_jobs=1)]: Done   4 out of   4 | elapsed:    0.2s remaining:    0.0s\n"
     ]
    },
    {
     "name": "stdout",
     "output_type": "stream",
     "text": [
      "NOTE: tfr_morlet() is a legacy function. New code should use .compute_tfr(method=\"morlet\").\n"
     ]
    },
    {
     "name": "stderr",
     "output_type": "stream",
     "text": [
      "[Parallel(n_jobs=1)]: Done  11 out of  11 | elapsed:    0.7s finished\n",
      "[Parallel(n_jobs=1)]: Using backend SequentialBackend with 1 concurrent workers.\n",
      "[Parallel(n_jobs=1)]: Done   1 out of   1 | elapsed:    0.1s remaining:    0.0s\n",
      "[Parallel(n_jobs=1)]: Done   2 out of   2 | elapsed:    0.1s remaining:    0.0s\n",
      "[Parallel(n_jobs=1)]: Done   3 out of   3 | elapsed:    0.2s remaining:    0.0s\n",
      "[Parallel(n_jobs=1)]: Done   4 out of   4 | elapsed:    0.3s remaining:    0.0s\n"
     ]
    },
    {
     "name": "stdout",
     "output_type": "stream",
     "text": [
      "Extracting parameters from /Users/madwoman/Desktop/tpp_seeg/roi_data_baseline/insula/131.set...\n",
      "Not setting metadata\n",
      "46 matching events found\n",
      "No baseline correction applied\n",
      "0 projection items activated\n",
      "Ready.\n",
      "NOTE: tfr_morlet() is a legacy function. New code should use .compute_tfr(method=\"morlet\").\n"
     ]
    },
    {
     "name": "stderr",
     "output_type": "stream",
     "text": [
      "[Parallel(n_jobs=1)]: Done  11 out of  11 | elapsed:    0.7s finished\n",
      "/var/folders/9v/hrxf86p91h31ptwdds0f77qw0000gn/T/ipykernel_21916/500443317.py:31: RuntimeWarning: At least one epoch has multiple events. Only the latency of the first event will be retained.\n",
      "  baseline_epoches1 = mne.read_epochs_eeglab(in_roi1_baseline + str(subjects[i]) + '.set')\n",
      "[Parallel(n_jobs=1)]: Using backend SequentialBackend with 1 concurrent workers.\n",
      "[Parallel(n_jobs=1)]: Done   1 out of   1 | elapsed:    0.1s remaining:    0.0s\n",
      "[Parallel(n_jobs=1)]: Done   2 out of   2 | elapsed:    0.2s remaining:    0.0s\n",
      "[Parallel(n_jobs=1)]: Done   3 out of   3 | elapsed:    0.3s remaining:    0.0s\n",
      "[Parallel(n_jobs=1)]: Done   4 out of   4 | elapsed:    0.3s remaining:    0.0s\n"
     ]
    },
    {
     "name": "stdout",
     "output_type": "stream",
     "text": [
      "NOTE: tfr_morlet() is a legacy function. New code should use .compute_tfr(method=\"morlet\").\n"
     ]
    },
    {
     "name": "stderr",
     "output_type": "stream",
     "text": [
      "[Parallel(n_jobs=1)]: Done  11 out of  11 | elapsed:    0.9s finished\n",
      "[Parallel(n_jobs=1)]: Using backend SequentialBackend with 1 concurrent workers.\n",
      "[Parallel(n_jobs=1)]: Done   1 out of   1 | elapsed:    0.1s remaining:    0.0s\n",
      "[Parallel(n_jobs=1)]: Done   2 out of   2 | elapsed:    0.2s remaining:    0.0s\n",
      "[Parallel(n_jobs=1)]: Done   3 out of   3 | elapsed:    0.3s remaining:    0.0s\n",
      "[Parallel(n_jobs=1)]: Done   4 out of   4 | elapsed:    0.3s remaining:    0.0s\n"
     ]
    },
    {
     "name": "stdout",
     "output_type": "stream",
     "text": [
      "Applying baseline correction (mode: zlogratio)\n",
      "Applying baseline correction (mode: zlogratio)\n",
      "Extracting parameters from /Users/madwoman/Desktop/tpp_seeg/roi_data_1234_kids/insula/134.set...\n",
      "Not setting metadata\n",
      "48 matching events found\n",
      "No baseline correction applied\n",
      "0 projection items activated\n",
      "Ready.\n",
      "NOTE: tfr_morlet() is a legacy function. New code should use .compute_tfr(method=\"morlet\").\n"
     ]
    },
    {
     "name": "stderr",
     "output_type": "stream",
     "text": [
      "[Parallel(n_jobs=1)]: Done  11 out of  11 | elapsed:    0.9s finished\n",
      "/var/folders/9v/hrxf86p91h31ptwdds0f77qw0000gn/T/ipykernel_21916/500443317.py:56: FutureWarning: Parameters \"info\", \"data\", \"times\", \"nave\" are deprecated and will be removed in version 1.8. For a quick fix, use ``AverageTFRArray`` with the same parameters. For a long-term fix, see the docstring notes.\n",
      "  all_pn_mean_tfr = mne.time_frequency.AverageTFR(info=info, data=pn_mean_tfr, times=time_range, freqs=freqs, nave=1)\n",
      "/var/folders/9v/hrxf86p91h31ptwdds0f77qw0000gn/T/ipykernel_21916/500443317.py:57: FutureWarning: Parameters \"info\", \"data\", \"times\", \"nave\" are deprecated and will be removed in version 1.8. For a quick fix, use ``AverageTFRArray`` with the same parameters. For a long-term fix, see the docstring notes.\n",
      "  all_npn_mean_tfr = mne.time_frequency.AverageTFR(info=info, data=npn_mean_tfr, times=time_range, freqs=freqs, nave=1)\n",
      "/var/folders/9v/hrxf86p91h31ptwdds0f77qw0000gn/T/ipykernel_21916/500443317.py:16: RuntimeWarning: At least one epoch has multiple events. Only the latency of the first event will be retained.\n",
      "  ROI_epochs = mne.read_epochs_eeglab(in_roi1_path + str(subjects[i]) + '.set')\n",
      "[Parallel(n_jobs=1)]: Using backend SequentialBackend with 1 concurrent workers.\n",
      "[Parallel(n_jobs=1)]: Done   1 out of   1 | elapsed:    0.1s remaining:    0.0s\n"
     ]
    },
    {
     "name": "stdout",
     "output_type": "stream",
     "text": [
      "NOTE: tfr_morlet() is a legacy function. New code should use .compute_tfr(method=\"morlet\").\n"
     ]
    },
    {
     "name": "stderr",
     "output_type": "stream",
     "text": [
      "[Parallel(n_jobs=1)]: Done   2 out of   2 | elapsed:    0.1s remaining:    0.0s\n",
      "[Parallel(n_jobs=1)]: Done   3 out of   3 | elapsed:    0.2s remaining:    0.0s\n",
      "[Parallel(n_jobs=1)]: Done   4 out of   4 | elapsed:    0.2s remaining:    0.0s\n",
      "[Parallel(n_jobs=1)]: Done   4 out of   4 | elapsed:    0.2s finished\n",
      "[Parallel(n_jobs=1)]: Using backend SequentialBackend with 1 concurrent workers.\n",
      "[Parallel(n_jobs=1)]: Done   1 out of   1 | elapsed:    0.1s remaining:    0.0s\n"
     ]
    },
    {
     "name": "stdout",
     "output_type": "stream",
     "text": [
      "Extracting parameters from /Users/madwoman/Desktop/tpp_seeg/roi_data_baseline/insula/134.set...\n",
      "Not setting metadata\n",
      "48 matching events found\n",
      "No baseline correction applied\n",
      "0 projection items activated\n",
      "Ready.\n",
      "NOTE: tfr_morlet() is a legacy function. New code should use .compute_tfr(method=\"morlet\").\n"
     ]
    },
    {
     "name": "stderr",
     "output_type": "stream",
     "text": [
      "[Parallel(n_jobs=1)]: Done   2 out of   2 | elapsed:    0.1s remaining:    0.0s\n",
      "[Parallel(n_jobs=1)]: Done   3 out of   3 | elapsed:    0.2s remaining:    0.0s\n",
      "[Parallel(n_jobs=1)]: Done   4 out of   4 | elapsed:    0.2s remaining:    0.0s\n",
      "[Parallel(n_jobs=1)]: Done   4 out of   4 | elapsed:    0.2s finished\n",
      "/var/folders/9v/hrxf86p91h31ptwdds0f77qw0000gn/T/ipykernel_21916/500443317.py:31: RuntimeWarning: At least one epoch has multiple events. Only the latency of the first event will be retained.\n",
      "  baseline_epoches1 = mne.read_epochs_eeglab(in_roi1_baseline + str(subjects[i]) + '.set')\n",
      "[Parallel(n_jobs=1)]: Using backend SequentialBackend with 1 concurrent workers.\n",
      "[Parallel(n_jobs=1)]: Done   1 out of   1 | elapsed:    0.1s remaining:    0.0s\n",
      "[Parallel(n_jobs=1)]: Done   2 out of   2 | elapsed:    0.2s remaining:    0.0s\n"
     ]
    },
    {
     "name": "stdout",
     "output_type": "stream",
     "text": [
      "NOTE: tfr_morlet() is a legacy function. New code should use .compute_tfr(method=\"morlet\").\n"
     ]
    },
    {
     "name": "stderr",
     "output_type": "stream",
     "text": [
      "[Parallel(n_jobs=1)]: Done   3 out of   3 | elapsed:    0.3s remaining:    0.0s\n",
      "[Parallel(n_jobs=1)]: Done   4 out of   4 | elapsed:    0.4s remaining:    0.0s\n",
      "[Parallel(n_jobs=1)]: Done   4 out of   4 | elapsed:    0.4s finished\n",
      "[Parallel(n_jobs=1)]: Using backend SequentialBackend with 1 concurrent workers.\n",
      "[Parallel(n_jobs=1)]: Done   1 out of   1 | elapsed:    0.1s remaining:    0.0s\n",
      "[Parallel(n_jobs=1)]: Done   2 out of   2 | elapsed:    0.2s remaining:    0.0s\n"
     ]
    },
    {
     "name": "stdout",
     "output_type": "stream",
     "text": [
      "Applying baseline correction (mode: zlogratio)\n",
      "Applying baseline correction (mode: zlogratio)\n",
      "Extracting parameters from /Users/madwoman/Desktop/tpp_seeg/roi_data_1234/amygdala_new/110.set...\n",
      "Not setting metadata\n",
      "45 matching events found\n",
      "No baseline correction applied\n",
      "0 projection items activated\n",
      "Ready.\n",
      "NOTE: tfr_morlet() is a legacy function. New code should use .compute_tfr(method=\"morlet\").\n"
     ]
    },
    {
     "name": "stderr",
     "output_type": "stream",
     "text": [
      "[Parallel(n_jobs=1)]: Done   3 out of   3 | elapsed:    0.3s remaining:    0.0s\n",
      "[Parallel(n_jobs=1)]: Done   4 out of   4 | elapsed:    0.4s remaining:    0.0s\n",
      "[Parallel(n_jobs=1)]: Done   4 out of   4 | elapsed:    0.4s finished\n",
      "/var/folders/9v/hrxf86p91h31ptwdds0f77qw0000gn/T/ipykernel_21916/500443317.py:56: FutureWarning: Parameters \"info\", \"data\", \"times\", \"nave\" are deprecated and will be removed in version 1.8. For a quick fix, use ``AverageTFRArray`` with the same parameters. For a long-term fix, see the docstring notes.\n",
      "  all_pn_mean_tfr = mne.time_frequency.AverageTFR(info=info, data=pn_mean_tfr, times=time_range, freqs=freqs, nave=1)\n",
      "/var/folders/9v/hrxf86p91h31ptwdds0f77qw0000gn/T/ipykernel_21916/500443317.py:57: FutureWarning: Parameters \"info\", \"data\", \"times\", \"nave\" are deprecated and will be removed in version 1.8. For a quick fix, use ``AverageTFRArray`` with the same parameters. For a long-term fix, see the docstring notes.\n",
      "  all_npn_mean_tfr = mne.time_frequency.AverageTFR(info=info, data=npn_mean_tfr, times=time_range, freqs=freqs, nave=1)\n",
      "/var/folders/9v/hrxf86p91h31ptwdds0f77qw0000gn/T/ipykernel_21916/500443317.py:79: RuntimeWarning: At least one epoch has multiple events. Only the latency of the first event will be retained.\n",
      "  ROI_epochs = mne.read_epochs_eeglab(in_roi2_path + str(subjects[i]) + '.set')\n",
      "[Parallel(n_jobs=1)]: Using backend SequentialBackend with 1 concurrent workers.\n"
     ]
    },
    {
     "name": "stdout",
     "output_type": "stream",
     "text": [
      "NOTE: tfr_morlet() is a legacy function. New code should use .compute_tfr(method=\"morlet\").\n"
     ]
    },
    {
     "name": "stderr",
     "output_type": "stream",
     "text": [
      "[Parallel(n_jobs=1)]: Done   1 out of   1 | elapsed:    0.1s remaining:    0.0s\n",
      "[Parallel(n_jobs=1)]: Done   2 out of   2 | elapsed:    0.1s remaining:    0.0s\n",
      "[Parallel(n_jobs=1)]: Done   3 out of   3 | elapsed:    0.2s remaining:    0.0s\n",
      "[Parallel(n_jobs=1)]: Done   3 out of   3 | elapsed:    0.2s finished\n",
      "[Parallel(n_jobs=1)]: Using backend SequentialBackend with 1 concurrent workers.\n",
      "[Parallel(n_jobs=1)]: Done   1 out of   1 | elapsed:    0.1s remaining:    0.0s\n"
     ]
    },
    {
     "name": "stdout",
     "output_type": "stream",
     "text": [
      "Extracting parameters from /Users/madwoman/Desktop/tpp_seeg/roi_data_baseline/amygdala_new/110.set...\n",
      "Not setting metadata\n",
      "48 matching events found\n",
      "No baseline correction applied\n",
      "0 projection items activated\n",
      "Ready.\n",
      "NOTE: tfr_morlet() is a legacy function. New code should use .compute_tfr(method=\"morlet\").\n"
     ]
    },
    {
     "name": "stderr",
     "output_type": "stream",
     "text": [
      "[Parallel(n_jobs=1)]: Done   2 out of   2 | elapsed:    0.1s remaining:    0.0s\n",
      "[Parallel(n_jobs=1)]: Done   3 out of   3 | elapsed:    0.2s remaining:    0.0s\n",
      "[Parallel(n_jobs=1)]: Done   3 out of   3 | elapsed:    0.2s finished\n",
      "/var/folders/9v/hrxf86p91h31ptwdds0f77qw0000gn/T/ipykernel_21916/500443317.py:93: RuntimeWarning: At least one epoch has multiple events. Only the latency of the first event will be retained.\n",
      "  baseline_epoches2 = mne.read_epochs_eeglab(in_roi2_baseline + str(subjects[i]) + '.set')\n",
      "[Parallel(n_jobs=1)]: Using backend SequentialBackend with 1 concurrent workers.\n"
     ]
    },
    {
     "name": "stdout",
     "output_type": "stream",
     "text": [
      "NOTE: tfr_morlet() is a legacy function. New code should use .compute_tfr(method=\"morlet\").\n"
     ]
    },
    {
     "name": "stderr",
     "output_type": "stream",
     "text": [
      "[Parallel(n_jobs=1)]: Done   1 out of   1 | elapsed:    0.1s remaining:    0.0s\n",
      "[Parallel(n_jobs=1)]: Done   2 out of   2 | elapsed:    0.2s remaining:    0.0s\n",
      "[Parallel(n_jobs=1)]: Done   3 out of   3 | elapsed:    0.3s remaining:    0.0s\n",
      "[Parallel(n_jobs=1)]: Done   3 out of   3 | elapsed:    0.3s finished\n",
      "[Parallel(n_jobs=1)]: Using backend SequentialBackend with 1 concurrent workers.\n",
      "[Parallel(n_jobs=1)]: Done   1 out of   1 | elapsed:    0.1s remaining:    0.0s\n",
      "[Parallel(n_jobs=1)]: Done   2 out of   2 | elapsed:    0.2s remaining:    0.0s\n",
      "[Parallel(n_jobs=1)]: Done   3 out of   3 | elapsed:    0.3s remaining:    0.0s\n",
      "[Parallel(n_jobs=1)]: Done   3 out of   3 | elapsed:    0.3s finished\n",
      "/var/folders/9v/hrxf86p91h31ptwdds0f77qw0000gn/T/ipykernel_21916/500443317.py:118: FutureWarning: Parameters \"info\", \"data\", \"times\", \"nave\" are deprecated and will be removed in version 1.8. For a quick fix, use ``AverageTFRArray`` with the same parameters. For a long-term fix, see the docstring notes.\n",
      "  all_pn_mean_tfr = mne.time_frequency.AverageTFR(info=info, data=pn_mean_tfr, times=time_range, freqs=freqs, nave=1)\n",
      "/var/folders/9v/hrxf86p91h31ptwdds0f77qw0000gn/T/ipykernel_21916/500443317.py:119: FutureWarning: Parameters \"info\", \"data\", \"times\", \"nave\" are deprecated and will be removed in version 1.8. For a quick fix, use ``AverageTFRArray`` with the same parameters. For a long-term fix, see the docstring notes.\n",
      "  all_npn_mean_tfr = mne.time_frequency.AverageTFR(info=info, data=npn_mean_tfr, times=time_range, freqs=freqs, nave=1)\n"
     ]
    },
    {
     "name": "stdout",
     "output_type": "stream",
     "text": [
      "Applying baseline correction (mode: zlogratio)\n",
      "Applying baseline correction (mode: zlogratio)\n",
      "Extracting parameters from /Users/madwoman/Desktop/tpp_seeg/roi_data_1234/amygdala_new/119.set...\n",
      "Not setting metadata\n",
      "46 matching events found\n",
      "No baseline correction applied\n",
      "0 projection items activated\n",
      "Ready.\n",
      "NOTE: tfr_morlet() is a legacy function. New code should use .compute_tfr(method=\"morlet\").\n"
     ]
    },
    {
     "name": "stderr",
     "output_type": "stream",
     "text": [
      "/var/folders/9v/hrxf86p91h31ptwdds0f77qw0000gn/T/ipykernel_21916/500443317.py:79: RuntimeWarning: At least one epoch has multiple events. Only the latency of the first event will be retained.\n",
      "  ROI_epochs = mne.read_epochs_eeglab(in_roi2_path + str(subjects[i]) + '.set')\n",
      "[Parallel(n_jobs=1)]: Using backend SequentialBackend with 1 concurrent workers.\n",
      "[Parallel(n_jobs=1)]: Done   1 out of   1 | elapsed:    0.1s remaining:    0.0s\n",
      "[Parallel(n_jobs=1)]: Done   2 out of   2 | elapsed:    0.1s remaining:    0.0s\n",
      "[Parallel(n_jobs=1)]: Done   3 out of   3 | elapsed:    0.2s remaining:    0.0s\n"
     ]
    },
    {
     "name": "stdout",
     "output_type": "stream",
     "text": [
      "NOTE: tfr_morlet() is a legacy function. New code should use .compute_tfr(method=\"morlet\").\n"
     ]
    },
    {
     "name": "stderr",
     "output_type": "stream",
     "text": [
      "[Parallel(n_jobs=1)]: Done   4 out of   4 | elapsed:    0.2s remaining:    0.0s\n",
      "[Parallel(n_jobs=1)]: Done   4 out of   4 | elapsed:    0.2s finished\n",
      "[Parallel(n_jobs=1)]: Using backend SequentialBackend with 1 concurrent workers.\n",
      "[Parallel(n_jobs=1)]: Done   1 out of   1 | elapsed:    0.0s remaining:    0.0s\n",
      "[Parallel(n_jobs=1)]: Done   2 out of   2 | elapsed:    0.1s remaining:    0.0s\n",
      "[Parallel(n_jobs=1)]: Done   3 out of   3 | elapsed:    0.1s remaining:    0.0s\n"
     ]
    },
    {
     "name": "stdout",
     "output_type": "stream",
     "text": [
      "Extracting parameters from /Users/madwoman/Desktop/tpp_seeg/roi_data_baseline/amygdala_new/119.set...\n",
      "Not setting metadata\n",
      "46 matching events found\n",
      "No baseline correction applied\n",
      "0 projection items activated\n",
      "Ready.\n",
      "NOTE: tfr_morlet() is a legacy function. New code should use .compute_tfr(method=\"morlet\").\n"
     ]
    },
    {
     "name": "stderr",
     "output_type": "stream",
     "text": [
      "[Parallel(n_jobs=1)]: Done   4 out of   4 | elapsed:    0.2s remaining:    0.0s\n",
      "[Parallel(n_jobs=1)]: Done   4 out of   4 | elapsed:    0.2s finished\n",
      "/var/folders/9v/hrxf86p91h31ptwdds0f77qw0000gn/T/ipykernel_21916/500443317.py:93: RuntimeWarning: At least one epoch has multiple events. Only the latency of the first event will be retained.\n",
      "  baseline_epoches2 = mne.read_epochs_eeglab(in_roi2_baseline + str(subjects[i]) + '.set')\n",
      "[Parallel(n_jobs=1)]: Using backend SequentialBackend with 1 concurrent workers.\n",
      "[Parallel(n_jobs=1)]: Done   1 out of   1 | elapsed:    0.1s remaining:    0.0s\n"
     ]
    },
    {
     "name": "stdout",
     "output_type": "stream",
     "text": [
      "NOTE: tfr_morlet() is a legacy function. New code should use .compute_tfr(method=\"morlet\").\n"
     ]
    },
    {
     "name": "stderr",
     "output_type": "stream",
     "text": [
      "[Parallel(n_jobs=1)]: Done   2 out of   2 | elapsed:    0.2s remaining:    0.0s\n",
      "[Parallel(n_jobs=1)]: Done   3 out of   3 | elapsed:    0.3s remaining:    0.0s\n",
      "[Parallel(n_jobs=1)]: Done   4 out of   4 | elapsed:    0.3s remaining:    0.0s\n",
      "[Parallel(n_jobs=1)]: Done   4 out of   4 | elapsed:    0.3s finished\n",
      "[Parallel(n_jobs=1)]: Using backend SequentialBackend with 1 concurrent workers.\n",
      "[Parallel(n_jobs=1)]: Done   1 out of   1 | elapsed:    0.1s remaining:    0.0s\n",
      "[Parallel(n_jobs=1)]: Done   2 out of   2 | elapsed:    0.1s remaining:    0.0s\n",
      "[Parallel(n_jobs=1)]: Done   3 out of   3 | elapsed:    0.2s remaining:    0.0s\n",
      "[Parallel(n_jobs=1)]: Done   4 out of   4 | elapsed:    0.3s remaining:    0.0s\n",
      "[Parallel(n_jobs=1)]: Done   4 out of   4 | elapsed:    0.3s finished\n"
     ]
    },
    {
     "name": "stdout",
     "output_type": "stream",
     "text": [
      "Applying baseline correction (mode: zlogratio)\n",
      "Applying baseline correction (mode: zlogratio)\n",
      "Extracting parameters from /Users/madwoman/Desktop/tpp_seeg/roi_data_1234/amygdala_new/124.set...\n",
      "Not setting metadata\n",
      "43 matching events found\n",
      "No baseline correction applied\n",
      "0 projection items activated\n",
      "Ready.\n",
      "NOTE: tfr_morlet() is a legacy function. New code should use .compute_tfr(method=\"morlet\").\n"
     ]
    },
    {
     "name": "stderr",
     "output_type": "stream",
     "text": [
      "/var/folders/9v/hrxf86p91h31ptwdds0f77qw0000gn/T/ipykernel_21916/500443317.py:118: FutureWarning: Parameters \"info\", \"data\", \"times\", \"nave\" are deprecated and will be removed in version 1.8. For a quick fix, use ``AverageTFRArray`` with the same parameters. For a long-term fix, see the docstring notes.\n",
      "  all_pn_mean_tfr = mne.time_frequency.AverageTFR(info=info, data=pn_mean_tfr, times=time_range, freqs=freqs, nave=1)\n",
      "/var/folders/9v/hrxf86p91h31ptwdds0f77qw0000gn/T/ipykernel_21916/500443317.py:119: FutureWarning: Parameters \"info\", \"data\", \"times\", \"nave\" are deprecated and will be removed in version 1.8. For a quick fix, use ``AverageTFRArray`` with the same parameters. For a long-term fix, see the docstring notes.\n",
      "  all_npn_mean_tfr = mne.time_frequency.AverageTFR(info=info, data=npn_mean_tfr, times=time_range, freqs=freqs, nave=1)\n",
      "/var/folders/9v/hrxf86p91h31ptwdds0f77qw0000gn/T/ipykernel_21916/500443317.py:79: RuntimeWarning: At least one epoch has multiple events. Only the latency of the first event will be retained.\n",
      "  ROI_epochs = mne.read_epochs_eeglab(in_roi2_path + str(subjects[i]) + '.set')\n",
      "[Parallel(n_jobs=1)]: Using backend SequentialBackend with 1 concurrent workers.\n",
      "[Parallel(n_jobs=1)]: Done   1 out of   1 | elapsed:    0.1s remaining:    0.0s\n"
     ]
    },
    {
     "name": "stdout",
     "output_type": "stream",
     "text": [
      "NOTE: tfr_morlet() is a legacy function. New code should use .compute_tfr(method=\"morlet\").\n"
     ]
    },
    {
     "name": "stderr",
     "output_type": "stream",
     "text": [
      "[Parallel(n_jobs=1)]: Done   2 out of   2 | elapsed:    0.2s remaining:    0.0s\n",
      "[Parallel(n_jobs=1)]: Done   3 out of   3 | elapsed:    0.2s remaining:    0.0s\n",
      "[Parallel(n_jobs=1)]: Done   4 out of   4 | elapsed:    0.3s remaining:    0.0s\n",
      "[Parallel(n_jobs=1)]: Done   5 out of   5 | elapsed:    0.3s finished\n",
      "[Parallel(n_jobs=1)]: Using backend SequentialBackend with 1 concurrent workers.\n",
      "[Parallel(n_jobs=1)]: Done   1 out of   1 | elapsed:    0.1s remaining:    0.0s\n",
      "[Parallel(n_jobs=1)]: Done   2 out of   2 | elapsed:    0.1s remaining:    0.0s\n",
      "[Parallel(n_jobs=1)]: Done   3 out of   3 | elapsed:    0.2s remaining:    0.0s\n",
      "[Parallel(n_jobs=1)]: Done   4 out of   4 | elapsed:    0.3s remaining:    0.0s\n"
     ]
    },
    {
     "name": "stdout",
     "output_type": "stream",
     "text": [
      "Extracting parameters from /Users/madwoman/Desktop/tpp_seeg/roi_data_baseline/amygdala_new/124.set...\n",
      "Not setting metadata\n",
      "43 matching events found\n",
      "No baseline correction applied\n",
      "0 projection items activated\n",
      "Ready.\n",
      "NOTE: tfr_morlet() is a legacy function. New code should use .compute_tfr(method=\"morlet\").\n"
     ]
    },
    {
     "name": "stderr",
     "output_type": "stream",
     "text": [
      "[Parallel(n_jobs=1)]: Done   5 out of   5 | elapsed:    0.3s finished\n",
      "/var/folders/9v/hrxf86p91h31ptwdds0f77qw0000gn/T/ipykernel_21916/500443317.py:93: RuntimeWarning: At least one epoch has multiple events. Only the latency of the first event will be retained.\n",
      "  baseline_epoches2 = mne.read_epochs_eeglab(in_roi2_baseline + str(subjects[i]) + '.set')\n",
      "[Parallel(n_jobs=1)]: Using backend SequentialBackend with 1 concurrent workers.\n",
      "[Parallel(n_jobs=1)]: Done   1 out of   1 | elapsed:    0.1s remaining:    0.0s\n",
      "[Parallel(n_jobs=1)]: Done   2 out of   2 | elapsed:    0.2s remaining:    0.0s\n"
     ]
    },
    {
     "name": "stdout",
     "output_type": "stream",
     "text": [
      "NOTE: tfr_morlet() is a legacy function. New code should use .compute_tfr(method=\"morlet\").\n"
     ]
    },
    {
     "name": "stderr",
     "output_type": "stream",
     "text": [
      "[Parallel(n_jobs=1)]: Done   3 out of   3 | elapsed:    0.2s remaining:    0.0s\n",
      "[Parallel(n_jobs=1)]: Done   4 out of   4 | elapsed:    0.3s remaining:    0.0s\n",
      "[Parallel(n_jobs=1)]: Done   5 out of   5 | elapsed:    0.4s finished\n",
      "[Parallel(n_jobs=1)]: Using backend SequentialBackend with 1 concurrent workers.\n",
      "[Parallel(n_jobs=1)]: Done   1 out of   1 | elapsed:    0.1s remaining:    0.0s\n",
      "[Parallel(n_jobs=1)]: Done   2 out of   2 | elapsed:    0.2s remaining:    0.0s\n",
      "[Parallel(n_jobs=1)]: Done   3 out of   3 | elapsed:    0.3s remaining:    0.0s\n",
      "[Parallel(n_jobs=1)]: Done   4 out of   4 | elapsed:    0.4s remaining:    0.0s\n"
     ]
    },
    {
     "name": "stdout",
     "output_type": "stream",
     "text": [
      "Applying baseline correction (mode: zlogratio)\n",
      "Applying baseline correction (mode: zlogratio)\n",
      "Extracting parameters from /Users/madwoman/Desktop/tpp_seeg/roi_data_1234/amygdala_new/125.set...\n",
      "Not setting metadata\n",
      "48 matching events found\n",
      "No baseline correction applied\n",
      "0 projection items activated\n",
      "Ready.\n",
      "NOTE: tfr_morlet() is a legacy function. New code should use .compute_tfr(method=\"morlet\").\n"
     ]
    },
    {
     "name": "stderr",
     "output_type": "stream",
     "text": [
      "[Parallel(n_jobs=1)]: Done   5 out of   5 | elapsed:    0.5s finished\n",
      "/var/folders/9v/hrxf86p91h31ptwdds0f77qw0000gn/T/ipykernel_21916/500443317.py:118: FutureWarning: Parameters \"info\", \"data\", \"times\", \"nave\" are deprecated and will be removed in version 1.8. For a quick fix, use ``AverageTFRArray`` with the same parameters. For a long-term fix, see the docstring notes.\n",
      "  all_pn_mean_tfr = mne.time_frequency.AverageTFR(info=info, data=pn_mean_tfr, times=time_range, freqs=freqs, nave=1)\n",
      "/var/folders/9v/hrxf86p91h31ptwdds0f77qw0000gn/T/ipykernel_21916/500443317.py:119: FutureWarning: Parameters \"info\", \"data\", \"times\", \"nave\" are deprecated and will be removed in version 1.8. For a quick fix, use ``AverageTFRArray`` with the same parameters. For a long-term fix, see the docstring notes.\n",
      "  all_npn_mean_tfr = mne.time_frequency.AverageTFR(info=info, data=npn_mean_tfr, times=time_range, freqs=freqs, nave=1)\n",
      "/var/folders/9v/hrxf86p91h31ptwdds0f77qw0000gn/T/ipykernel_21916/500443317.py:79: RuntimeWarning: At least one epoch has multiple events. Only the latency of the first event will be retained.\n",
      "  ROI_epochs = mne.read_epochs_eeglab(in_roi2_path + str(subjects[i]) + '.set')\n",
      "[Parallel(n_jobs=1)]: Using backend SequentialBackend with 1 concurrent workers.\n",
      "[Parallel(n_jobs=1)]: Done   1 out of   1 | elapsed:    0.1s remaining:    0.0s\n",
      "[Parallel(n_jobs=1)]: Done   2 out of   2 | elapsed:    0.1s remaining:    0.0s\n"
     ]
    },
    {
     "name": "stdout",
     "output_type": "stream",
     "text": [
      "NOTE: tfr_morlet() is a legacy function. New code should use .compute_tfr(method=\"morlet\").\n"
     ]
    },
    {
     "name": "stderr",
     "output_type": "stream",
     "text": [
      "[Parallel(n_jobs=1)]: Done   3 out of   3 | elapsed:    0.2s remaining:    0.0s\n",
      "[Parallel(n_jobs=1)]: Done   3 out of   3 | elapsed:    0.2s finished\n",
      "[Parallel(n_jobs=1)]: Using backend SequentialBackend with 1 concurrent workers.\n",
      "[Parallel(n_jobs=1)]: Done   1 out of   1 | elapsed:    0.1s remaining:    0.0s\n",
      "[Parallel(n_jobs=1)]: Done   2 out of   2 | elapsed:    0.1s remaining:    0.0s\n",
      "[Parallel(n_jobs=1)]: Done   3 out of   3 | elapsed:    0.2s remaining:    0.0s\n",
      "[Parallel(n_jobs=1)]: Done   3 out of   3 | elapsed:    0.2s finished\n"
     ]
    },
    {
     "name": "stdout",
     "output_type": "stream",
     "text": [
      "Extracting parameters from /Users/madwoman/Desktop/tpp_seeg/roi_data_baseline/amygdala_new/125.set...\n",
      "Not setting metadata\n",
      "48 matching events found\n",
      "No baseline correction applied\n",
      "0 projection items activated\n",
      "Ready.\n",
      "NOTE: tfr_morlet() is a legacy function. New code should use .compute_tfr(method=\"morlet\").\n"
     ]
    },
    {
     "name": "stderr",
     "output_type": "stream",
     "text": [
      "/var/folders/9v/hrxf86p91h31ptwdds0f77qw0000gn/T/ipykernel_21916/500443317.py:93: RuntimeWarning: At least one epoch has multiple events. Only the latency of the first event will be retained.\n",
      "  baseline_epoches2 = mne.read_epochs_eeglab(in_roi2_baseline + str(subjects[i]) + '.set')\n",
      "[Parallel(n_jobs=1)]: Using backend SequentialBackend with 1 concurrent workers.\n",
      "[Parallel(n_jobs=1)]: Done   1 out of   1 | elapsed:    0.1s remaining:    0.0s\n"
     ]
    },
    {
     "name": "stdout",
     "output_type": "stream",
     "text": [
      "NOTE: tfr_morlet() is a legacy function. New code should use .compute_tfr(method=\"morlet\").\n"
     ]
    },
    {
     "name": "stderr",
     "output_type": "stream",
     "text": [
      "[Parallel(n_jobs=1)]: Done   2 out of   2 | elapsed:    0.2s remaining:    0.0s\n",
      "[Parallel(n_jobs=1)]: Done   3 out of   3 | elapsed:    0.3s remaining:    0.0s\n",
      "[Parallel(n_jobs=1)]: Done   3 out of   3 | elapsed:    0.3s finished\n",
      "[Parallel(n_jobs=1)]: Using backend SequentialBackend with 1 concurrent workers.\n",
      "[Parallel(n_jobs=1)]: Done   1 out of   1 | elapsed:    0.1s remaining:    0.0s\n"
     ]
    },
    {
     "name": "stdout",
     "output_type": "stream",
     "text": [
      "Applying baseline correction (mode: zlogratio)\n",
      "Applying baseline correction (mode: zlogratio)\n",
      "Extracting parameters from /Users/madwoman/Desktop/tpp_seeg/roi_data_1234/amygdala_new/127.set...\n",
      "Not setting metadata\n",
      "48 matching events found\n",
      "No baseline correction applied\n",
      "0 projection items activated\n",
      "Ready.\n",
      "NOTE: tfr_morlet() is a legacy function. New code should use .compute_tfr(method=\"morlet\").\n"
     ]
    },
    {
     "name": "stderr",
     "output_type": "stream",
     "text": [
      "[Parallel(n_jobs=1)]: Done   2 out of   2 | elapsed:    0.2s remaining:    0.0s\n",
      "[Parallel(n_jobs=1)]: Done   3 out of   3 | elapsed:    0.3s remaining:    0.0s\n",
      "[Parallel(n_jobs=1)]: Done   3 out of   3 | elapsed:    0.3s finished\n",
      "/var/folders/9v/hrxf86p91h31ptwdds0f77qw0000gn/T/ipykernel_21916/500443317.py:118: FutureWarning: Parameters \"info\", \"data\", \"times\", \"nave\" are deprecated and will be removed in version 1.8. For a quick fix, use ``AverageTFRArray`` with the same parameters. For a long-term fix, see the docstring notes.\n",
      "  all_pn_mean_tfr = mne.time_frequency.AverageTFR(info=info, data=pn_mean_tfr, times=time_range, freqs=freqs, nave=1)\n",
      "/var/folders/9v/hrxf86p91h31ptwdds0f77qw0000gn/T/ipykernel_21916/500443317.py:119: FutureWarning: Parameters \"info\", \"data\", \"times\", \"nave\" are deprecated and will be removed in version 1.8. For a quick fix, use ``AverageTFRArray`` with the same parameters. For a long-term fix, see the docstring notes.\n",
      "  all_npn_mean_tfr = mne.time_frequency.AverageTFR(info=info, data=npn_mean_tfr, times=time_range, freqs=freqs, nave=1)\n",
      "/var/folders/9v/hrxf86p91h31ptwdds0f77qw0000gn/T/ipykernel_21916/500443317.py:79: RuntimeWarning: At least one epoch has multiple events. Only the latency of the first event will be retained.\n",
      "  ROI_epochs = mne.read_epochs_eeglab(in_roi2_path + str(subjects[i]) + '.set')\n",
      "[Parallel(n_jobs=1)]: Using backend SequentialBackend with 1 concurrent workers.\n"
     ]
    },
    {
     "name": "stdout",
     "output_type": "stream",
     "text": [
      "NOTE: tfr_morlet() is a legacy function. New code should use .compute_tfr(method=\"morlet\").\n"
     ]
    },
    {
     "name": "stderr",
     "output_type": "stream",
     "text": [
      "[Parallel(n_jobs=1)]: Done   1 out of   1 | elapsed:    0.1s remaining:    0.0s\n",
      "[Parallel(n_jobs=1)]: Done   2 out of   2 | elapsed:    0.1s remaining:    0.0s\n",
      "[Parallel(n_jobs=1)]: Done   3 out of   3 | elapsed:    0.2s remaining:    0.0s\n",
      "[Parallel(n_jobs=1)]: Done   3 out of   3 | elapsed:    0.2s finished\n",
      "[Parallel(n_jobs=1)]: Using backend SequentialBackend with 1 concurrent workers.\n",
      "[Parallel(n_jobs=1)]: Done   1 out of   1 | elapsed:    0.1s remaining:    0.0s\n"
     ]
    },
    {
     "name": "stdout",
     "output_type": "stream",
     "text": [
      "Extracting parameters from /Users/madwoman/Desktop/tpp_seeg/roi_data_baseline/amygdala_new/127.set...\n",
      "Not setting metadata\n",
      "48 matching events found\n",
      "No baseline correction applied\n",
      "0 projection items activated\n",
      "Ready.\n",
      "NOTE: tfr_morlet() is a legacy function. New code should use .compute_tfr(method=\"morlet\").\n"
     ]
    },
    {
     "name": "stderr",
     "output_type": "stream",
     "text": [
      "[Parallel(n_jobs=1)]: Done   2 out of   2 | elapsed:    0.1s remaining:    0.0s\n",
      "[Parallel(n_jobs=1)]: Done   3 out of   3 | elapsed:    0.2s remaining:    0.0s\n",
      "[Parallel(n_jobs=1)]: Done   3 out of   3 | elapsed:    0.2s finished\n",
      "/var/folders/9v/hrxf86p91h31ptwdds0f77qw0000gn/T/ipykernel_21916/500443317.py:93: RuntimeWarning: At least one epoch has multiple events. Only the latency of the first event will be retained.\n",
      "  baseline_epoches2 = mne.read_epochs_eeglab(in_roi2_baseline + str(subjects[i]) + '.set')\n",
      "[Parallel(n_jobs=1)]: Using backend SequentialBackend with 1 concurrent workers.\n",
      "[Parallel(n_jobs=1)]: Done   1 out of   1 | elapsed:    0.1s remaining:    0.0s\n",
      "[Parallel(n_jobs=1)]: Done   2 out of   2 | elapsed:    0.2s remaining:    0.0s\n"
     ]
    },
    {
     "name": "stdout",
     "output_type": "stream",
     "text": [
      "NOTE: tfr_morlet() is a legacy function. New code should use .compute_tfr(method=\"morlet\").\n"
     ]
    },
    {
     "name": "stderr",
     "output_type": "stream",
     "text": [
      "[Parallel(n_jobs=1)]: Done   3 out of   3 | elapsed:    0.4s remaining:    0.0s\n",
      "[Parallel(n_jobs=1)]: Done   3 out of   3 | elapsed:    0.4s finished\n",
      "[Parallel(n_jobs=1)]: Using backend SequentialBackend with 1 concurrent workers.\n",
      "[Parallel(n_jobs=1)]: Done   1 out of   1 | elapsed:    0.1s remaining:    0.0s\n"
     ]
    },
    {
     "name": "stdout",
     "output_type": "stream",
     "text": [
      "Applying baseline correction (mode: zlogratio)\n",
      "Applying baseline correction (mode: zlogratio)\n",
      "Extracting parameters from /Users/madwoman/Desktop/tpp_seeg/roi_data_1234/amygdala_new/131.set...\n",
      "Not setting metadata\n",
      "46 matching events found\n",
      "No baseline correction applied\n",
      "0 projection items activated\n",
      "Ready.\n",
      "NOTE: tfr_morlet() is a legacy function. New code should use .compute_tfr(method=\"morlet\").\n"
     ]
    },
    {
     "name": "stderr",
     "output_type": "stream",
     "text": [
      "[Parallel(n_jobs=1)]: Done   2 out of   2 | elapsed:    0.2s remaining:    0.0s\n",
      "[Parallel(n_jobs=1)]: Done   3 out of   3 | elapsed:    0.3s remaining:    0.0s\n",
      "[Parallel(n_jobs=1)]: Done   3 out of   3 | elapsed:    0.3s finished\n",
      "/var/folders/9v/hrxf86p91h31ptwdds0f77qw0000gn/T/ipykernel_21916/500443317.py:118: FutureWarning: Parameters \"info\", \"data\", \"times\", \"nave\" are deprecated and will be removed in version 1.8. For a quick fix, use ``AverageTFRArray`` with the same parameters. For a long-term fix, see the docstring notes.\n",
      "  all_pn_mean_tfr = mne.time_frequency.AverageTFR(info=info, data=pn_mean_tfr, times=time_range, freqs=freqs, nave=1)\n",
      "/var/folders/9v/hrxf86p91h31ptwdds0f77qw0000gn/T/ipykernel_21916/500443317.py:119: FutureWarning: Parameters \"info\", \"data\", \"times\", \"nave\" are deprecated and will be removed in version 1.8. For a quick fix, use ``AverageTFRArray`` with the same parameters. For a long-term fix, see the docstring notes.\n",
      "  all_npn_mean_tfr = mne.time_frequency.AverageTFR(info=info, data=npn_mean_tfr, times=time_range, freqs=freqs, nave=1)\n",
      "/var/folders/9v/hrxf86p91h31ptwdds0f77qw0000gn/T/ipykernel_21916/500443317.py:79: RuntimeWarning: At least one epoch has multiple events. Only the latency of the first event will be retained.\n",
      "  ROI_epochs = mne.read_epochs_eeglab(in_roi2_path + str(subjects[i]) + '.set')\n",
      "[Parallel(n_jobs=1)]: Using backend SequentialBackend with 1 concurrent workers.\n",
      "[Parallel(n_jobs=1)]: Done   1 out of   1 | elapsed:    0.1s remaining:    0.0s\n",
      "[Parallel(n_jobs=1)]: Done   2 out of   2 | elapsed:    0.1s remaining:    0.0s\n",
      "[Parallel(n_jobs=1)]: Done   3 out of   3 | elapsed:    0.2s remaining:    0.0s\n",
      "[Parallel(n_jobs=1)]: Done   4 out of   4 | elapsed:    0.2s remaining:    0.0s\n"
     ]
    },
    {
     "name": "stdout",
     "output_type": "stream",
     "text": [
      "NOTE: tfr_morlet() is a legacy function. New code should use .compute_tfr(method=\"morlet\").\n"
     ]
    },
    {
     "name": "stderr",
     "output_type": "stream",
     "text": [
      "[Parallel(n_jobs=1)]: Done   5 out of   5 | elapsed:    0.3s finished\n",
      "[Parallel(n_jobs=1)]: Using backend SequentialBackend with 1 concurrent workers.\n",
      "[Parallel(n_jobs=1)]: Done   1 out of   1 | elapsed:    0.1s remaining:    0.0s\n",
      "[Parallel(n_jobs=1)]: Done   2 out of   2 | elapsed:    0.1s remaining:    0.0s\n",
      "[Parallel(n_jobs=1)]: Done   3 out of   3 | elapsed:    0.2s remaining:    0.0s\n"
     ]
    },
    {
     "name": "stdout",
     "output_type": "stream",
     "text": [
      "Extracting parameters from /Users/madwoman/Desktop/tpp_seeg/roi_data_baseline/amygdala_new/131.set...\n",
      "Not setting metadata\n",
      "48 matching events found\n",
      "No baseline correction applied\n",
      "0 projection items activated\n",
      "Ready.\n",
      "NOTE: tfr_morlet() is a legacy function. New code should use .compute_tfr(method=\"morlet\").\n"
     ]
    },
    {
     "name": "stderr",
     "output_type": "stream",
     "text": [
      "[Parallel(n_jobs=1)]: Done   4 out of   4 | elapsed:    0.2s remaining:    0.0s\n",
      "[Parallel(n_jobs=1)]: Done   5 out of   5 | elapsed:    0.3s finished\n",
      "/var/folders/9v/hrxf86p91h31ptwdds0f77qw0000gn/T/ipykernel_21916/500443317.py:93: RuntimeWarning: At least one epoch has multiple events. Only the latency of the first event will be retained.\n",
      "  baseline_epoches2 = mne.read_epochs_eeglab(in_roi2_baseline + str(subjects[i]) + '.set')\n",
      "[Parallel(n_jobs=1)]: Using backend SequentialBackend with 1 concurrent workers.\n",
      "[Parallel(n_jobs=1)]: Done   1 out of   1 | elapsed:    0.1s remaining:    0.0s\n",
      "[Parallel(n_jobs=1)]: Done   2 out of   2 | elapsed:    0.2s remaining:    0.0s\n",
      "[Parallel(n_jobs=1)]: Done   3 out of   3 | elapsed:    0.3s remaining:    0.0s\n"
     ]
    },
    {
     "name": "stdout",
     "output_type": "stream",
     "text": [
      "NOTE: tfr_morlet() is a legacy function. New code should use .compute_tfr(method=\"morlet\").\n"
     ]
    },
    {
     "name": "stderr",
     "output_type": "stream",
     "text": [
      "[Parallel(n_jobs=1)]: Done   4 out of   4 | elapsed:    0.4s remaining:    0.0s\n",
      "[Parallel(n_jobs=1)]: Done   5 out of   5 | elapsed:    0.5s finished\n",
      "[Parallel(n_jobs=1)]: Using backend SequentialBackend with 1 concurrent workers.\n",
      "[Parallel(n_jobs=1)]: Done   1 out of   1 | elapsed:    0.1s remaining:    0.0s\n",
      "[Parallel(n_jobs=1)]: Done   2 out of   2 | elapsed:    0.2s remaining:    0.0s\n",
      "[Parallel(n_jobs=1)]: Done   3 out of   3 | elapsed:    0.2s remaining:    0.0s\n",
      "[Parallel(n_jobs=1)]: Done   4 out of   4 | elapsed:    0.3s remaining:    0.0s\n"
     ]
    },
    {
     "name": "stdout",
     "output_type": "stream",
     "text": [
      "Applying baseline correction (mode: zlogratio)\n",
      "Applying baseline correction (mode: zlogratio)\n",
      "Extracting parameters from /Users/madwoman/Desktop/tpp_seeg/roi_data_1234/amygdala_new/134.set...\n",
      "Not setting metadata\n",
      "48 matching events found\n",
      "No baseline correction applied\n",
      "0 projection items activated\n",
      "Ready.\n",
      "NOTE: tfr_morlet() is a legacy function. New code should use .compute_tfr(method=\"morlet\").\n"
     ]
    },
    {
     "name": "stderr",
     "output_type": "stream",
     "text": [
      "[Parallel(n_jobs=1)]: Done   5 out of   5 | elapsed:    0.4s finished\n",
      "/var/folders/9v/hrxf86p91h31ptwdds0f77qw0000gn/T/ipykernel_21916/500443317.py:118: FutureWarning: Parameters \"info\", \"data\", \"times\", \"nave\" are deprecated and will be removed in version 1.8. For a quick fix, use ``AverageTFRArray`` with the same parameters. For a long-term fix, see the docstring notes.\n",
      "  all_pn_mean_tfr = mne.time_frequency.AverageTFR(info=info, data=pn_mean_tfr, times=time_range, freqs=freqs, nave=1)\n",
      "/var/folders/9v/hrxf86p91h31ptwdds0f77qw0000gn/T/ipykernel_21916/500443317.py:119: FutureWarning: Parameters \"info\", \"data\", \"times\", \"nave\" are deprecated and will be removed in version 1.8. For a quick fix, use ``AverageTFRArray`` with the same parameters. For a long-term fix, see the docstring notes.\n",
      "  all_npn_mean_tfr = mne.time_frequency.AverageTFR(info=info, data=npn_mean_tfr, times=time_range, freqs=freqs, nave=1)\n",
      "/var/folders/9v/hrxf86p91h31ptwdds0f77qw0000gn/T/ipykernel_21916/500443317.py:79: RuntimeWarning: At least one epoch has multiple events. Only the latency of the first event will be retained.\n",
      "  ROI_epochs = mne.read_epochs_eeglab(in_roi2_path + str(subjects[i]) + '.set')\n",
      "[Parallel(n_jobs=1)]: Using backend SequentialBackend with 1 concurrent workers.\n",
      "[Parallel(n_jobs=1)]: Done   1 out of   1 | elapsed:    0.1s remaining:    0.0s\n"
     ]
    },
    {
     "name": "stdout",
     "output_type": "stream",
     "text": [
      "NOTE: tfr_morlet() is a legacy function. New code should use .compute_tfr(method=\"morlet\").\n"
     ]
    },
    {
     "name": "stderr",
     "output_type": "stream",
     "text": [
      "[Parallel(n_jobs=1)]: Done   2 out of   2 | elapsed:    0.1s remaining:    0.0s\n",
      "[Parallel(n_jobs=1)]: Done   3 out of   3 | elapsed:    0.2s remaining:    0.0s\n",
      "[Parallel(n_jobs=1)]: Done   4 out of   4 | elapsed:    0.2s remaining:    0.0s\n",
      "[Parallel(n_jobs=1)]: Done   5 out of   5 | elapsed:    0.3s finished\n",
      "[Parallel(n_jobs=1)]: Using backend SequentialBackend with 1 concurrent workers.\n",
      "[Parallel(n_jobs=1)]: Done   1 out of   1 | elapsed:    0.1s remaining:    0.0s\n",
      "[Parallel(n_jobs=1)]: Done   2 out of   2 | elapsed:    0.1s remaining:    0.0s\n",
      "[Parallel(n_jobs=1)]: Done   3 out of   3 | elapsed:    0.2s remaining:    0.0s\n",
      "[Parallel(n_jobs=1)]: Done   4 out of   4 | elapsed:    0.2s remaining:    0.0s\n"
     ]
    },
    {
     "name": "stdout",
     "output_type": "stream",
     "text": [
      "Extracting parameters from /Users/madwoman/Desktop/tpp_seeg/roi_data_baseline/amygdala_new/134.set...\n",
      "Not setting metadata\n",
      "48 matching events found\n",
      "No baseline correction applied\n",
      "0 projection items activated\n",
      "Ready.\n",
      "NOTE: tfr_morlet() is a legacy function. New code should use .compute_tfr(method=\"morlet\").\n"
     ]
    },
    {
     "name": "stderr",
     "output_type": "stream",
     "text": [
      "[Parallel(n_jobs=1)]: Done   5 out of   5 | elapsed:    0.3s finished\n",
      "/var/folders/9v/hrxf86p91h31ptwdds0f77qw0000gn/T/ipykernel_21916/500443317.py:93: RuntimeWarning: At least one epoch has multiple events. Only the latency of the first event will be retained.\n",
      "  baseline_epoches2 = mne.read_epochs_eeglab(in_roi2_baseline + str(subjects[i]) + '.set')\n",
      "[Parallel(n_jobs=1)]: Using backend SequentialBackend with 1 concurrent workers.\n",
      "[Parallel(n_jobs=1)]: Done   1 out of   1 | elapsed:    0.1s remaining:    0.0s\n",
      "[Parallel(n_jobs=1)]: Done   2 out of   2 | elapsed:    0.3s remaining:    0.0s\n",
      "[Parallel(n_jobs=1)]: Done   3 out of   3 | elapsed:    0.4s remaining:    0.0s\n"
     ]
    },
    {
     "name": "stdout",
     "output_type": "stream",
     "text": [
      "NOTE: tfr_morlet() is a legacy function. New code should use .compute_tfr(method=\"morlet\").\n"
     ]
    },
    {
     "name": "stderr",
     "output_type": "stream",
     "text": [
      "[Parallel(n_jobs=1)]: Done   4 out of   4 | elapsed:    0.5s remaining:    0.0s\n",
      "[Parallel(n_jobs=1)]: Done   5 out of   5 | elapsed:    0.6s finished\n",
      "[Parallel(n_jobs=1)]: Using backend SequentialBackend with 1 concurrent workers.\n",
      "[Parallel(n_jobs=1)]: Done   1 out of   1 | elapsed:    0.1s remaining:    0.0s\n",
      "[Parallel(n_jobs=1)]: Done   2 out of   2 | elapsed:    0.2s remaining:    0.0s\n",
      "[Parallel(n_jobs=1)]: Done   3 out of   3 | elapsed:    0.3s remaining:    0.0s\n"
     ]
    },
    {
     "name": "stdout",
     "output_type": "stream",
     "text": [
      "Applying baseline correction (mode: zlogratio)\n",
      "Applying baseline correction (mode: zlogratio)\n"
     ]
    },
    {
     "name": "stderr",
     "output_type": "stream",
     "text": [
      "[Parallel(n_jobs=1)]: Done   4 out of   4 | elapsed:    0.4s remaining:    0.0s\n",
      "[Parallel(n_jobs=1)]: Done   5 out of   5 | elapsed:    0.5s finished\n",
      "/var/folders/9v/hrxf86p91h31ptwdds0f77qw0000gn/T/ipykernel_21916/500443317.py:118: FutureWarning: Parameters \"info\", \"data\", \"times\", \"nave\" are deprecated and will be removed in version 1.8. For a quick fix, use ``AverageTFRArray`` with the same parameters. For a long-term fix, see the docstring notes.\n",
      "  all_pn_mean_tfr = mne.time_frequency.AverageTFR(info=info, data=pn_mean_tfr, times=time_range, freqs=freqs, nave=1)\n",
      "/var/folders/9v/hrxf86p91h31ptwdds0f77qw0000gn/T/ipykernel_21916/500443317.py:119: FutureWarning: Parameters \"info\", \"data\", \"times\", \"nave\" are deprecated and will be removed in version 1.8. For a quick fix, use ``AverageTFRArray`` with the same parameters. For a long-term fix, see the docstring notes.\n",
      "  all_npn_mean_tfr = mne.time_frequency.AverageTFR(info=info, data=npn_mean_tfr, times=time_range, freqs=freqs, nave=1)\n"
     ]
    }
   ],
   "source": [
    "from mne.time_frequency import tfr_morlet\n",
    "#freqs=np.arange(70, 125, 5)\n",
    "freqs=np.arange(50, 150, 2)\n",
    "n_cycles=10\n",
    "time_span = 100\n",
    "ch_names = []\n",
    "whole_range = [-7, 0.999]  # baseline前后 0.3s\n",
    "baseline_range = [0, 0.2]\n",
    "# 生成时间序列\n",
    "time_range = np.arange(baseline_range[0]-baseline_range[1] + whole_range[0], whole_range[1], 0.001)\n",
    "\n",
    "#get the data from ROI 1\n",
    "for i in range(len(subjects)):\n",
    "\n",
    "    # 导入eegepoch数据\n",
    "    ROI_epochs = mne.read_epochs_eeglab(in_roi1_path + str(subjects[i]) + '.set')\n",
    "\n",
    "\n",
    "    selected_tags = [tag for tag in ROI_epochs.event_id if '11' in tag or '10' in tag]\n",
    "    pn_epochs = ROI_epochs[selected_tags]\n",
    "\n",
    "    selected_tags = [tag for tag in ROI_epochs.event_id if '31' in tag or '30' in tag]\n",
    "    npn_epochs = ROI_epochs[selected_tags]\n",
    "\n",
    "    ##计算tfr: attention v.s. non-attention in punished trials\n",
    "    ROI1_epoch_pn = tfr_morlet(pn_epochs, freqs=freqs, n_cycles=n_cycles, return_itc=False, average=True, use_fft=True)\n",
    "    ROI1_epoch_npn = tfr_morlet(npn_epochs, freqs=freqs, n_cycles=n_cycles, return_itc=False, average=True, use_fft=True)\n",
    "\n",
    "    \n",
    "    #baseline data:\n",
    "    baseline_epoches1 = mne.read_epochs_eeglab(in_roi1_baseline + str(subjects[i]) + '.set')\n",
    "    \n",
    "    selected_tags = [tag for tag in baseline_epoches1.event_id if '11' in tag or '10' in tag]\n",
    "    pn_epochs = baseline_epoches1[selected_tags]\n",
    "\n",
    "    selected_tags = [tag for tag in baseline_epoches1.event_id if '31' in tag or '30' in tag]\n",
    "    npn_epochs = baseline_epoches1[selected_tags]\n",
    "\n",
    "    ##计算tfr: attention v.s. non-attention in punished trials\n",
    "    ROI1_epoch_pn_base = tfr_morlet(pn_epochs, freqs, n_cycles=n_cycles, return_itc=False, average = True, use_fft=True)\n",
    "    ROI1_epoch_npn_base = tfr_morlet(npn_epochs, freqs, n_cycles=n_cycles, return_itc=False, average = True, use_fft=True)\n",
    "    \n",
    "    baseline_interval = [0.002, 0.2]\n",
    "    # Crop the baseline interval from the baseline dataset\n",
    "    baseline_epochs_pn = ROI1_epoch_pn_base.copy().crop(tmin=baseline_interval[0], tmax=baseline_interval[1])\n",
    "    baseline_epochs_npn = ROI1_epoch_npn_base.copy().crop(tmin=baseline_interval[0], tmax=baseline_interval[1])\n",
    "    # Apply baseline correction to the main dataset using the cropped baseline interval\n",
    "    # Concatenate the baseline and main TFR data along the time axis\n",
    "    pn_mean_tfr = np.concatenate((baseline_epochs_pn.data, ROI1_epoch_pn.data), axis=2)\n",
    "    npn_mean_tfr = np.concatenate((baseline_epochs_npn.data, ROI1_epoch_npn.data), axis=2)\n",
    "   \n",
    "\n",
    "    info = mne.create_info(ch_names = ROI_epochs.ch_names, ch_types = 'eeg', sfreq = 1000)\n",
    "    \n",
    "    # 生成mne的tfr文件\n",
    "    all_pn_mean_tfr = mne.time_frequency.AverageTFR(info=info, data=pn_mean_tfr, times=time_range, freqs=freqs, nave=1)\n",
    "    all_npn_mean_tfr = mne.time_frequency.AverageTFR(info=info, data=npn_mean_tfr, times=time_range, freqs=freqs, nave=1)\n",
    "\n",
    "\n",
    "    all_pn_mean_tfr.apply_baseline(mode='zlogratio', baseline=(-7.2, -7.002))\n",
    "    all_npn_mean_tfr.apply_baseline(mode='zlogratio', baseline=(-7.2, -7.002))\n",
    "\n",
    "    all_pn_mean_tfr_cut = all_pn_mean_tfr.copy().crop(tmin = -0.8, tmax = 0.2)\n",
    "    all_npn_mean_tfr_cut = all_npn_mean_tfr.copy().crop(tmin = -0.8, tmax = 0.2)\n",
    "\n",
    "    if i == 0:\n",
    "        ROI1_pn = all_pn_mean_tfr_cut\n",
    "        ROI1_npn = all_npn_mean_tfr_cut\n",
    "        ch_names = np.array(ROI_epochs.ch_names)\n",
    "    else:\n",
    "        ROI1_pn = np.vstack((ROI1_pn, all_pn_mean_tfr_cut))\n",
    "        ROI1_npn = np.vstack((ROI1_npn, all_npn_mean_tfr_cut))\n",
    "        ch_names = np.hstack((ch_names, np.array(ROI_epochs.ch_names)))\n",
    "\n",
    "#get the data from ROI 2\n",
    "for i in range(len(subjects)):\n",
    "\n",
    "    # 导入eegepoch数据\n",
    "    ROI_epochs = mne.read_epochs_eeglab(in_roi2_path + str(subjects[i]) + '.set')\n",
    "\n",
    "    selected_tags = [tag for tag in ROI_epochs.event_id if '11' in tag or '10' in tag]\n",
    "    pn_epochs = ROI_epochs[selected_tags]\n",
    "\n",
    "    selected_tags = [tag for tag in ROI_epochs.event_id if '31' in tag or '30' in tag]\n",
    "    npn_epochs = ROI_epochs[selected_tags]\n",
    "\n",
    "    ##计算tfr: attention v.s. non-attention in punished trials\n",
    "    ROI2_epoch_pn = tfr_morlet(pn_epochs, freqs=freqs, n_cycles=n_cycles, return_itc=False, average=True, use_fft=True)\n",
    "    ROI2_epoch_npn = tfr_morlet(npn_epochs, freqs=freqs, n_cycles=n_cycles, return_itc=False, average=True, use_fft=True)\n",
    "\n",
    "    \n",
    "    #baseline data:\n",
    "    baseline_epoches2 = mne.read_epochs_eeglab(in_roi2_baseline + str(subjects[i]) + '.set')\n",
    "    \n",
    "    selected_tags = [tag for tag in baseline_epoches2.event_id if '11' in tag or '10' in tag]\n",
    "    pn_epochs = baseline_epoches2[selected_tags]\n",
    "\n",
    "    selected_tags = [tag for tag in baseline_epoches2.event_id if '31' in tag or '30' in tag]\n",
    "    npn_epochs = baseline_epoches2[selected_tags]\n",
    "\n",
    "    ##计算tfr: attention v.s. non-attention in punished trials\n",
    "    ROI2_epoch_pn_base = tfr_morlet(pn_epochs, freqs, n_cycles=n_cycles, return_itc=False, average = True, use_fft=True)\n",
    "    ROI2_epoch_npn_base = tfr_morlet(npn_epochs, freqs, n_cycles=n_cycles, return_itc=False, average = True, use_fft=True)\n",
    "    \n",
    "    baseline_interval = [0.002, 0.2]\n",
    "    # Crop the baseline interval from the baseline dataset\n",
    "    baseline_epochs_pn = ROI2_epoch_pn_base.copy().crop(tmin=baseline_interval[0], tmax=baseline_interval[1])\n",
    "    baseline_epochs_npn = ROI2_epoch_npn_base.copy().crop(tmin=baseline_interval[0], tmax=baseline_interval[1])\n",
    "    # Apply baseline correction to the main dataset using the cropped baseline interval\n",
    "    # Concatenate the baseline and main TFR data along the time axis\n",
    "    pn_mean_tfr = np.concatenate((baseline_epochs_pn.data, ROI2_epoch_pn.data), axis=2)\n",
    "    npn_mean_tfr = np.concatenate((baseline_epochs_npn.data, ROI2_epoch_npn.data), axis=2)\n",
    "   \n",
    "\n",
    "    info = mne.create_info(ch_names = ROI_epochs.ch_names, ch_types = 'eeg', sfreq = 1000)\n",
    "    \n",
    "    # 生成mne的tfr文件\n",
    "    all_pn_mean_tfr = mne.time_frequency.AverageTFR(info=info, data=pn_mean_tfr, times=time_range, freqs=freqs, nave=1)\n",
    "    all_npn_mean_tfr = mne.time_frequency.AverageTFR(info=info, data=npn_mean_tfr, times=time_range, freqs=freqs, nave=1)\n",
    "\n",
    "\n",
    "    all_pn_mean_tfr.apply_baseline(mode='zlogratio', baseline=(-7.2, -7.002))\n",
    "    all_npn_mean_tfr.apply_baseline(mode='zlogratio', baseline=(-7.2, -7.002))\n",
    "\n",
    "    all_pn_mean_tfr_cut = all_pn_mean_tfr.copy().crop(tmin = -0.8, tmax = 0.2)\n",
    "    all_npn_mean_tfr_cut = all_npn_mean_tfr.copy().crop(tmin = -0.8, tmax = 0.2)\n",
    "\n",
    "\n",
    "    if i == 0:\n",
    "        ROI2_pn = all_pn_mean_tfr_cut\n",
    "        ROI2_npn = all_npn_mean_tfr_cut\n",
    "        ch_names = np.array(ROI_epochs.ch_names)\n",
    "    else:\n",
    "        ROI2_pn = np.vstack((ROI2_pn, all_pn_mean_tfr_cut))\n",
    "        ROI2_npn = np.vstack((ROI2_npn, all_npn_mean_tfr_cut))\n",
    "        ch_names = np.hstack((ch_names, np.array(ROI_epochs.ch_names)))"
   ]
  },
  {
   "cell_type": "markdown",
   "metadata": {},
   "source": [
    "## BA extraction"
   ]
  },
  {
   "cell_type": "code",
   "execution_count": 38,
   "metadata": {},
   "outputs": [
    {
     "name": "stdout",
     "output_type": "stream",
     "text": [
      "Extracting parameters from /Users/madwoman/Desktop/tpp_seeg/roi_data_1234_kids/insula/110.set...\n"
     ]
    },
    {
     "name": "stderr",
     "output_type": "stream",
     "text": [
      "/var/folders/9v/hrxf86p91h31ptwdds0f77qw0000gn/T/ipykernel_21916/2980718976.py:16: RuntimeWarning: At least one epoch has multiple events. Only the latency of the first event will be retained.\n",
      "  ROI_epochs = mne.read_epochs_eeglab(in_roi1_path + str(subjects[i]) + '.set')\n"
     ]
    },
    {
     "name": "stdout",
     "output_type": "stream",
     "text": [
      "Not setting metadata\n",
      "45 matching events found\n",
      "No baseline correction applied\n",
      "0 projection items activated\n",
      "Ready.\n",
      "NOTE: tfr_morlet() is a legacy function. New code should use .compute_tfr(method=\"morlet\").\n",
      "NOTE: tfr_morlet() is a legacy function. New code should use .compute_tfr(method=\"morlet\").\n"
     ]
    },
    {
     "name": "stderr",
     "output_type": "stream",
     "text": [
      "[Parallel(n_jobs=1)]: Using backend SequentialBackend with 1 concurrent workers.\n",
      "[Parallel(n_jobs=1)]: Done   1 out of   1 | elapsed:    0.0s remaining:    0.0s\n",
      "[Parallel(n_jobs=1)]: Done   2 out of   2 | elapsed:    0.0s remaining:    0.0s\n",
      "[Parallel(n_jobs=1)]: Done   3 out of   3 | elapsed:    0.0s remaining:    0.0s\n",
      "[Parallel(n_jobs=1)]: Done   4 out of   4 | elapsed:    0.1s remaining:    0.0s\n",
      "[Parallel(n_jobs=1)]: Done  11 out of  11 | elapsed:    0.1s finished\n",
      "[Parallel(n_jobs=1)]: Using backend SequentialBackend with 1 concurrent workers.\n",
      "[Parallel(n_jobs=1)]: Done   1 out of   1 | elapsed:    0.0s remaining:    0.0s\n",
      "[Parallel(n_jobs=1)]: Done   2 out of   2 | elapsed:    0.0s remaining:    0.0s\n",
      "[Parallel(n_jobs=1)]: Done   3 out of   3 | elapsed:    0.0s remaining:    0.0s\n",
      "[Parallel(n_jobs=1)]: Done   4 out of   4 | elapsed:    0.1s remaining:    0.0s\n",
      "[Parallel(n_jobs=1)]: Done  11 out of  11 | elapsed:    0.1s finished\n"
     ]
    },
    {
     "name": "stdout",
     "output_type": "stream",
     "text": [
      "Extracting parameters from /Users/madwoman/Desktop/tpp_seeg/roi_data_baseline/insula/110.set...\n"
     ]
    },
    {
     "name": "stderr",
     "output_type": "stream",
     "text": [
      "/var/folders/9v/hrxf86p91h31ptwdds0f77qw0000gn/T/ipykernel_21916/2980718976.py:31: RuntimeWarning: At least one epoch has multiple events. Only the latency of the first event will be retained.\n",
      "  baseline_epoches1 = mne.read_epochs_eeglab(in_roi1_baseline + str(subjects[i]) + '.set')\n"
     ]
    },
    {
     "name": "stdout",
     "output_type": "stream",
     "text": [
      "Not setting metadata\n",
      "48 matching events found\n",
      "No baseline correction applied\n",
      "0 projection items activated\n",
      "Ready.\n",
      "NOTE: tfr_morlet() is a legacy function. New code should use .compute_tfr(method=\"morlet\").\n",
      "NOTE: tfr_morlet() is a legacy function. New code should use .compute_tfr(method=\"morlet\").\n"
     ]
    },
    {
     "name": "stderr",
     "output_type": "stream",
     "text": [
      "[Parallel(n_jobs=1)]: Using backend SequentialBackend with 1 concurrent workers.\n",
      "[Parallel(n_jobs=1)]: Done   1 out of   1 | elapsed:    0.0s remaining:    0.0s\n",
      "[Parallel(n_jobs=1)]: Done   2 out of   2 | elapsed:    0.0s remaining:    0.0s\n",
      "[Parallel(n_jobs=1)]: Done   3 out of   3 | elapsed:    0.1s remaining:    0.0s\n",
      "[Parallel(n_jobs=1)]: Done   4 out of   4 | elapsed:    0.1s remaining:    0.0s\n",
      "[Parallel(n_jobs=1)]: Done  11 out of  11 | elapsed:    0.2s finished\n",
      "[Parallel(n_jobs=1)]: Using backend SequentialBackend with 1 concurrent workers.\n"
     ]
    },
    {
     "name": "stdout",
     "output_type": "stream",
     "text": [
      "Applying baseline correction (mode: zlogratio)\n",
      "Applying baseline correction (mode: zlogratio)\n"
     ]
    },
    {
     "name": "stderr",
     "output_type": "stream",
     "text": [
      "[Parallel(n_jobs=1)]: Done   1 out of   1 | elapsed:    0.0s remaining:    0.0s\n",
      "[Parallel(n_jobs=1)]: Done   2 out of   2 | elapsed:    0.0s remaining:    0.0s\n",
      "[Parallel(n_jobs=1)]: Done   3 out of   3 | elapsed:    0.0s remaining:    0.0s\n",
      "[Parallel(n_jobs=1)]: Done   4 out of   4 | elapsed:    0.1s remaining:    0.0s\n",
      "[Parallel(n_jobs=1)]: Done  11 out of  11 | elapsed:    0.2s finished\n",
      "/var/folders/9v/hrxf86p91h31ptwdds0f77qw0000gn/T/ipykernel_21916/2980718976.py:56: FutureWarning: Parameters \"info\", \"data\", \"times\", \"nave\" are deprecated and will be removed in version 1.8. For a quick fix, use ``AverageTFRArray`` with the same parameters. For a long-term fix, see the docstring notes.\n",
      "  all_pn_mean_tfr = mne.time_frequency.AverageTFR(info=info, data=pn_mean_tfr, times=time_range, freqs=freqs, nave=1)\n",
      "/var/folders/9v/hrxf86p91h31ptwdds0f77qw0000gn/T/ipykernel_21916/2980718976.py:57: FutureWarning: Parameters \"info\", \"data\", \"times\", \"nave\" are deprecated and will be removed in version 1.8. For a quick fix, use ``AverageTFRArray`` with the same parameters. For a long-term fix, see the docstring notes.\n",
      "  all_npn_mean_tfr = mne.time_frequency.AverageTFR(info=info, data=npn_mean_tfr, times=time_range, freqs=freqs, nave=1)\n"
     ]
    },
    {
     "name": "stdout",
     "output_type": "stream",
     "text": [
      "Extracting parameters from /Users/madwoman/Desktop/tpp_seeg/roi_data_1234_kids/insula/119.set...\n"
     ]
    },
    {
     "name": "stderr",
     "output_type": "stream",
     "text": [
      "/var/folders/9v/hrxf86p91h31ptwdds0f77qw0000gn/T/ipykernel_21916/2980718976.py:16: RuntimeWarning: At least one epoch has multiple events. Only the latency of the first event will be retained.\n",
      "  ROI_epochs = mne.read_epochs_eeglab(in_roi1_path + str(subjects[i]) + '.set')\n"
     ]
    },
    {
     "name": "stdout",
     "output_type": "stream",
     "text": [
      "Not setting metadata\n",
      "46 matching events found\n",
      "No baseline correction applied\n",
      "0 projection items activated\n",
      "Ready.\n",
      "NOTE: tfr_morlet() is a legacy function. New code should use .compute_tfr(method=\"morlet\").\n",
      "NOTE: tfr_morlet() is a legacy function. New code should use .compute_tfr(method=\"morlet\").\n"
     ]
    },
    {
     "name": "stderr",
     "output_type": "stream",
     "text": [
      "[Parallel(n_jobs=1)]: Using backend SequentialBackend with 1 concurrent workers.\n",
      "[Parallel(n_jobs=1)]: Done   1 out of   1 | elapsed:    0.0s remaining:    0.0s\n",
      "[Parallel(n_jobs=1)]: Done   2 out of   2 | elapsed:    0.0s remaining:    0.0s\n",
      "[Parallel(n_jobs=1)]: Done   3 out of   3 | elapsed:    0.0s remaining:    0.0s\n",
      "[Parallel(n_jobs=1)]: Done   4 out of   4 | elapsed:    0.1s remaining:    0.0s\n",
      "[Parallel(n_jobs=1)]: Done  10 out of  10 | elapsed:    0.1s finished\n",
      "[Parallel(n_jobs=1)]: Using backend SequentialBackend with 1 concurrent workers.\n",
      "[Parallel(n_jobs=1)]: Done   1 out of   1 | elapsed:    0.0s remaining:    0.0s\n",
      "[Parallel(n_jobs=1)]: Done   2 out of   2 | elapsed:    0.0s remaining:    0.0s\n",
      "[Parallel(n_jobs=1)]: Done   3 out of   3 | elapsed:    0.0s remaining:    0.0s\n",
      "[Parallel(n_jobs=1)]: Done   4 out of   4 | elapsed:    0.0s remaining:    0.0s\n",
      "[Parallel(n_jobs=1)]: Done  10 out of  10 | elapsed:    0.1s finished\n"
     ]
    },
    {
     "name": "stdout",
     "output_type": "stream",
     "text": [
      "Extracting parameters from /Users/madwoman/Desktop/tpp_seeg/roi_data_baseline/insula/119.set...\n"
     ]
    },
    {
     "name": "stderr",
     "output_type": "stream",
     "text": [
      "/var/folders/9v/hrxf86p91h31ptwdds0f77qw0000gn/T/ipykernel_21916/2980718976.py:31: RuntimeWarning: At least one epoch has multiple events. Only the latency of the first event will be retained.\n",
      "  baseline_epoches1 = mne.read_epochs_eeglab(in_roi1_baseline + str(subjects[i]) + '.set')\n"
     ]
    },
    {
     "name": "stdout",
     "output_type": "stream",
     "text": [
      "Not setting metadata\n",
      "45 matching events found\n",
      "No baseline correction applied\n",
      "0 projection items activated\n",
      "Ready.\n",
      "NOTE: tfr_morlet() is a legacy function. New code should use .compute_tfr(method=\"morlet\").\n",
      "NOTE: tfr_morlet() is a legacy function. New code should use .compute_tfr(method=\"morlet\").\n"
     ]
    },
    {
     "name": "stderr",
     "output_type": "stream",
     "text": [
      "[Parallel(n_jobs=1)]: Using backend SequentialBackend with 1 concurrent workers.\n",
      "[Parallel(n_jobs=1)]: Done   1 out of   1 | elapsed:    0.0s remaining:    0.0s\n",
      "[Parallel(n_jobs=1)]: Done   2 out of   2 | elapsed:    0.0s remaining:    0.0s\n",
      "[Parallel(n_jobs=1)]: Done   3 out of   3 | elapsed:    0.0s remaining:    0.0s\n",
      "[Parallel(n_jobs=1)]: Done   4 out of   4 | elapsed:    0.1s remaining:    0.0s\n",
      "[Parallel(n_jobs=1)]: Done  10 out of  10 | elapsed:    0.1s finished\n",
      "[Parallel(n_jobs=1)]: Using backend SequentialBackend with 1 concurrent workers.\n",
      "[Parallel(n_jobs=1)]: Done   1 out of   1 | elapsed:    0.0s remaining:    0.0s\n",
      "[Parallel(n_jobs=1)]: Done   2 out of   2 | elapsed:    0.0s remaining:    0.0s\n",
      "[Parallel(n_jobs=1)]: Done   3 out of   3 | elapsed:    0.0s remaining:    0.0s\n",
      "[Parallel(n_jobs=1)]: Done   4 out of   4 | elapsed:    0.0s remaining:    0.0s\n"
     ]
    },
    {
     "name": "stdout",
     "output_type": "stream",
     "text": [
      "Applying baseline correction (mode: zlogratio)\n",
      "Applying baseline correction (mode: zlogratio)\n"
     ]
    },
    {
     "name": "stderr",
     "output_type": "stream",
     "text": [
      "[Parallel(n_jobs=1)]: Done  10 out of  10 | elapsed:    0.1s finished\n",
      "/var/folders/9v/hrxf86p91h31ptwdds0f77qw0000gn/T/ipykernel_21916/2980718976.py:56: FutureWarning: Parameters \"info\", \"data\", \"times\", \"nave\" are deprecated and will be removed in version 1.8. For a quick fix, use ``AverageTFRArray`` with the same parameters. For a long-term fix, see the docstring notes.\n",
      "  all_pn_mean_tfr = mne.time_frequency.AverageTFR(info=info, data=pn_mean_tfr, times=time_range, freqs=freqs, nave=1)\n",
      "/var/folders/9v/hrxf86p91h31ptwdds0f77qw0000gn/T/ipykernel_21916/2980718976.py:57: FutureWarning: Parameters \"info\", \"data\", \"times\", \"nave\" are deprecated and will be removed in version 1.8. For a quick fix, use ``AverageTFRArray`` with the same parameters. For a long-term fix, see the docstring notes.\n",
      "  all_npn_mean_tfr = mne.time_frequency.AverageTFR(info=info, data=npn_mean_tfr, times=time_range, freqs=freqs, nave=1)\n"
     ]
    },
    {
     "name": "stdout",
     "output_type": "stream",
     "text": [
      "Extracting parameters from /Users/madwoman/Desktop/tpp_seeg/roi_data_1234_kids/insula/124.set...\n"
     ]
    },
    {
     "name": "stderr",
     "output_type": "stream",
     "text": [
      "/var/folders/9v/hrxf86p91h31ptwdds0f77qw0000gn/T/ipykernel_21916/2980718976.py:16: RuntimeWarning: At least one epoch has multiple events. Only the latency of the first event will be retained.\n",
      "  ROI_epochs = mne.read_epochs_eeglab(in_roi1_path + str(subjects[i]) + '.set')\n"
     ]
    },
    {
     "name": "stdout",
     "output_type": "stream",
     "text": [
      "Not setting metadata\n",
      "43 matching events found\n",
      "No baseline correction applied\n",
      "0 projection items activated\n",
      "Ready.\n",
      "NOTE: tfr_morlet() is a legacy function. New code should use .compute_tfr(method=\"morlet\").\n",
      "NOTE: tfr_morlet() is a legacy function. New code should use .compute_tfr(method=\"morlet\").\n"
     ]
    },
    {
     "name": "stderr",
     "output_type": "stream",
     "text": [
      "[Parallel(n_jobs=1)]: Using backend SequentialBackend with 1 concurrent workers.\n",
      "[Parallel(n_jobs=1)]: Done   1 out of   1 | elapsed:    0.0s remaining:    0.0s\n",
      "[Parallel(n_jobs=1)]: Done   2 out of   2 | elapsed:    0.0s remaining:    0.0s\n",
      "[Parallel(n_jobs=1)]: Done   3 out of   3 | elapsed:    0.0s remaining:    0.0s\n",
      "[Parallel(n_jobs=1)]: Done   4 out of   4 | elapsed:    0.1s remaining:    0.0s\n",
      "[Parallel(n_jobs=1)]: Done   4 out of   4 | elapsed:    0.1s finished\n",
      "[Parallel(n_jobs=1)]: Using backend SequentialBackend with 1 concurrent workers.\n",
      "[Parallel(n_jobs=1)]: Done   1 out of   1 | elapsed:    0.0s remaining:    0.0s\n",
      "[Parallel(n_jobs=1)]: Done   2 out of   2 | elapsed:    0.0s remaining:    0.0s\n",
      "[Parallel(n_jobs=1)]: Done   3 out of   3 | elapsed:    0.0s remaining:    0.0s\n",
      "[Parallel(n_jobs=1)]: Done   4 out of   4 | elapsed:    0.0s remaining:    0.0s\n",
      "[Parallel(n_jobs=1)]: Done   4 out of   4 | elapsed:    0.0s finished\n"
     ]
    },
    {
     "name": "stdout",
     "output_type": "stream",
     "text": [
      "Extracting parameters from /Users/madwoman/Desktop/tpp_seeg/roi_data_baseline/insula/124.set...\n"
     ]
    },
    {
     "name": "stderr",
     "output_type": "stream",
     "text": [
      "/var/folders/9v/hrxf86p91h31ptwdds0f77qw0000gn/T/ipykernel_21916/2980718976.py:31: RuntimeWarning: At least one epoch has multiple events. Only the latency of the first event will be retained.\n",
      "  baseline_epoches1 = mne.read_epochs_eeglab(in_roi1_baseline + str(subjects[i]) + '.set')\n"
     ]
    },
    {
     "name": "stdout",
     "output_type": "stream",
     "text": [
      "Not setting metadata\n",
      "43 matching events found\n",
      "No baseline correction applied\n",
      "0 projection items activated\n",
      "Ready.\n",
      "NOTE: tfr_morlet() is a legacy function. New code should use .compute_tfr(method=\"morlet\").\n",
      "NOTE: tfr_morlet() is a legacy function. New code should use .compute_tfr(method=\"morlet\").\n",
      "Applying baseline correction (mode: zlogratio)\n",
      "Applying baseline correction (mode: zlogratio)\n"
     ]
    },
    {
     "name": "stderr",
     "output_type": "stream",
     "text": [
      "[Parallel(n_jobs=1)]: Using backend SequentialBackend with 1 concurrent workers.\n",
      "[Parallel(n_jobs=1)]: Done   1 out of   1 | elapsed:    0.0s remaining:    0.0s\n",
      "[Parallel(n_jobs=1)]: Done   2 out of   2 | elapsed:    0.0s remaining:    0.0s\n",
      "[Parallel(n_jobs=1)]: Done   3 out of   3 | elapsed:    0.1s remaining:    0.0s\n",
      "[Parallel(n_jobs=1)]: Done   4 out of   4 | elapsed:    0.1s remaining:    0.0s\n",
      "[Parallel(n_jobs=1)]: Done   4 out of   4 | elapsed:    0.1s finished\n",
      "[Parallel(n_jobs=1)]: Using backend SequentialBackend with 1 concurrent workers.\n",
      "[Parallel(n_jobs=1)]: Done   1 out of   1 | elapsed:    0.0s remaining:    0.0s\n",
      "[Parallel(n_jobs=1)]: Done   2 out of   2 | elapsed:    0.0s remaining:    0.0s\n",
      "[Parallel(n_jobs=1)]: Done   3 out of   3 | elapsed:    0.0s remaining:    0.0s\n",
      "[Parallel(n_jobs=1)]: Done   4 out of   4 | elapsed:    0.1s remaining:    0.0s\n",
      "[Parallel(n_jobs=1)]: Done   4 out of   4 | elapsed:    0.1s finished\n",
      "/var/folders/9v/hrxf86p91h31ptwdds0f77qw0000gn/T/ipykernel_21916/2980718976.py:56: FutureWarning: Parameters \"info\", \"data\", \"times\", \"nave\" are deprecated and will be removed in version 1.8. For a quick fix, use ``AverageTFRArray`` with the same parameters. For a long-term fix, see the docstring notes.\n",
      "  all_pn_mean_tfr = mne.time_frequency.AverageTFR(info=info, data=pn_mean_tfr, times=time_range, freqs=freqs, nave=1)\n",
      "/var/folders/9v/hrxf86p91h31ptwdds0f77qw0000gn/T/ipykernel_21916/2980718976.py:57: FutureWarning: Parameters \"info\", \"data\", \"times\", \"nave\" are deprecated and will be removed in version 1.8. For a quick fix, use ``AverageTFRArray`` with the same parameters. For a long-term fix, see the docstring notes.\n",
      "  all_npn_mean_tfr = mne.time_frequency.AverageTFR(info=info, data=npn_mean_tfr, times=time_range, freqs=freqs, nave=1)\n"
     ]
    },
    {
     "name": "stdout",
     "output_type": "stream",
     "text": [
      "Extracting parameters from /Users/madwoman/Desktop/tpp_seeg/roi_data_1234_kids/insula/125.set...\n"
     ]
    },
    {
     "name": "stderr",
     "output_type": "stream",
     "text": [
      "/var/folders/9v/hrxf86p91h31ptwdds0f77qw0000gn/T/ipykernel_21916/2980718976.py:16: RuntimeWarning: At least one epoch has multiple events. Only the latency of the first event will be retained.\n",
      "  ROI_epochs = mne.read_epochs_eeglab(in_roi1_path + str(subjects[i]) + '.set')\n"
     ]
    },
    {
     "name": "stdout",
     "output_type": "stream",
     "text": [
      "Not setting metadata\n",
      "48 matching events found\n",
      "No baseline correction applied\n",
      "0 projection items activated\n",
      "Ready.\n",
      "NOTE: tfr_morlet() is a legacy function. New code should use .compute_tfr(method=\"morlet\").\n",
      "NOTE: tfr_morlet() is a legacy function. New code should use .compute_tfr(method=\"morlet\").\n"
     ]
    },
    {
     "name": "stderr",
     "output_type": "stream",
     "text": [
      "[Parallel(n_jobs=1)]: Using backend SequentialBackend with 1 concurrent workers.\n",
      "[Parallel(n_jobs=1)]: Done   1 out of   1 | elapsed:    0.0s remaining:    0.0s\n",
      "[Parallel(n_jobs=1)]: Done   2 out of   2 | elapsed:    0.0s remaining:    0.0s\n",
      "[Parallel(n_jobs=1)]: Done   3 out of   3 | elapsed:    0.0s remaining:    0.0s\n",
      "[Parallel(n_jobs=1)]: Done   4 out of   4 | elapsed:    0.1s remaining:    0.0s\n",
      "[Parallel(n_jobs=1)]: Done   9 out of   9 | elapsed:    0.1s finished\n",
      "[Parallel(n_jobs=1)]: Using backend SequentialBackend with 1 concurrent workers.\n",
      "[Parallel(n_jobs=1)]: Done   1 out of   1 | elapsed:    0.0s remaining:    0.0s\n",
      "[Parallel(n_jobs=1)]: Done   2 out of   2 | elapsed:    0.0s remaining:    0.0s\n",
      "[Parallel(n_jobs=1)]: Done   3 out of   3 | elapsed:    0.0s remaining:    0.0s\n",
      "[Parallel(n_jobs=1)]: Done   4 out of   4 | elapsed:    0.0s remaining:    0.0s\n",
      "[Parallel(n_jobs=1)]: Done   9 out of   9 | elapsed:    0.1s finished\n"
     ]
    },
    {
     "name": "stdout",
     "output_type": "stream",
     "text": [
      "Extracting parameters from /Users/madwoman/Desktop/tpp_seeg/roi_data_baseline/insula/125.set...\n"
     ]
    },
    {
     "name": "stderr",
     "output_type": "stream",
     "text": [
      "/var/folders/9v/hrxf86p91h31ptwdds0f77qw0000gn/T/ipykernel_21916/2980718976.py:31: RuntimeWarning: At least one epoch has multiple events. Only the latency of the first event will be retained.\n",
      "  baseline_epoches1 = mne.read_epochs_eeglab(in_roi1_baseline + str(subjects[i]) + '.set')\n"
     ]
    },
    {
     "name": "stdout",
     "output_type": "stream",
     "text": [
      "Not setting metadata\n",
      "48 matching events found\n",
      "No baseline correction applied\n",
      "0 projection items activated\n",
      "Ready.\n",
      "NOTE: tfr_morlet() is a legacy function. New code should use .compute_tfr(method=\"morlet\").\n",
      "NOTE: tfr_morlet() is a legacy function. New code should use .compute_tfr(method=\"morlet\").\n"
     ]
    },
    {
     "name": "stderr",
     "output_type": "stream",
     "text": [
      "[Parallel(n_jobs=1)]: Using backend SequentialBackend with 1 concurrent workers.\n",
      "[Parallel(n_jobs=1)]: Done   1 out of   1 | elapsed:    0.0s remaining:    0.0s\n",
      "[Parallel(n_jobs=1)]: Done   2 out of   2 | elapsed:    0.0s remaining:    0.0s\n",
      "[Parallel(n_jobs=1)]: Done   3 out of   3 | elapsed:    0.1s remaining:    0.0s\n",
      "[Parallel(n_jobs=1)]: Done   4 out of   4 | elapsed:    0.1s remaining:    0.0s\n",
      "[Parallel(n_jobs=1)]: Done   9 out of   9 | elapsed:    0.2s finished\n",
      "[Parallel(n_jobs=1)]: Using backend SequentialBackend with 1 concurrent workers.\n",
      "[Parallel(n_jobs=1)]: Done   1 out of   1 | elapsed:    0.0s remaining:    0.0s\n"
     ]
    },
    {
     "name": "stdout",
     "output_type": "stream",
     "text": [
      "Applying baseline correction (mode: zlogratio)\n",
      "Applying baseline correction (mode: zlogratio)\n"
     ]
    },
    {
     "name": "stderr",
     "output_type": "stream",
     "text": [
      "[Parallel(n_jobs=1)]: Done   2 out of   2 | elapsed:    0.0s remaining:    0.0s\n",
      "[Parallel(n_jobs=1)]: Done   3 out of   3 | elapsed:    0.1s remaining:    0.0s\n",
      "[Parallel(n_jobs=1)]: Done   4 out of   4 | elapsed:    0.1s remaining:    0.0s\n",
      "[Parallel(n_jobs=1)]: Done   9 out of   9 | elapsed:    0.2s finished\n",
      "/var/folders/9v/hrxf86p91h31ptwdds0f77qw0000gn/T/ipykernel_21916/2980718976.py:56: FutureWarning: Parameters \"info\", \"data\", \"times\", \"nave\" are deprecated and will be removed in version 1.8. For a quick fix, use ``AverageTFRArray`` with the same parameters. For a long-term fix, see the docstring notes.\n",
      "  all_pn_mean_tfr = mne.time_frequency.AverageTFR(info=info, data=pn_mean_tfr, times=time_range, freqs=freqs, nave=1)\n",
      "/var/folders/9v/hrxf86p91h31ptwdds0f77qw0000gn/T/ipykernel_21916/2980718976.py:57: FutureWarning: Parameters \"info\", \"data\", \"times\", \"nave\" are deprecated and will be removed in version 1.8. For a quick fix, use ``AverageTFRArray`` with the same parameters. For a long-term fix, see the docstring notes.\n",
      "  all_npn_mean_tfr = mne.time_frequency.AverageTFR(info=info, data=npn_mean_tfr, times=time_range, freqs=freqs, nave=1)\n"
     ]
    },
    {
     "name": "stdout",
     "output_type": "stream",
     "text": [
      "Extracting parameters from /Users/madwoman/Desktop/tpp_seeg/roi_data_1234_kids/insula/127.set...\n"
     ]
    },
    {
     "name": "stderr",
     "output_type": "stream",
     "text": [
      "/var/folders/9v/hrxf86p91h31ptwdds0f77qw0000gn/T/ipykernel_21916/2980718976.py:16: RuntimeWarning: At least one epoch has multiple events. Only the latency of the first event will be retained.\n",
      "  ROI_epochs = mne.read_epochs_eeglab(in_roi1_path + str(subjects[i]) + '.set')\n"
     ]
    },
    {
     "name": "stdout",
     "output_type": "stream",
     "text": [
      "Not setting metadata\n",
      "48 matching events found\n",
      "No baseline correction applied\n",
      "0 projection items activated\n",
      "Ready.\n",
      "NOTE: tfr_morlet() is a legacy function. New code should use .compute_tfr(method=\"morlet\").\n"
     ]
    },
    {
     "name": "stderr",
     "output_type": "stream",
     "text": [
      "[Parallel(n_jobs=1)]: Using backend SequentialBackend with 1 concurrent workers.\n",
      "[Parallel(n_jobs=1)]: Done   1 out of   1 | elapsed:    0.0s remaining:    0.0s\n",
      "[Parallel(n_jobs=1)]: Done   2 out of   2 | elapsed:    0.0s remaining:    0.0s\n",
      "[Parallel(n_jobs=1)]: Done   3 out of   3 | elapsed:    0.0s remaining:    0.0s\n",
      "[Parallel(n_jobs=1)]: Done   4 out of   4 | elapsed:    0.1s remaining:    0.0s\n"
     ]
    },
    {
     "name": "stdout",
     "output_type": "stream",
     "text": [
      "NOTE: tfr_morlet() is a legacy function. New code should use .compute_tfr(method=\"morlet\").\n"
     ]
    },
    {
     "name": "stderr",
     "output_type": "stream",
     "text": [
      "[Parallel(n_jobs=1)]: Done  18 out of  18 | elapsed:    0.2s finished\n",
      "[Parallel(n_jobs=1)]: Using backend SequentialBackend with 1 concurrent workers.\n",
      "[Parallel(n_jobs=1)]: Done   1 out of   1 | elapsed:    0.0s remaining:    0.0s\n",
      "[Parallel(n_jobs=1)]: Done   2 out of   2 | elapsed:    0.0s remaining:    0.0s\n",
      "[Parallel(n_jobs=1)]: Done   3 out of   3 | elapsed:    0.0s remaining:    0.0s\n",
      "[Parallel(n_jobs=1)]: Done   4 out of   4 | elapsed:    0.1s remaining:    0.0s\n",
      "[Parallel(n_jobs=1)]: Done  18 out of  18 | elapsed:    0.2s finished\n"
     ]
    },
    {
     "name": "stdout",
     "output_type": "stream",
     "text": [
      "Extracting parameters from /Users/madwoman/Desktop/tpp_seeg/roi_data_baseline/insula/127.set...\n"
     ]
    },
    {
     "name": "stderr",
     "output_type": "stream",
     "text": [
      "/var/folders/9v/hrxf86p91h31ptwdds0f77qw0000gn/T/ipykernel_21916/2980718976.py:31: RuntimeWarning: At least one epoch has multiple events. Only the latency of the first event will be retained.\n",
      "  baseline_epoches1 = mne.read_epochs_eeglab(in_roi1_baseline + str(subjects[i]) + '.set')\n"
     ]
    },
    {
     "name": "stdout",
     "output_type": "stream",
     "text": [
      "Not setting metadata\n",
      "48 matching events found\n",
      "No baseline correction applied\n",
      "0 projection items activated\n",
      "Ready.\n",
      "NOTE: tfr_morlet() is a legacy function. New code should use .compute_tfr(method=\"morlet\").\n"
     ]
    },
    {
     "name": "stderr",
     "output_type": "stream",
     "text": [
      "[Parallel(n_jobs=1)]: Using backend SequentialBackend with 1 concurrent workers.\n",
      "[Parallel(n_jobs=1)]: Done   1 out of   1 | elapsed:    0.0s remaining:    0.0s\n",
      "[Parallel(n_jobs=1)]: Done   2 out of   2 | elapsed:    0.0s remaining:    0.0s\n",
      "[Parallel(n_jobs=1)]: Done   3 out of   3 | elapsed:    0.1s remaining:    0.0s\n",
      "[Parallel(n_jobs=1)]: Done   4 out of   4 | elapsed:    0.1s remaining:    0.0s\n"
     ]
    },
    {
     "name": "stdout",
     "output_type": "stream",
     "text": [
      "NOTE: tfr_morlet() is a legacy function. New code should use .compute_tfr(method=\"morlet\").\n"
     ]
    },
    {
     "name": "stderr",
     "output_type": "stream",
     "text": [
      "[Parallel(n_jobs=1)]: Done  18 out of  18 | elapsed:    0.3s finished\n",
      "[Parallel(n_jobs=1)]: Using backend SequentialBackend with 1 concurrent workers.\n",
      "[Parallel(n_jobs=1)]: Done   1 out of   1 | elapsed:    0.0s remaining:    0.0s\n",
      "[Parallel(n_jobs=1)]: Done   2 out of   2 | elapsed:    0.0s remaining:    0.0s\n",
      "[Parallel(n_jobs=1)]: Done   3 out of   3 | elapsed:    0.0s remaining:    0.0s\n",
      "[Parallel(n_jobs=1)]: Done   4 out of   4 | elapsed:    0.1s remaining:    0.0s\n"
     ]
    },
    {
     "name": "stdout",
     "output_type": "stream",
     "text": [
      "Applying baseline correction (mode: zlogratio)\n",
      "Applying baseline correction (mode: zlogratio)\n"
     ]
    },
    {
     "name": "stderr",
     "output_type": "stream",
     "text": [
      "[Parallel(n_jobs=1)]: Done  18 out of  18 | elapsed:    0.3s finished\n",
      "/var/folders/9v/hrxf86p91h31ptwdds0f77qw0000gn/T/ipykernel_21916/2980718976.py:56: FutureWarning: Parameters \"info\", \"data\", \"times\", \"nave\" are deprecated and will be removed in version 1.8. For a quick fix, use ``AverageTFRArray`` with the same parameters. For a long-term fix, see the docstring notes.\n",
      "  all_pn_mean_tfr = mne.time_frequency.AverageTFR(info=info, data=pn_mean_tfr, times=time_range, freqs=freqs, nave=1)\n",
      "/var/folders/9v/hrxf86p91h31ptwdds0f77qw0000gn/T/ipykernel_21916/2980718976.py:57: FutureWarning: Parameters \"info\", \"data\", \"times\", \"nave\" are deprecated and will be removed in version 1.8. For a quick fix, use ``AverageTFRArray`` with the same parameters. For a long-term fix, see the docstring notes.\n",
      "  all_npn_mean_tfr = mne.time_frequency.AverageTFR(info=info, data=npn_mean_tfr, times=time_range, freqs=freqs, nave=1)\n"
     ]
    },
    {
     "name": "stdout",
     "output_type": "stream",
     "text": [
      "Extracting parameters from /Users/madwoman/Desktop/tpp_seeg/roi_data_1234_kids/insula/131.set...\n"
     ]
    },
    {
     "name": "stderr",
     "output_type": "stream",
     "text": [
      "/var/folders/9v/hrxf86p91h31ptwdds0f77qw0000gn/T/ipykernel_21916/2980718976.py:16: RuntimeWarning: At least one epoch has multiple events. Only the latency of the first event will be retained.\n",
      "  ROI_epochs = mne.read_epochs_eeglab(in_roi1_path + str(subjects[i]) + '.set')\n"
     ]
    },
    {
     "name": "stdout",
     "output_type": "stream",
     "text": [
      "Not setting metadata\n",
      "46 matching events found\n",
      "No baseline correction applied\n",
      "0 projection items activated\n",
      "Ready.\n",
      "NOTE: tfr_morlet() is a legacy function. New code should use .compute_tfr(method=\"morlet\").\n",
      "NOTE: tfr_morlet() is a legacy function. New code should use .compute_tfr(method=\"morlet\").\n"
     ]
    },
    {
     "name": "stderr",
     "output_type": "stream",
     "text": [
      "[Parallel(n_jobs=1)]: Using backend SequentialBackend with 1 concurrent workers.\n",
      "[Parallel(n_jobs=1)]: Done   1 out of   1 | elapsed:    0.0s remaining:    0.0s\n",
      "[Parallel(n_jobs=1)]: Done   2 out of   2 | elapsed:    0.0s remaining:    0.0s\n",
      "[Parallel(n_jobs=1)]: Done   3 out of   3 | elapsed:    0.0s remaining:    0.0s\n",
      "[Parallel(n_jobs=1)]: Done   4 out of   4 | elapsed:    0.1s remaining:    0.0s\n",
      "[Parallel(n_jobs=1)]: Done  11 out of  11 | elapsed:    0.2s finished\n",
      "[Parallel(n_jobs=1)]: Using backend SequentialBackend with 1 concurrent workers.\n",
      "[Parallel(n_jobs=1)]: Done   1 out of   1 | elapsed:    0.0s remaining:    0.0s\n",
      "[Parallel(n_jobs=1)]: Done   2 out of   2 | elapsed:    0.0s remaining:    0.0s\n",
      "[Parallel(n_jobs=1)]: Done   3 out of   3 | elapsed:    0.0s remaining:    0.0s\n",
      "[Parallel(n_jobs=1)]: Done   4 out of   4 | elapsed:    0.1s remaining:    0.0s\n",
      "[Parallel(n_jobs=1)]: Done  11 out of  11 | elapsed:    0.1s finished\n"
     ]
    },
    {
     "name": "stdout",
     "output_type": "stream",
     "text": [
      "Extracting parameters from /Users/madwoman/Desktop/tpp_seeg/roi_data_baseline/insula/131.set...\n"
     ]
    },
    {
     "name": "stderr",
     "output_type": "stream",
     "text": [
      "/var/folders/9v/hrxf86p91h31ptwdds0f77qw0000gn/T/ipykernel_21916/2980718976.py:31: RuntimeWarning: At least one epoch has multiple events. Only the latency of the first event will be retained.\n",
      "  baseline_epoches1 = mne.read_epochs_eeglab(in_roi1_baseline + str(subjects[i]) + '.set')\n"
     ]
    },
    {
     "name": "stdout",
     "output_type": "stream",
     "text": [
      "Not setting metadata\n",
      "46 matching events found\n",
      "No baseline correction applied\n",
      "0 projection items activated\n",
      "Ready.\n",
      "NOTE: tfr_morlet() is a legacy function. New code should use .compute_tfr(method=\"morlet\").\n",
      "NOTE: tfr_morlet() is a legacy function. New code should use .compute_tfr(method=\"morlet\").\n"
     ]
    },
    {
     "name": "stderr",
     "output_type": "stream",
     "text": [
      "[Parallel(n_jobs=1)]: Using backend SequentialBackend with 1 concurrent workers.\n",
      "[Parallel(n_jobs=1)]: Done   1 out of   1 | elapsed:    0.0s remaining:    0.0s\n",
      "[Parallel(n_jobs=1)]: Done   2 out of   2 | elapsed:    0.0s remaining:    0.0s\n",
      "[Parallel(n_jobs=1)]: Done   3 out of   3 | elapsed:    0.1s remaining:    0.0s\n",
      "[Parallel(n_jobs=1)]: Done   4 out of   4 | elapsed:    0.1s remaining:    0.0s\n",
      "[Parallel(n_jobs=1)]: Done  11 out of  11 | elapsed:    0.2s finished\n",
      "[Parallel(n_jobs=1)]: Using backend SequentialBackend with 1 concurrent workers.\n"
     ]
    },
    {
     "name": "stdout",
     "output_type": "stream",
     "text": [
      "Applying baseline correction (mode: zlogratio)\n",
      "Applying baseline correction (mode: zlogratio)\n"
     ]
    },
    {
     "name": "stderr",
     "output_type": "stream",
     "text": [
      "[Parallel(n_jobs=1)]: Done   1 out of   1 | elapsed:    0.0s remaining:    0.0s\n",
      "[Parallel(n_jobs=1)]: Done   2 out of   2 | elapsed:    0.0s remaining:    0.0s\n",
      "[Parallel(n_jobs=1)]: Done   3 out of   3 | elapsed:    0.1s remaining:    0.0s\n",
      "[Parallel(n_jobs=1)]: Done   4 out of   4 | elapsed:    0.1s remaining:    0.0s\n",
      "[Parallel(n_jobs=1)]: Done  11 out of  11 | elapsed:    0.2s finished\n",
      "/var/folders/9v/hrxf86p91h31ptwdds0f77qw0000gn/T/ipykernel_21916/2980718976.py:56: FutureWarning: Parameters \"info\", \"data\", \"times\", \"nave\" are deprecated and will be removed in version 1.8. For a quick fix, use ``AverageTFRArray`` with the same parameters. For a long-term fix, see the docstring notes.\n",
      "  all_pn_mean_tfr = mne.time_frequency.AverageTFR(info=info, data=pn_mean_tfr, times=time_range, freqs=freqs, nave=1)\n",
      "/var/folders/9v/hrxf86p91h31ptwdds0f77qw0000gn/T/ipykernel_21916/2980718976.py:57: FutureWarning: Parameters \"info\", \"data\", \"times\", \"nave\" are deprecated and will be removed in version 1.8. For a quick fix, use ``AverageTFRArray`` with the same parameters. For a long-term fix, see the docstring notes.\n",
      "  all_npn_mean_tfr = mne.time_frequency.AverageTFR(info=info, data=npn_mean_tfr, times=time_range, freqs=freqs, nave=1)\n"
     ]
    },
    {
     "name": "stdout",
     "output_type": "stream",
     "text": [
      "Extracting parameters from /Users/madwoman/Desktop/tpp_seeg/roi_data_1234_kids/insula/134.set...\n",
      "Not setting metadata\n",
      "48 matching events found\n",
      "No baseline correction applied\n",
      "0 projection items activated\n",
      "Ready.\n",
      "NOTE: tfr_morlet() is a legacy function. New code should use .compute_tfr(method=\"morlet\").\n",
      "NOTE: tfr_morlet() is a legacy function. New code should use .compute_tfr(method=\"morlet\").\n",
      "Extracting parameters from /Users/madwoman/Desktop/tpp_seeg/roi_data_baseline/insula/134.set...\n"
     ]
    },
    {
     "name": "stderr",
     "output_type": "stream",
     "text": [
      "/var/folders/9v/hrxf86p91h31ptwdds0f77qw0000gn/T/ipykernel_21916/2980718976.py:16: RuntimeWarning: At least one epoch has multiple events. Only the latency of the first event will be retained.\n",
      "  ROI_epochs = mne.read_epochs_eeglab(in_roi1_path + str(subjects[i]) + '.set')\n",
      "[Parallel(n_jobs=1)]: Using backend SequentialBackend with 1 concurrent workers.\n",
      "[Parallel(n_jobs=1)]: Done   1 out of   1 | elapsed:    0.0s remaining:    0.0s\n",
      "[Parallel(n_jobs=1)]: Done   2 out of   2 | elapsed:    0.0s remaining:    0.0s\n",
      "[Parallel(n_jobs=1)]: Done   3 out of   3 | elapsed:    0.0s remaining:    0.0s\n",
      "[Parallel(n_jobs=1)]: Done   4 out of   4 | elapsed:    0.1s remaining:    0.0s\n",
      "[Parallel(n_jobs=1)]: Done   4 out of   4 | elapsed:    0.1s finished\n",
      "[Parallel(n_jobs=1)]: Using backend SequentialBackend with 1 concurrent workers.\n",
      "[Parallel(n_jobs=1)]: Done   1 out of   1 | elapsed:    0.0s remaining:    0.0s\n",
      "[Parallel(n_jobs=1)]: Done   2 out of   2 | elapsed:    0.0s remaining:    0.0s\n",
      "[Parallel(n_jobs=1)]: Done   3 out of   3 | elapsed:    0.0s remaining:    0.0s\n",
      "[Parallel(n_jobs=1)]: Done   4 out of   4 | elapsed:    0.0s remaining:    0.0s\n",
      "[Parallel(n_jobs=1)]: Done   4 out of   4 | elapsed:    0.0s finished\n",
      "/var/folders/9v/hrxf86p91h31ptwdds0f77qw0000gn/T/ipykernel_21916/2980718976.py:31: RuntimeWarning: At least one epoch has multiple events. Only the latency of the first event will be retained.\n",
      "  baseline_epoches1 = mne.read_epochs_eeglab(in_roi1_baseline + str(subjects[i]) + '.set')\n"
     ]
    },
    {
     "name": "stdout",
     "output_type": "stream",
     "text": [
      "Not setting metadata\n",
      "48 matching events found\n",
      "No baseline correction applied\n",
      "0 projection items activated\n",
      "Ready.\n",
      "NOTE: tfr_morlet() is a legacy function. New code should use .compute_tfr(method=\"morlet\").\n",
      "NOTE: tfr_morlet() is a legacy function. New code should use .compute_tfr(method=\"morlet\").\n",
      "Applying baseline correction (mode: zlogratio)\n",
      "Applying baseline correction (mode: zlogratio)\n"
     ]
    },
    {
     "name": "stderr",
     "output_type": "stream",
     "text": [
      "[Parallel(n_jobs=1)]: Using backend SequentialBackend with 1 concurrent workers.\n",
      "[Parallel(n_jobs=1)]: Done   1 out of   1 | elapsed:    0.0s remaining:    0.0s\n",
      "[Parallel(n_jobs=1)]: Done   2 out of   2 | elapsed:    0.0s remaining:    0.0s\n",
      "[Parallel(n_jobs=1)]: Done   3 out of   3 | elapsed:    0.1s remaining:    0.0s\n",
      "[Parallel(n_jobs=1)]: Done   4 out of   4 | elapsed:    0.1s remaining:    0.0s\n",
      "[Parallel(n_jobs=1)]: Done   4 out of   4 | elapsed:    0.1s finished\n",
      "[Parallel(n_jobs=1)]: Using backend SequentialBackend with 1 concurrent workers.\n",
      "[Parallel(n_jobs=1)]: Done   1 out of   1 | elapsed:    0.0s remaining:    0.0s\n",
      "[Parallel(n_jobs=1)]: Done   2 out of   2 | elapsed:    0.0s remaining:    0.0s\n",
      "[Parallel(n_jobs=1)]: Done   3 out of   3 | elapsed:    0.1s remaining:    0.0s\n",
      "[Parallel(n_jobs=1)]: Done   4 out of   4 | elapsed:    0.1s remaining:    0.0s\n",
      "[Parallel(n_jobs=1)]: Done   4 out of   4 | elapsed:    0.1s finished\n",
      "/var/folders/9v/hrxf86p91h31ptwdds0f77qw0000gn/T/ipykernel_21916/2980718976.py:56: FutureWarning: Parameters \"info\", \"data\", \"times\", \"nave\" are deprecated and will be removed in version 1.8. For a quick fix, use ``AverageTFRArray`` with the same parameters. For a long-term fix, see the docstring notes.\n",
      "  all_pn_mean_tfr = mne.time_frequency.AverageTFR(info=info, data=pn_mean_tfr, times=time_range, freqs=freqs, nave=1)\n",
      "/var/folders/9v/hrxf86p91h31ptwdds0f77qw0000gn/T/ipykernel_21916/2980718976.py:57: FutureWarning: Parameters \"info\", \"data\", \"times\", \"nave\" are deprecated and will be removed in version 1.8. For a quick fix, use ``AverageTFRArray`` with the same parameters. For a long-term fix, see the docstring notes.\n",
      "  all_npn_mean_tfr = mne.time_frequency.AverageTFR(info=info, data=npn_mean_tfr, times=time_range, freqs=freqs, nave=1)\n"
     ]
    },
    {
     "name": "stdout",
     "output_type": "stream",
     "text": [
      "Extracting parameters from /Users/madwoman/Desktop/tpp_seeg/roi_data_1234/amygdala_new/110.set...\n"
     ]
    },
    {
     "name": "stderr",
     "output_type": "stream",
     "text": [
      "/var/folders/9v/hrxf86p91h31ptwdds0f77qw0000gn/T/ipykernel_21916/2980718976.py:79: RuntimeWarning: At least one epoch has multiple events. Only the latency of the first event will be retained.\n",
      "  ROI_epochs = mne.read_epochs_eeglab(in_roi2_path + str(subjects[i]) + '.set')\n"
     ]
    },
    {
     "name": "stdout",
     "output_type": "stream",
     "text": [
      "Not setting metadata\n",
      "45 matching events found\n",
      "No baseline correction applied\n",
      "0 projection items activated\n",
      "Ready.\n",
      "NOTE: tfr_morlet() is a legacy function. New code should use .compute_tfr(method=\"morlet\").\n",
      "NOTE: tfr_morlet() is a legacy function. New code should use .compute_tfr(method=\"morlet\").\n"
     ]
    },
    {
     "name": "stderr",
     "output_type": "stream",
     "text": [
      "[Parallel(n_jobs=1)]: Using backend SequentialBackend with 1 concurrent workers.\n",
      "[Parallel(n_jobs=1)]: Done   1 out of   1 | elapsed:    0.0s remaining:    0.0s\n",
      "[Parallel(n_jobs=1)]: Done   2 out of   2 | elapsed:    0.0s remaining:    0.0s\n",
      "[Parallel(n_jobs=1)]: Done   3 out of   3 | elapsed:    0.1s remaining:    0.0s\n",
      "[Parallel(n_jobs=1)]: Done   3 out of   3 | elapsed:    0.1s finished\n",
      "[Parallel(n_jobs=1)]: Using backend SequentialBackend with 1 concurrent workers.\n",
      "[Parallel(n_jobs=1)]: Done   1 out of   1 | elapsed:    0.0s remaining:    0.0s\n",
      "[Parallel(n_jobs=1)]: Done   2 out of   2 | elapsed:    0.0s remaining:    0.0s\n",
      "[Parallel(n_jobs=1)]: Done   3 out of   3 | elapsed:    0.0s remaining:    0.0s\n",
      "[Parallel(n_jobs=1)]: Done   3 out of   3 | elapsed:    0.0s finished\n"
     ]
    },
    {
     "name": "stdout",
     "output_type": "stream",
     "text": [
      "Extracting parameters from /Users/madwoman/Desktop/tpp_seeg/roi_data_baseline/amygdala_new/110.set...\n"
     ]
    },
    {
     "name": "stderr",
     "output_type": "stream",
     "text": [
      "/var/folders/9v/hrxf86p91h31ptwdds0f77qw0000gn/T/ipykernel_21916/2980718976.py:93: RuntimeWarning: At least one epoch has multiple events. Only the latency of the first event will be retained.\n",
      "  baseline_epoches2 = mne.read_epochs_eeglab(in_roi2_baseline + str(subjects[i]) + '.set')\n"
     ]
    },
    {
     "name": "stdout",
     "output_type": "stream",
     "text": [
      "Not setting metadata\n",
      "48 matching events found\n",
      "No baseline correction applied\n",
      "0 projection items activated\n",
      "Ready.\n",
      "NOTE: tfr_morlet() is a legacy function. New code should use .compute_tfr(method=\"morlet\").\n",
      "NOTE: tfr_morlet() is a legacy function. New code should use .compute_tfr(method=\"morlet\").\n",
      "Applying baseline correction (mode: zlogratio)\n",
      "Applying baseline correction (mode: zlogratio)\n"
     ]
    },
    {
     "name": "stderr",
     "output_type": "stream",
     "text": [
      "[Parallel(n_jobs=1)]: Using backend SequentialBackend with 1 concurrent workers.\n",
      "[Parallel(n_jobs=1)]: Done   1 out of   1 | elapsed:    0.0s remaining:    0.0s\n",
      "[Parallel(n_jobs=1)]: Done   2 out of   2 | elapsed:    0.0s remaining:    0.0s\n",
      "[Parallel(n_jobs=1)]: Done   3 out of   3 | elapsed:    0.1s remaining:    0.0s\n",
      "[Parallel(n_jobs=1)]: Done   3 out of   3 | elapsed:    0.1s finished\n",
      "[Parallel(n_jobs=1)]: Using backend SequentialBackend with 1 concurrent workers.\n",
      "[Parallel(n_jobs=1)]: Done   1 out of   1 | elapsed:    0.0s remaining:    0.0s\n",
      "[Parallel(n_jobs=1)]: Done   2 out of   2 | elapsed:    0.0s remaining:    0.0s\n",
      "[Parallel(n_jobs=1)]: Done   3 out of   3 | elapsed:    0.0s remaining:    0.0s\n",
      "[Parallel(n_jobs=1)]: Done   3 out of   3 | elapsed:    0.1s finished\n",
      "/var/folders/9v/hrxf86p91h31ptwdds0f77qw0000gn/T/ipykernel_21916/2980718976.py:118: FutureWarning: Parameters \"info\", \"data\", \"times\", \"nave\" are deprecated and will be removed in version 1.8. For a quick fix, use ``AverageTFRArray`` with the same parameters. For a long-term fix, see the docstring notes.\n",
      "  all_pn_mean_tfr = mne.time_frequency.AverageTFR(info=info, data=pn_mean_tfr, times=time_range, freqs=freqs, nave=1)\n",
      "/var/folders/9v/hrxf86p91h31ptwdds0f77qw0000gn/T/ipykernel_21916/2980718976.py:119: FutureWarning: Parameters \"info\", \"data\", \"times\", \"nave\" are deprecated and will be removed in version 1.8. For a quick fix, use ``AverageTFRArray`` with the same parameters. For a long-term fix, see the docstring notes.\n",
      "  all_npn_mean_tfr = mne.time_frequency.AverageTFR(info=info, data=npn_mean_tfr, times=time_range, freqs=freqs, nave=1)\n"
     ]
    },
    {
     "name": "stdout",
     "output_type": "stream",
     "text": [
      "Extracting parameters from /Users/madwoman/Desktop/tpp_seeg/roi_data_1234/amygdala_new/119.set...\n"
     ]
    },
    {
     "name": "stderr",
     "output_type": "stream",
     "text": [
      "/var/folders/9v/hrxf86p91h31ptwdds0f77qw0000gn/T/ipykernel_21916/2980718976.py:79: RuntimeWarning: At least one epoch has multiple events. Only the latency of the first event will be retained.\n",
      "  ROI_epochs = mne.read_epochs_eeglab(in_roi2_path + str(subjects[i]) + '.set')\n"
     ]
    },
    {
     "name": "stdout",
     "output_type": "stream",
     "text": [
      "Not setting metadata\n",
      "46 matching events found\n",
      "No baseline correction applied\n",
      "0 projection items activated\n",
      "Ready.\n",
      "NOTE: tfr_morlet() is a legacy function. New code should use .compute_tfr(method=\"morlet\").\n",
      "NOTE: tfr_morlet() is a legacy function. New code should use .compute_tfr(method=\"morlet\").\n"
     ]
    },
    {
     "name": "stderr",
     "output_type": "stream",
     "text": [
      "[Parallel(n_jobs=1)]: Using backend SequentialBackend with 1 concurrent workers.\n",
      "[Parallel(n_jobs=1)]: Done   1 out of   1 | elapsed:    0.0s remaining:    0.0s\n",
      "[Parallel(n_jobs=1)]: Done   2 out of   2 | elapsed:    0.0s remaining:    0.0s\n",
      "[Parallel(n_jobs=1)]: Done   3 out of   3 | elapsed:    0.1s remaining:    0.0s\n",
      "[Parallel(n_jobs=1)]: Done   4 out of   4 | elapsed:    0.1s remaining:    0.0s\n",
      "[Parallel(n_jobs=1)]: Done   4 out of   4 | elapsed:    0.1s finished\n",
      "[Parallel(n_jobs=1)]: Using backend SequentialBackend with 1 concurrent workers.\n",
      "[Parallel(n_jobs=1)]: Done   1 out of   1 | elapsed:    0.0s remaining:    0.0s\n",
      "[Parallel(n_jobs=1)]: Done   2 out of   2 | elapsed:    0.0s remaining:    0.0s\n",
      "[Parallel(n_jobs=1)]: Done   3 out of   3 | elapsed:    0.0s remaining:    0.0s\n",
      "[Parallel(n_jobs=1)]: Done   4 out of   4 | elapsed:    0.0s remaining:    0.0s\n",
      "[Parallel(n_jobs=1)]: Done   4 out of   4 | elapsed:    0.0s finished\n"
     ]
    },
    {
     "name": "stdout",
     "output_type": "stream",
     "text": [
      "Extracting parameters from /Users/madwoman/Desktop/tpp_seeg/roi_data_baseline/amygdala_new/119.set...\n"
     ]
    },
    {
     "name": "stderr",
     "output_type": "stream",
     "text": [
      "/var/folders/9v/hrxf86p91h31ptwdds0f77qw0000gn/T/ipykernel_21916/2980718976.py:93: RuntimeWarning: At least one epoch has multiple events. Only the latency of the first event will be retained.\n",
      "  baseline_epoches2 = mne.read_epochs_eeglab(in_roi2_baseline + str(subjects[i]) + '.set')\n"
     ]
    },
    {
     "name": "stdout",
     "output_type": "stream",
     "text": [
      "Not setting metadata\n",
      "46 matching events found\n",
      "No baseline correction applied\n",
      "0 projection items activated\n",
      "Ready.\n",
      "NOTE: tfr_morlet() is a legacy function. New code should use .compute_tfr(method=\"morlet\").\n",
      "NOTE: tfr_morlet() is a legacy function. New code should use .compute_tfr(method=\"morlet\").\n",
      "Applying baseline correction (mode: zlogratio)\n",
      "Applying baseline correction (mode: zlogratio)\n"
     ]
    },
    {
     "name": "stderr",
     "output_type": "stream",
     "text": [
      "[Parallel(n_jobs=1)]: Using backend SequentialBackend with 1 concurrent workers.\n",
      "[Parallel(n_jobs=1)]: Done   1 out of   1 | elapsed:    0.0s remaining:    0.0s\n",
      "[Parallel(n_jobs=1)]: Done   2 out of   2 | elapsed:    0.0s remaining:    0.0s\n",
      "[Parallel(n_jobs=1)]: Done   3 out of   3 | elapsed:    0.0s remaining:    0.0s\n",
      "[Parallel(n_jobs=1)]: Done   4 out of   4 | elapsed:    0.1s remaining:    0.0s\n",
      "[Parallel(n_jobs=1)]: Done   4 out of   4 | elapsed:    0.1s finished\n",
      "[Parallel(n_jobs=1)]: Using backend SequentialBackend with 1 concurrent workers.\n",
      "[Parallel(n_jobs=1)]: Done   1 out of   1 | elapsed:    0.0s remaining:    0.0s\n",
      "[Parallel(n_jobs=1)]: Done   2 out of   2 | elapsed:    0.0s remaining:    0.0s\n",
      "[Parallel(n_jobs=1)]: Done   3 out of   3 | elapsed:    0.0s remaining:    0.0s\n",
      "[Parallel(n_jobs=1)]: Done   4 out of   4 | elapsed:    0.1s remaining:    0.0s\n",
      "[Parallel(n_jobs=1)]: Done   4 out of   4 | elapsed:    0.1s finished\n",
      "/var/folders/9v/hrxf86p91h31ptwdds0f77qw0000gn/T/ipykernel_21916/2980718976.py:118: FutureWarning: Parameters \"info\", \"data\", \"times\", \"nave\" are deprecated and will be removed in version 1.8. For a quick fix, use ``AverageTFRArray`` with the same parameters. For a long-term fix, see the docstring notes.\n",
      "  all_pn_mean_tfr = mne.time_frequency.AverageTFR(info=info, data=pn_mean_tfr, times=time_range, freqs=freqs, nave=1)\n",
      "/var/folders/9v/hrxf86p91h31ptwdds0f77qw0000gn/T/ipykernel_21916/2980718976.py:119: FutureWarning: Parameters \"info\", \"data\", \"times\", \"nave\" are deprecated and will be removed in version 1.8. For a quick fix, use ``AverageTFRArray`` with the same parameters. For a long-term fix, see the docstring notes.\n",
      "  all_npn_mean_tfr = mne.time_frequency.AverageTFR(info=info, data=npn_mean_tfr, times=time_range, freqs=freqs, nave=1)\n"
     ]
    },
    {
     "name": "stdout",
     "output_type": "stream",
     "text": [
      "Extracting parameters from /Users/madwoman/Desktop/tpp_seeg/roi_data_1234/amygdala_new/124.set...\n"
     ]
    },
    {
     "name": "stderr",
     "output_type": "stream",
     "text": [
      "/var/folders/9v/hrxf86p91h31ptwdds0f77qw0000gn/T/ipykernel_21916/2980718976.py:79: RuntimeWarning: At least one epoch has multiple events. Only the latency of the first event will be retained.\n",
      "  ROI_epochs = mne.read_epochs_eeglab(in_roi2_path + str(subjects[i]) + '.set')\n"
     ]
    },
    {
     "name": "stdout",
     "output_type": "stream",
     "text": [
      "Not setting metadata\n",
      "43 matching events found\n",
      "No baseline correction applied\n",
      "0 projection items activated\n",
      "Ready.\n",
      "NOTE: tfr_morlet() is a legacy function. New code should use .compute_tfr(method=\"morlet\").\n",
      "NOTE: tfr_morlet() is a legacy function. New code should use .compute_tfr(method=\"morlet\").\n"
     ]
    },
    {
     "name": "stderr",
     "output_type": "stream",
     "text": [
      "[Parallel(n_jobs=1)]: Using backend SequentialBackend with 1 concurrent workers.\n",
      "[Parallel(n_jobs=1)]: Done   1 out of   1 | elapsed:    0.0s remaining:    0.0s\n",
      "[Parallel(n_jobs=1)]: Done   2 out of   2 | elapsed:    0.0s remaining:    0.0s\n",
      "[Parallel(n_jobs=1)]: Done   3 out of   3 | elapsed:    0.1s remaining:    0.0s\n",
      "[Parallel(n_jobs=1)]: Done   4 out of   4 | elapsed:    0.1s remaining:    0.0s\n",
      "[Parallel(n_jobs=1)]: Done   5 out of   5 | elapsed:    0.1s finished\n",
      "[Parallel(n_jobs=1)]: Using backend SequentialBackend with 1 concurrent workers.\n",
      "[Parallel(n_jobs=1)]: Done   1 out of   1 | elapsed:    0.0s remaining:    0.0s\n",
      "[Parallel(n_jobs=1)]: Done   2 out of   2 | elapsed:    0.0s remaining:    0.0s\n",
      "[Parallel(n_jobs=1)]: Done   3 out of   3 | elapsed:    0.0s remaining:    0.0s\n",
      "[Parallel(n_jobs=1)]: Done   4 out of   4 | elapsed:    0.0s remaining:    0.0s\n",
      "[Parallel(n_jobs=1)]: Done   5 out of   5 | elapsed:    0.1s finished\n"
     ]
    },
    {
     "name": "stdout",
     "output_type": "stream",
     "text": [
      "Extracting parameters from /Users/madwoman/Desktop/tpp_seeg/roi_data_baseline/amygdala_new/124.set...\n"
     ]
    },
    {
     "name": "stderr",
     "output_type": "stream",
     "text": [
      "/var/folders/9v/hrxf86p91h31ptwdds0f77qw0000gn/T/ipykernel_21916/2980718976.py:93: RuntimeWarning: At least one epoch has multiple events. Only the latency of the first event will be retained.\n",
      "  baseline_epoches2 = mne.read_epochs_eeglab(in_roi2_baseline + str(subjects[i]) + '.set')\n"
     ]
    },
    {
     "name": "stdout",
     "output_type": "stream",
     "text": [
      "Not setting metadata\n",
      "43 matching events found\n",
      "No baseline correction applied\n",
      "0 projection items activated\n",
      "Ready.\n",
      "NOTE: tfr_morlet() is a legacy function. New code should use .compute_tfr(method=\"morlet\").\n"
     ]
    },
    {
     "name": "stderr",
     "output_type": "stream",
     "text": [
      "[Parallel(n_jobs=1)]: Using backend SequentialBackend with 1 concurrent workers.\n",
      "[Parallel(n_jobs=1)]: Done   1 out of   1 | elapsed:    0.1s remaining:    0.0s\n",
      "[Parallel(n_jobs=1)]: Done   2 out of   2 | elapsed:    0.2s remaining:    0.0s\n",
      "[Parallel(n_jobs=1)]: Done   3 out of   3 | elapsed:    0.2s remaining:    0.0s\n"
     ]
    },
    {
     "name": "stdout",
     "output_type": "stream",
     "text": [
      "NOTE: tfr_morlet() is a legacy function. New code should use .compute_tfr(method=\"morlet\").\n",
      "Applying baseline correction (mode: zlogratio)\n",
      "Applying baseline correction (mode: zlogratio)\n"
     ]
    },
    {
     "name": "stderr",
     "output_type": "stream",
     "text": [
      "[Parallel(n_jobs=1)]: Done   4 out of   4 | elapsed:    0.2s remaining:    0.0s\n",
      "[Parallel(n_jobs=1)]: Done   5 out of   5 | elapsed:    0.2s finished\n",
      "[Parallel(n_jobs=1)]: Using backend SequentialBackend with 1 concurrent workers.\n",
      "[Parallel(n_jobs=1)]: Done   1 out of   1 | elapsed:    0.0s remaining:    0.0s\n",
      "[Parallel(n_jobs=1)]: Done   2 out of   2 | elapsed:    0.0s remaining:    0.0s\n",
      "[Parallel(n_jobs=1)]: Done   3 out of   3 | elapsed:    0.0s remaining:    0.0s\n",
      "[Parallel(n_jobs=1)]: Done   4 out of   4 | elapsed:    0.1s remaining:    0.0s\n",
      "[Parallel(n_jobs=1)]: Done   5 out of   5 | elapsed:    0.1s finished\n",
      "/var/folders/9v/hrxf86p91h31ptwdds0f77qw0000gn/T/ipykernel_21916/2980718976.py:118: FutureWarning: Parameters \"info\", \"data\", \"times\", \"nave\" are deprecated and will be removed in version 1.8. For a quick fix, use ``AverageTFRArray`` with the same parameters. For a long-term fix, see the docstring notes.\n",
      "  all_pn_mean_tfr = mne.time_frequency.AverageTFR(info=info, data=pn_mean_tfr, times=time_range, freqs=freqs, nave=1)\n",
      "/var/folders/9v/hrxf86p91h31ptwdds0f77qw0000gn/T/ipykernel_21916/2980718976.py:119: FutureWarning: Parameters \"info\", \"data\", \"times\", \"nave\" are deprecated and will be removed in version 1.8. For a quick fix, use ``AverageTFRArray`` with the same parameters. For a long-term fix, see the docstring notes.\n",
      "  all_npn_mean_tfr = mne.time_frequency.AverageTFR(info=info, data=npn_mean_tfr, times=time_range, freqs=freqs, nave=1)\n"
     ]
    },
    {
     "name": "stdout",
     "output_type": "stream",
     "text": [
      "Extracting parameters from /Users/madwoman/Desktop/tpp_seeg/roi_data_1234/amygdala_new/125.set...\n"
     ]
    },
    {
     "name": "stderr",
     "output_type": "stream",
     "text": [
      "/var/folders/9v/hrxf86p91h31ptwdds0f77qw0000gn/T/ipykernel_21916/2980718976.py:79: RuntimeWarning: At least one epoch has multiple events. Only the latency of the first event will be retained.\n",
      "  ROI_epochs = mne.read_epochs_eeglab(in_roi2_path + str(subjects[i]) + '.set')\n"
     ]
    },
    {
     "name": "stdout",
     "output_type": "stream",
     "text": [
      "Not setting metadata\n",
      "48 matching events found\n",
      "No baseline correction applied\n",
      "0 projection items activated\n",
      "Ready.\n",
      "NOTE: tfr_morlet() is a legacy function. New code should use .compute_tfr(method=\"morlet\").\n",
      "NOTE: tfr_morlet() is a legacy function. New code should use .compute_tfr(method=\"morlet\").\n"
     ]
    },
    {
     "name": "stderr",
     "output_type": "stream",
     "text": [
      "[Parallel(n_jobs=1)]: Using backend SequentialBackend with 1 concurrent workers.\n",
      "[Parallel(n_jobs=1)]: Done   1 out of   1 | elapsed:    0.0s remaining:    0.0s\n",
      "[Parallel(n_jobs=1)]: Done   2 out of   2 | elapsed:    0.0s remaining:    0.0s\n",
      "[Parallel(n_jobs=1)]: Done   3 out of   3 | elapsed:    0.1s remaining:    0.0s\n",
      "[Parallel(n_jobs=1)]: Done   3 out of   3 | elapsed:    0.1s finished\n",
      "[Parallel(n_jobs=1)]: Using backend SequentialBackend with 1 concurrent workers.\n",
      "[Parallel(n_jobs=1)]: Done   1 out of   1 | elapsed:    0.0s remaining:    0.0s\n",
      "[Parallel(n_jobs=1)]: Done   2 out of   2 | elapsed:    0.0s remaining:    0.0s\n",
      "[Parallel(n_jobs=1)]: Done   3 out of   3 | elapsed:    0.0s remaining:    0.0s\n",
      "[Parallel(n_jobs=1)]: Done   3 out of   3 | elapsed:    0.0s finished\n"
     ]
    },
    {
     "name": "stdout",
     "output_type": "stream",
     "text": [
      "Extracting parameters from /Users/madwoman/Desktop/tpp_seeg/roi_data_baseline/amygdala_new/125.set...\n"
     ]
    },
    {
     "name": "stderr",
     "output_type": "stream",
     "text": [
      "/var/folders/9v/hrxf86p91h31ptwdds0f77qw0000gn/T/ipykernel_21916/2980718976.py:93: RuntimeWarning: At least one epoch has multiple events. Only the latency of the first event will be retained.\n",
      "  baseline_epoches2 = mne.read_epochs_eeglab(in_roi2_baseline + str(subjects[i]) + '.set')\n"
     ]
    },
    {
     "name": "stdout",
     "output_type": "stream",
     "text": [
      "Not setting metadata\n",
      "48 matching events found\n",
      "No baseline correction applied\n",
      "0 projection items activated\n",
      "Ready.\n",
      "NOTE: tfr_morlet() is a legacy function. New code should use .compute_tfr(method=\"morlet\").\n",
      "NOTE: tfr_morlet() is a legacy function. New code should use .compute_tfr(method=\"morlet\").\n",
      "Applying baseline correction (mode: zlogratio)\n",
      "Applying baseline correction (mode: zlogratio)\n"
     ]
    },
    {
     "name": "stderr",
     "output_type": "stream",
     "text": [
      "[Parallel(n_jobs=1)]: Using backend SequentialBackend with 1 concurrent workers.\n",
      "[Parallel(n_jobs=1)]: Done   1 out of   1 | elapsed:    0.0s remaining:    0.0s\n",
      "[Parallel(n_jobs=1)]: Done   2 out of   2 | elapsed:    0.1s remaining:    0.0s\n",
      "[Parallel(n_jobs=1)]: Done   3 out of   3 | elapsed:    0.1s remaining:    0.0s\n",
      "[Parallel(n_jobs=1)]: Done   3 out of   3 | elapsed:    0.1s finished\n",
      "[Parallel(n_jobs=1)]: Using backend SequentialBackend with 1 concurrent workers.\n",
      "[Parallel(n_jobs=1)]: Done   1 out of   1 | elapsed:    0.0s remaining:    0.0s\n",
      "[Parallel(n_jobs=1)]: Done   2 out of   2 | elapsed:    0.0s remaining:    0.0s\n",
      "[Parallel(n_jobs=1)]: Done   3 out of   3 | elapsed:    0.1s remaining:    0.0s\n",
      "[Parallel(n_jobs=1)]: Done   3 out of   3 | elapsed:    0.1s finished\n",
      "/var/folders/9v/hrxf86p91h31ptwdds0f77qw0000gn/T/ipykernel_21916/2980718976.py:118: FutureWarning: Parameters \"info\", \"data\", \"times\", \"nave\" are deprecated and will be removed in version 1.8. For a quick fix, use ``AverageTFRArray`` with the same parameters. For a long-term fix, see the docstring notes.\n",
      "  all_pn_mean_tfr = mne.time_frequency.AverageTFR(info=info, data=pn_mean_tfr, times=time_range, freqs=freqs, nave=1)\n",
      "/var/folders/9v/hrxf86p91h31ptwdds0f77qw0000gn/T/ipykernel_21916/2980718976.py:119: FutureWarning: Parameters \"info\", \"data\", \"times\", \"nave\" are deprecated and will be removed in version 1.8. For a quick fix, use ``AverageTFRArray`` with the same parameters. For a long-term fix, see the docstring notes.\n",
      "  all_npn_mean_tfr = mne.time_frequency.AverageTFR(info=info, data=npn_mean_tfr, times=time_range, freqs=freqs, nave=1)\n"
     ]
    },
    {
     "name": "stdout",
     "output_type": "stream",
     "text": [
      "Extracting parameters from /Users/madwoman/Desktop/tpp_seeg/roi_data_1234/amygdala_new/127.set...\n"
     ]
    },
    {
     "name": "stderr",
     "output_type": "stream",
     "text": [
      "/var/folders/9v/hrxf86p91h31ptwdds0f77qw0000gn/T/ipykernel_21916/2980718976.py:79: RuntimeWarning: At least one epoch has multiple events. Only the latency of the first event will be retained.\n",
      "  ROI_epochs = mne.read_epochs_eeglab(in_roi2_path + str(subjects[i]) + '.set')\n"
     ]
    },
    {
     "name": "stdout",
     "output_type": "stream",
     "text": [
      "Not setting metadata\n",
      "48 matching events found\n",
      "No baseline correction applied\n",
      "0 projection items activated\n",
      "Ready.\n",
      "NOTE: tfr_morlet() is a legacy function. New code should use .compute_tfr(method=\"morlet\").\n",
      "NOTE: tfr_morlet() is a legacy function. New code should use .compute_tfr(method=\"morlet\").\n"
     ]
    },
    {
     "name": "stderr",
     "output_type": "stream",
     "text": [
      "[Parallel(n_jobs=1)]: Using backend SequentialBackend with 1 concurrent workers.\n",
      "[Parallel(n_jobs=1)]: Done   1 out of   1 | elapsed:    0.0s remaining:    0.0s\n",
      "[Parallel(n_jobs=1)]: Done   2 out of   2 | elapsed:    0.0s remaining:    0.0s\n",
      "[Parallel(n_jobs=1)]: Done   3 out of   3 | elapsed:    0.0s remaining:    0.0s\n",
      "[Parallel(n_jobs=1)]: Done   3 out of   3 | elapsed:    0.0s finished\n",
      "[Parallel(n_jobs=1)]: Using backend SequentialBackend with 1 concurrent workers.\n",
      "[Parallel(n_jobs=1)]: Done   1 out of   1 | elapsed:    0.0s remaining:    0.0s\n",
      "[Parallel(n_jobs=1)]: Done   2 out of   2 | elapsed:    0.0s remaining:    0.0s\n",
      "[Parallel(n_jobs=1)]: Done   3 out of   3 | elapsed:    0.0s remaining:    0.0s\n",
      "[Parallel(n_jobs=1)]: Done   3 out of   3 | elapsed:    0.0s finished\n"
     ]
    },
    {
     "name": "stdout",
     "output_type": "stream",
     "text": [
      "Extracting parameters from /Users/madwoman/Desktop/tpp_seeg/roi_data_baseline/amygdala_new/127.set...\n"
     ]
    },
    {
     "name": "stderr",
     "output_type": "stream",
     "text": [
      "/var/folders/9v/hrxf86p91h31ptwdds0f77qw0000gn/T/ipykernel_21916/2980718976.py:93: RuntimeWarning: At least one epoch has multiple events. Only the latency of the first event will be retained.\n",
      "  baseline_epoches2 = mne.read_epochs_eeglab(in_roi2_baseline + str(subjects[i]) + '.set')\n"
     ]
    },
    {
     "name": "stdout",
     "output_type": "stream",
     "text": [
      "Not setting metadata\n",
      "48 matching events found\n",
      "No baseline correction applied\n",
      "0 projection items activated\n",
      "Ready.\n",
      "NOTE: tfr_morlet() is a legacy function. New code should use .compute_tfr(method=\"morlet\").\n",
      "NOTE: tfr_morlet() is a legacy function. New code should use .compute_tfr(method=\"morlet\").\n",
      "Applying baseline correction (mode: zlogratio)\n",
      "Applying baseline correction (mode: zlogratio)\n"
     ]
    },
    {
     "name": "stderr",
     "output_type": "stream",
     "text": [
      "[Parallel(n_jobs=1)]: Using backend SequentialBackend with 1 concurrent workers.\n",
      "[Parallel(n_jobs=1)]: Done   1 out of   1 | elapsed:    0.0s remaining:    0.0s\n",
      "[Parallel(n_jobs=1)]: Done   2 out of   2 | elapsed:    0.1s remaining:    0.0s\n",
      "[Parallel(n_jobs=1)]: Done   3 out of   3 | elapsed:    0.1s remaining:    0.0s\n",
      "[Parallel(n_jobs=1)]: Done   3 out of   3 | elapsed:    0.1s finished\n",
      "[Parallel(n_jobs=1)]: Using backend SequentialBackend with 1 concurrent workers.\n",
      "[Parallel(n_jobs=1)]: Done   1 out of   1 | elapsed:    0.0s remaining:    0.0s\n",
      "[Parallel(n_jobs=1)]: Done   2 out of   2 | elapsed:    0.0s remaining:    0.0s\n",
      "[Parallel(n_jobs=1)]: Done   3 out of   3 | elapsed:    0.1s remaining:    0.0s\n",
      "[Parallel(n_jobs=1)]: Done   3 out of   3 | elapsed:    0.1s finished\n",
      "/var/folders/9v/hrxf86p91h31ptwdds0f77qw0000gn/T/ipykernel_21916/2980718976.py:118: FutureWarning: Parameters \"info\", \"data\", \"times\", \"nave\" are deprecated and will be removed in version 1.8. For a quick fix, use ``AverageTFRArray`` with the same parameters. For a long-term fix, see the docstring notes.\n",
      "  all_pn_mean_tfr = mne.time_frequency.AverageTFR(info=info, data=pn_mean_tfr, times=time_range, freqs=freqs, nave=1)\n",
      "/var/folders/9v/hrxf86p91h31ptwdds0f77qw0000gn/T/ipykernel_21916/2980718976.py:119: FutureWarning: Parameters \"info\", \"data\", \"times\", \"nave\" are deprecated and will be removed in version 1.8. For a quick fix, use ``AverageTFRArray`` with the same parameters. For a long-term fix, see the docstring notes.\n",
      "  all_npn_mean_tfr = mne.time_frequency.AverageTFR(info=info, data=npn_mean_tfr, times=time_range, freqs=freqs, nave=1)\n"
     ]
    },
    {
     "name": "stdout",
     "output_type": "stream",
     "text": [
      "Extracting parameters from /Users/madwoman/Desktop/tpp_seeg/roi_data_1234/amygdala_new/131.set...\n"
     ]
    },
    {
     "name": "stderr",
     "output_type": "stream",
     "text": [
      "/var/folders/9v/hrxf86p91h31ptwdds0f77qw0000gn/T/ipykernel_21916/2980718976.py:79: RuntimeWarning: At least one epoch has multiple events. Only the latency of the first event will be retained.\n",
      "  ROI_epochs = mne.read_epochs_eeglab(in_roi2_path + str(subjects[i]) + '.set')\n"
     ]
    },
    {
     "name": "stdout",
     "output_type": "stream",
     "text": [
      "Not setting metadata\n",
      "46 matching events found\n",
      "No baseline correction applied\n",
      "0 projection items activated\n",
      "Ready.\n",
      "NOTE: tfr_morlet() is a legacy function. New code should use .compute_tfr(method=\"morlet\").\n",
      "NOTE: tfr_morlet() is a legacy function. New code should use .compute_tfr(method=\"morlet\").\n"
     ]
    },
    {
     "name": "stderr",
     "output_type": "stream",
     "text": [
      "[Parallel(n_jobs=1)]: Using backend SequentialBackend with 1 concurrent workers.\n",
      "[Parallel(n_jobs=1)]: Done   1 out of   1 | elapsed:    0.0s remaining:    0.0s\n",
      "[Parallel(n_jobs=1)]: Done   2 out of   2 | elapsed:    0.0s remaining:    0.0s\n",
      "[Parallel(n_jobs=1)]: Done   3 out of   3 | elapsed:    0.1s remaining:    0.0s\n",
      "[Parallel(n_jobs=1)]: Done   4 out of   4 | elapsed:    0.1s remaining:    0.0s\n",
      "[Parallel(n_jobs=1)]: Done   5 out of   5 | elapsed:    0.1s finished\n",
      "[Parallel(n_jobs=1)]: Using backend SequentialBackend with 1 concurrent workers.\n",
      "[Parallel(n_jobs=1)]: Done   1 out of   1 | elapsed:    0.0s remaining:    0.0s\n",
      "[Parallel(n_jobs=1)]: Done   2 out of   2 | elapsed:    0.0s remaining:    0.0s\n",
      "[Parallel(n_jobs=1)]: Done   3 out of   3 | elapsed:    0.0s remaining:    0.0s\n",
      "[Parallel(n_jobs=1)]: Done   4 out of   4 | elapsed:    0.0s remaining:    0.0s\n",
      "[Parallel(n_jobs=1)]: Done   5 out of   5 | elapsed:    0.1s finished\n"
     ]
    },
    {
     "name": "stdout",
     "output_type": "stream",
     "text": [
      "Extracting parameters from /Users/madwoman/Desktop/tpp_seeg/roi_data_baseline/amygdala_new/131.set...\n"
     ]
    },
    {
     "name": "stderr",
     "output_type": "stream",
     "text": [
      "/var/folders/9v/hrxf86p91h31ptwdds0f77qw0000gn/T/ipykernel_21916/2980718976.py:93: RuntimeWarning: At least one epoch has multiple events. Only the latency of the first event will be retained.\n",
      "  baseline_epoches2 = mne.read_epochs_eeglab(in_roi2_baseline + str(subjects[i]) + '.set')\n"
     ]
    },
    {
     "name": "stdout",
     "output_type": "stream",
     "text": [
      "Not setting metadata\n",
      "48 matching events found\n",
      "No baseline correction applied\n",
      "0 projection items activated\n",
      "Ready.\n",
      "NOTE: tfr_morlet() is a legacy function. New code should use .compute_tfr(method=\"morlet\").\n",
      "NOTE: tfr_morlet() is a legacy function. New code should use .compute_tfr(method=\"morlet\").\n"
     ]
    },
    {
     "name": "stderr",
     "output_type": "stream",
     "text": [
      "[Parallel(n_jobs=1)]: Using backend SequentialBackend with 1 concurrent workers.\n",
      "[Parallel(n_jobs=1)]: Done   1 out of   1 | elapsed:    0.0s remaining:    0.0s\n",
      "[Parallel(n_jobs=1)]: Done   2 out of   2 | elapsed:    0.1s remaining:    0.0s\n",
      "[Parallel(n_jobs=1)]: Done   3 out of   3 | elapsed:    0.1s remaining:    0.0s\n",
      "[Parallel(n_jobs=1)]: Done   4 out of   4 | elapsed:    0.1s remaining:    0.0s\n",
      "[Parallel(n_jobs=1)]: Done   5 out of   5 | elapsed:    0.1s finished\n",
      "[Parallel(n_jobs=1)]: Using backend SequentialBackend with 1 concurrent workers.\n",
      "[Parallel(n_jobs=1)]: Done   1 out of   1 | elapsed:    0.0s remaining:    0.0s\n",
      "[Parallel(n_jobs=1)]: Done   2 out of   2 | elapsed:    0.0s remaining:    0.0s\n",
      "[Parallel(n_jobs=1)]: Done   3 out of   3 | elapsed:    0.1s remaining:    0.0s\n",
      "[Parallel(n_jobs=1)]: Done   4 out of   4 | elapsed:    0.1s remaining:    0.0s\n"
     ]
    },
    {
     "name": "stdout",
     "output_type": "stream",
     "text": [
      "Applying baseline correction (mode: zlogratio)\n",
      "Applying baseline correction (mode: zlogratio)\n",
      "Extracting parameters from /Users/madwoman/Desktop/tpp_seeg/roi_data_1234/amygdala_new/134.set...\n",
      "Not setting metadata\n",
      "48 matching events found\n",
      "No baseline correction applied\n",
      "0 projection items activated\n",
      "Ready.\n",
      "NOTE: tfr_morlet() is a legacy function. New code should use .compute_tfr(method=\"morlet\").\n",
      "NOTE: tfr_morlet() is a legacy function. New code should use .compute_tfr(method=\"morlet\").\n",
      "Extracting parameters from /Users/madwoman/Desktop/tpp_seeg/roi_data_baseline/amygdala_new/134.set...\n",
      "Not setting metadata\n",
      "48 matching events found\n"
     ]
    },
    {
     "name": "stderr",
     "output_type": "stream",
     "text": [
      "[Parallel(n_jobs=1)]: Done   5 out of   5 | elapsed:    0.1s finished\n",
      "/var/folders/9v/hrxf86p91h31ptwdds0f77qw0000gn/T/ipykernel_21916/2980718976.py:118: FutureWarning: Parameters \"info\", \"data\", \"times\", \"nave\" are deprecated and will be removed in version 1.8. For a quick fix, use ``AverageTFRArray`` with the same parameters. For a long-term fix, see the docstring notes.\n",
      "  all_pn_mean_tfr = mne.time_frequency.AverageTFR(info=info, data=pn_mean_tfr, times=time_range, freqs=freqs, nave=1)\n",
      "/var/folders/9v/hrxf86p91h31ptwdds0f77qw0000gn/T/ipykernel_21916/2980718976.py:119: FutureWarning: Parameters \"info\", \"data\", \"times\", \"nave\" are deprecated and will be removed in version 1.8. For a quick fix, use ``AverageTFRArray`` with the same parameters. For a long-term fix, see the docstring notes.\n",
      "  all_npn_mean_tfr = mne.time_frequency.AverageTFR(info=info, data=npn_mean_tfr, times=time_range, freqs=freqs, nave=1)\n",
      "/var/folders/9v/hrxf86p91h31ptwdds0f77qw0000gn/T/ipykernel_21916/2980718976.py:79: RuntimeWarning: At least one epoch has multiple events. Only the latency of the first event will be retained.\n",
      "  ROI_epochs = mne.read_epochs_eeglab(in_roi2_path + str(subjects[i]) + '.set')\n",
      "[Parallel(n_jobs=1)]: Using backend SequentialBackend with 1 concurrent workers.\n",
      "[Parallel(n_jobs=1)]: Done   1 out of   1 | elapsed:    0.0s remaining:    0.0s\n",
      "[Parallel(n_jobs=1)]: Done   2 out of   2 | elapsed:    0.0s remaining:    0.0s\n",
      "[Parallel(n_jobs=1)]: Done   3 out of   3 | elapsed:    0.0s remaining:    0.0s\n",
      "[Parallel(n_jobs=1)]: Done   4 out of   4 | elapsed:    0.0s remaining:    0.0s\n",
      "[Parallel(n_jobs=1)]: Done   5 out of   5 | elapsed:    0.1s finished\n",
      "[Parallel(n_jobs=1)]: Using backend SequentialBackend with 1 concurrent workers.\n",
      "[Parallel(n_jobs=1)]: Done   1 out of   1 | elapsed:    0.0s remaining:    0.0s\n",
      "[Parallel(n_jobs=1)]: Done   2 out of   2 | elapsed:    0.0s remaining:    0.0s\n",
      "[Parallel(n_jobs=1)]: Done   3 out of   3 | elapsed:    0.0s remaining:    0.0s\n",
      "[Parallel(n_jobs=1)]: Done   4 out of   4 | elapsed:    0.0s remaining:    0.0s\n",
      "[Parallel(n_jobs=1)]: Done   5 out of   5 | elapsed:    0.1s finished\n",
      "/var/folders/9v/hrxf86p91h31ptwdds0f77qw0000gn/T/ipykernel_21916/2980718976.py:93: RuntimeWarning: At least one epoch has multiple events. Only the latency of the first event will be retained.\n",
      "  baseline_epoches2 = mne.read_epochs_eeglab(in_roi2_baseline + str(subjects[i]) + '.set')\n"
     ]
    },
    {
     "name": "stdout",
     "output_type": "stream",
     "text": [
      "No baseline correction applied\n",
      "0 projection items activated\n",
      "Ready.\n",
      "NOTE: tfr_morlet() is a legacy function. New code should use .compute_tfr(method=\"morlet\").\n",
      "NOTE: tfr_morlet() is a legacy function. New code should use .compute_tfr(method=\"morlet\").\n",
      "Applying baseline correction (mode: zlogratio)\n"
     ]
    },
    {
     "name": "stderr",
     "output_type": "stream",
     "text": [
      "[Parallel(n_jobs=1)]: Using backend SequentialBackend with 1 concurrent workers.\n",
      "[Parallel(n_jobs=1)]: Done   1 out of   1 | elapsed:    0.0s remaining:    0.0s\n",
      "[Parallel(n_jobs=1)]: Done   2 out of   2 | elapsed:    0.0s remaining:    0.0s\n",
      "[Parallel(n_jobs=1)]: Done   3 out of   3 | elapsed:    0.1s remaining:    0.0s\n",
      "[Parallel(n_jobs=1)]: Done   4 out of   4 | elapsed:    0.1s remaining:    0.0s\n",
      "[Parallel(n_jobs=1)]: Done   5 out of   5 | elapsed:    0.1s finished\n",
      "[Parallel(n_jobs=1)]: Using backend SequentialBackend with 1 concurrent workers.\n",
      "[Parallel(n_jobs=1)]: Done   1 out of   1 | elapsed:    0.0s remaining:    0.0s\n",
      "[Parallel(n_jobs=1)]: Done   2 out of   2 | elapsed:    0.0s remaining:    0.0s\n",
      "[Parallel(n_jobs=1)]: Done   3 out of   3 | elapsed:    0.1s remaining:    0.0s\n",
      "[Parallel(n_jobs=1)]: Done   4 out of   4 | elapsed:    0.1s remaining:    0.0s\n",
      "[Parallel(n_jobs=1)]: Done   5 out of   5 | elapsed:    0.1s finished\n",
      "/var/folders/9v/hrxf86p91h31ptwdds0f77qw0000gn/T/ipykernel_21916/2980718976.py:118: FutureWarning: Parameters \"info\", \"data\", \"times\", \"nave\" are deprecated and will be removed in version 1.8. For a quick fix, use ``AverageTFRArray`` with the same parameters. For a long-term fix, see the docstring notes.\n",
      "  all_pn_mean_tfr = mne.time_frequency.AverageTFR(info=info, data=pn_mean_tfr, times=time_range, freqs=freqs, nave=1)\n",
      "/var/folders/9v/hrxf86p91h31ptwdds0f77qw0000gn/T/ipykernel_21916/2980718976.py:119: FutureWarning: Parameters \"info\", \"data\", \"times\", \"nave\" are deprecated and will be removed in version 1.8. For a quick fix, use ``AverageTFRArray`` with the same parameters. For a long-term fix, see the docstring notes.\n",
      "  all_npn_mean_tfr = mne.time_frequency.AverageTFR(info=info, data=npn_mean_tfr, times=time_range, freqs=freqs, nave=1)\n"
     ]
    },
    {
     "name": "stdout",
     "output_type": "stream",
     "text": [
      "Applying baseline correction (mode: zlogratio)\n"
     ]
    }
   ],
   "source": [
    "from mne.time_frequency import tfr_morlet\n",
    "#freqs=np.arange(70, 125, 5)\n",
    "freqs=np.arange(12, 30, 2)\n",
    "n_cycles=6\n",
    "time_span = 100\n",
    "ch_names = []\n",
    "whole_range = [-7, 0.999]  # baseline前后 0.3s\n",
    "baseline_range = [0, 0.2]\n",
    "# 生成时间序列\n",
    "time_range = np.arange(baseline_range[0]-baseline_range[1] + whole_range[0], whole_range[1], 0.001)\n",
    "\n",
    "#get the data from ROI 1\n",
    "for i in range(len(subjects)):\n",
    "\n",
    "    # 导入eegepoch数据\n",
    "    ROI_epochs = mne.read_epochs_eeglab(in_roi1_path + str(subjects[i]) + '.set')\n",
    "\n",
    "\n",
    "    selected_tags = [tag for tag in ROI_epochs.event_id if '11' in tag or '10' in tag]\n",
    "    pn_epochs = ROI_epochs[selected_tags]\n",
    "\n",
    "    selected_tags = [tag for tag in ROI_epochs.event_id if '31' in tag or '30' in tag]\n",
    "    npn_epochs = ROI_epochs[selected_tags]\n",
    "\n",
    "    ##计算tfr: attention v.s. non-attention in punished trials\n",
    "    ROI1_epoch_pn = tfr_morlet(pn_epochs, freqs=freqs, n_cycles=n_cycles, return_itc=False, average=True, use_fft=True)\n",
    "    ROI1_epoch_npn = tfr_morlet(npn_epochs, freqs=freqs, n_cycles=n_cycles, return_itc=False, average=True, use_fft=True)\n",
    "\n",
    "    \n",
    "    #baseline data:\n",
    "    baseline_epoches1 = mne.read_epochs_eeglab(in_roi1_baseline + str(subjects[i]) + '.set')\n",
    "    \n",
    "    selected_tags = [tag for tag in baseline_epoches1.event_id if '11' in tag or '10' in tag]\n",
    "    pn_epochs = baseline_epoches1[selected_tags]\n",
    "\n",
    "    selected_tags = [tag for tag in baseline_epoches1.event_id if '31' in tag or '30' in tag]\n",
    "    npn_epochs = baseline_epoches1[selected_tags]\n",
    "\n",
    "    ##计算tfr: attention v.s. non-attention in punished trials\n",
    "    ROI1_epoch_pn_base = tfr_morlet(pn_epochs, freqs, n_cycles=n_cycles, return_itc=False, average = True, use_fft=True)\n",
    "    ROI1_epoch_npn_base = tfr_morlet(npn_epochs, freqs, n_cycles=n_cycles, return_itc=False, average = True, use_fft=True)\n",
    "    \n",
    "    baseline_interval = [0.002, 0.2]\n",
    "    # Crop the baseline interval from the baseline dataset\n",
    "    baseline_epochs_pn = ROI1_epoch_pn_base.copy().crop(tmin=baseline_interval[0], tmax=baseline_interval[1])\n",
    "    baseline_epochs_npn = ROI1_epoch_npn_base.copy().crop(tmin=baseline_interval[0], tmax=baseline_interval[1])\n",
    "    # Apply baseline correction to the main dataset using the cropped baseline interval\n",
    "    # Concatenate the baseline and main TFR data along the time axis\n",
    "    pn_mean_tfr = np.concatenate((baseline_epochs_pn.data, ROI1_epoch_pn.data), axis=2)\n",
    "    npn_mean_tfr = np.concatenate((baseline_epochs_npn.data, ROI1_epoch_npn.data), axis=2)\n",
    "   \n",
    "\n",
    "    info = mne.create_info(ch_names = ROI_epochs.ch_names, ch_types = 'eeg', sfreq = 1000)\n",
    "    \n",
    "    # 生成mne的tfr文件\n",
    "    all_pn_mean_tfr = mne.time_frequency.AverageTFR(info=info, data=pn_mean_tfr, times=time_range, freqs=freqs, nave=1)\n",
    "    all_npn_mean_tfr = mne.time_frequency.AverageTFR(info=info, data=npn_mean_tfr, times=time_range, freqs=freqs, nave=1)\n",
    "\n",
    "\n",
    "    all_pn_mean_tfr.apply_baseline(mode='zlogratio', baseline=(-7.2, -7.002))\n",
    "    all_npn_mean_tfr.apply_baseline(mode='zlogratio', baseline=(-7.2, -7.002))\n",
    "\n",
    "    all_pn_mean_tfr_cut = all_pn_mean_tfr.copy().crop(tmin = -0.8, tmax = 0.2)\n",
    "    all_npn_mean_tfr_cut = all_npn_mean_tfr.copy().crop(tmin = -0.8, tmax = 0.2)\n",
    "\n",
    "    if i == 0:\n",
    "        ROI1_pn = all_pn_mean_tfr_cut\n",
    "        ROI1_npn = all_npn_mean_tfr_cut\n",
    "        ch_names = np.array(ROI_epochs.ch_names)\n",
    "    else:\n",
    "        ROI1_pn = np.vstack((ROI1_pn, all_pn_mean_tfr_cut))\n",
    "        ROI1_npn = np.vstack((ROI1_npn, all_npn_mean_tfr_cut))\n",
    "        ch_names = np.hstack((ch_names, np.array(ROI_epochs.ch_names)))\n",
    "\n",
    "#get the data from ROI 2\n",
    "for i in range(len(subjects)):\n",
    "\n",
    "    # 导入eegepoch数据\n",
    "    ROI_epochs = mne.read_epochs_eeglab(in_roi2_path + str(subjects[i]) + '.set')\n",
    "\n",
    "    selected_tags = [tag for tag in ROI_epochs.event_id if '11' in tag or '10' in tag]\n",
    "    pn_epochs = ROI_epochs[selected_tags]\n",
    "\n",
    "    selected_tags = [tag for tag in ROI_epochs.event_id if '31' in tag or '30' in tag]\n",
    "    npn_epochs = ROI_epochs[selected_tags]\n",
    "\n",
    "    ##计算tfr: attention v.s. non-attention in punished trials\n",
    "    ROI2_epoch_pn = tfr_morlet(pn_epochs, freqs=freqs, n_cycles=n_cycles, return_itc=False, average=True, use_fft=True)\n",
    "    ROI2_epoch_npn = tfr_morlet(npn_epochs, freqs=freqs, n_cycles=n_cycles, return_itc=False, average=True, use_fft=True)\n",
    "\n",
    "    \n",
    "    #baseline data:\n",
    "    baseline_epoches2 = mne.read_epochs_eeglab(in_roi2_baseline + str(subjects[i]) + '.set')\n",
    "    \n",
    "    selected_tags = [tag for tag in baseline_epoches2.event_id if '11' in tag or '10' in tag]\n",
    "    pn_epochs = baseline_epoches2[selected_tags]\n",
    "\n",
    "    selected_tags = [tag for tag in baseline_epoches2.event_id if '31' in tag or '30' in tag]\n",
    "    npn_epochs = baseline_epoches2[selected_tags]\n",
    "\n",
    "    ##计算tfr: attention v.s. non-attention in punished trials\n",
    "    ROI2_epoch_pn_base = tfr_morlet(pn_epochs, freqs, n_cycles=n_cycles, return_itc=False, average = True, use_fft=True)\n",
    "    ROI2_epoch_npn_base = tfr_morlet(npn_epochs, freqs, n_cycles=n_cycles, return_itc=False, average = True, use_fft=True)\n",
    "    \n",
    "    baseline_interval = [0.002, 0.2]\n",
    "    # Crop the baseline interval from the baseline dataset\n",
    "    baseline_epochs_pn = ROI2_epoch_pn_base.copy().crop(tmin=baseline_interval[0], tmax=baseline_interval[1])\n",
    "    baseline_epochs_npn = ROI2_epoch_npn_base.copy().crop(tmin=baseline_interval[0], tmax=baseline_interval[1])\n",
    "    # Apply baseline correction to the main dataset using the cropped baseline interval\n",
    "    # Concatenate the baseline and main TFR data along the time axis\n",
    "    pn_mean_tfr = np.concatenate((baseline_epochs_pn.data, ROI2_epoch_pn.data), axis=2)\n",
    "    npn_mean_tfr = np.concatenate((baseline_epochs_npn.data, ROI2_epoch_npn.data), axis=2)\n",
    "   \n",
    "\n",
    "    info = mne.create_info(ch_names = ROI_epochs.ch_names, ch_types = 'eeg', sfreq = 1000)\n",
    "    \n",
    "    # 生成mne的tfr文件\n",
    "    all_pn_mean_tfr = mne.time_frequency.AverageTFR(info=info, data=pn_mean_tfr, times=time_range, freqs=freqs, nave=1)\n",
    "    all_npn_mean_tfr = mne.time_frequency.AverageTFR(info=info, data=npn_mean_tfr, times=time_range, freqs=freqs, nave=1)\n",
    "\n",
    "\n",
    "    all_pn_mean_tfr.apply_baseline(mode='zlogratio', baseline=(-7.2, -7.002))\n",
    "    all_npn_mean_tfr.apply_baseline(mode='zlogratio', baseline=(-7.2, -7.002))\n",
    "\n",
    "    all_pn_mean_tfr_cut = all_pn_mean_tfr.copy().crop(tmin = -0.8, tmax = 0.2)\n",
    "    all_npn_mean_tfr_cut = all_npn_mean_tfr.copy().crop(tmin = -0.8, tmax = 0.2)\n",
    "\n",
    "\n",
    "    if i == 0:\n",
    "        ROI2_pn = all_pn_mean_tfr_cut\n",
    "        ROI2_npn = all_npn_mean_tfr_cut\n",
    "        ch_names = np.array(ROI_epochs.ch_names)\n",
    "    else:\n",
    "        ROI2_pn = np.vstack((ROI2_pn, all_pn_mean_tfr_cut))\n",
    "        ROI2_npn = np.vstack((ROI2_npn, all_npn_mean_tfr_cut))\n",
    "        ch_names = np.hstack((ch_names, np.array(ROI_epochs.ch_names)))"
   ]
  },
  {
   "cell_type": "markdown",
   "metadata": {},
   "source": [
    "## 平均整个频段"
   ]
  },
  {
   "cell_type": "markdown",
   "metadata": {},
   "source": [
    "### punish trials"
   ]
  },
  {
   "cell_type": "code",
   "execution_count": 43,
   "metadata": {},
   "outputs": [
    {
     "name": "stdout",
     "output_type": "stream",
     "text": [
      "Estimating phase slope index (PSI)\n",
      "Connectivity computation...\n",
      "    computing connectivity for 33 connections\n",
      "    using t=0.000s..1.000s for estimation (1001 points)\n",
      "    frequencies: 50.9Hz..149.9Hz (100 points)\n",
      "    Using multitaper spectrum estimation with 7 DPSS windows\n",
      "    the following metrics will be computed: Coherency\n",
      "    computing cross-spectral density for epoch 1\n",
      "[Connectivity computation done]\n",
      "Computing PSI from estimated Coherency: <SpectralConnectivity | freq : [50.949051, 149.850150], , nave : 1, nodes, n_estimated : 14, 33, ~90 kB>\n",
      "[PSI Estimation Done]\n",
      "Estimating phase slope index (PSI)\n",
      "Connectivity computation...\n",
      "    computing connectivity for 40 connections\n",
      "    using t=0.000s..1.000s for estimation (1001 points)\n",
      "    frequencies: 50.9Hz..149.9Hz (100 points)\n",
      "    Using multitaper spectrum estimation with 7 DPSS windows\n",
      "    the following metrics will be computed: Coherency\n",
      "    computing cross-spectral density for epoch 1\n",
      "[Connectivity computation done]\n",
      "Computing PSI from estimated Coherency: <SpectralConnectivity | freq : [50.949051, 149.850150], , nave : 1, nodes, n_estimated : 14, 40, ~101 kB>\n",
      "[PSI Estimation Done]\n",
      "Estimating phase slope index (PSI)\n",
      "Connectivity computation...\n",
      "    computing connectivity for 20 connections\n",
      "    using t=0.000s..1.000s for estimation (1001 points)\n",
      "    frequencies: 50.9Hz..149.9Hz (100 points)\n",
      "    Using multitaper spectrum estimation with 7 DPSS windows\n",
      "    the following metrics will be computed: Coherency\n",
      "    computing cross-spectral density for epoch 1\n",
      "[Connectivity computation done]\n",
      "Computing PSI from estimated Coherency: <SpectralConnectivity | freq : [50.949051, 149.850150], , nave : 1, nodes, n_estimated : 9, 20, ~69 kB>\n",
      "[PSI Estimation Done]\n",
      "Estimating phase slope index (PSI)\n",
      "Connectivity computation...\n",
      "    computing connectivity for 27 connections\n",
      "    using t=0.000s..1.000s for estimation (1001 points)\n",
      "    frequencies: 50.9Hz..149.9Hz (100 points)\n",
      "    Using multitaper spectrum estimation with 7 DPSS windows\n",
      "    the following metrics will be computed: Coherency\n",
      "    computing cross-spectral density for epoch 1\n",
      "[Connectivity computation done]\n",
      "Computing PSI from estimated Coherency: <SpectralConnectivity | freq : [50.949051, 149.850150], , nave : 1, nodes, n_estimated : 12, 27, ~80 kB>\n",
      "[PSI Estimation Done]\n",
      "Estimating phase slope index (PSI)\n",
      "Connectivity computation...\n",
      "    computing connectivity for 54 connections\n",
      "    using t=0.000s..1.000s for estimation (1001 points)\n",
      "    frequencies: 50.9Hz..149.9Hz (100 points)\n",
      "    Using multitaper spectrum estimation with 7 DPSS windows\n",
      "    the following metrics will be computed: Coherency\n",
      "    computing cross-spectral density for epoch 1\n",
      "[Connectivity computation done]\n",
      "Computing PSI from estimated Coherency: <SpectralConnectivity | freq : [50.949051, 149.850150], , nave : 1, nodes, n_estimated : 21, 54, ~124 kB>\n",
      "[PSI Estimation Done]\n",
      "Estimating phase slope index (PSI)\n",
      "Connectivity computation...\n",
      "    computing connectivity for 55 connections\n",
      "    using t=0.000s..1.000s for estimation (1001 points)\n",
      "    frequencies: 50.9Hz..149.9Hz (100 points)\n",
      "    Using multitaper spectrum estimation with 7 DPSS windows\n",
      "    the following metrics will be computed: Coherency\n",
      "    computing cross-spectral density for epoch 1\n",
      "[Connectivity computation done]\n",
      "Computing PSI from estimated Coherency: <SpectralConnectivity | freq : [50.949051, 149.850150], , nave : 1, nodes, n_estimated : 16, 55, ~125 kB>\n",
      "[PSI Estimation Done]\n",
      "Estimating phase slope index (PSI)\n",
      "Connectivity computation...\n",
      "    computing connectivity for 20 connections\n",
      "    using t=0.000s..1.000s for estimation (1001 points)\n",
      "    frequencies: 50.9Hz..149.9Hz (100 points)\n",
      "    Using multitaper spectrum estimation with 7 DPSS windows\n",
      "    the following metrics will be computed: Coherency\n",
      "    computing cross-spectral density for epoch 1\n",
      "[Connectivity computation done]\n",
      "Computing PSI from estimated Coherency: <SpectralConnectivity | freq : [50.949051, 149.850150], , nave : 1, nodes, n_estimated : 9, 20, ~69 kB>\n",
      "[PSI Estimation Done]\n"
     ]
    },
    {
     "data": {
      "image/png": "[encoded data removed]",
      "text/plain": [
       "<Figure size 3000x500 with 8 Axes>"
      ]
     },
     "metadata": {},
     "output_type": "display_data"
    }
   ],
   "source": [
    "import numpy as np\n",
    "from mne_connectivity import seed_target_indices, phase_slope_index\n",
    "import matplotlib.pyplot as plt\n",
    "import pickle\n",
    "\n",
    "# 初始化一个列表来存储PSI值\n",
    "psi_list = []\n",
    "\n",
    "# 初始化一个列表来存储所有被试的PSI一维向量\n",
    "all_psi_flat = []\n",
    "# 初始化一个列表来存储所有被试的编码\n",
    "subject_codes = []\n",
    "\n",
    "# 设置可视化参数\n",
    "fig, axes = plt.subplots(1, len(ROI1_pn), figsize=(30, 5))  # 创建一个包含3个子图的图\n",
    "\n",
    "# 定义采样频率\n",
    "sfreq = 1000  # 假设采样频率为 1000 Hz\n",
    "\n",
    "# 循环处理每个被试的数据\n",
    "for i in range(len(ROI1_pn)):\n",
    "\n",
    "    # 创建被试编码\n",
    "    subject_code = f'{i+1}'\n",
    "    \n",
    "    # 提取每个被试的TFR数据\n",
    "    roi1_data = ROI1_pn[i][0].data\n",
    "    roi2_data = ROI2_pn[i][0].data\n",
    "\n",
    "    # 在axis=1维度上对频率进行平均\n",
    "    roi1_averaged = np.mean(roi1_data, axis=1)  # 结果形状为 (channels, times)\n",
    "    roi2_averaged = np.mean(roi2_data, axis=1)  # 结果形状为 (channels, times)\n",
    "\n",
    "    # 合并平均后的数据\n",
    "    combined_data = np.concatenate((roi1_averaged, roi2_averaged), axis=0)\n",
    "\n",
    "    # 获取通道数量\n",
    "    n_signals = combined_data.shape[0]\n",
    "    n_signals_roi1 = roi1_averaged.shape[0]\n",
    "    n_signals_roi2 = roi2_averaged.shape[0]\n",
    "\n",
    "    # 创建索引对\n",
    "    roi1_indices = np.arange(n_signals_roi1)\n",
    "    roi2_indices = np.arange(n_signals_roi1, n_signals)\n",
    "    indices = seed_target_indices(roi1_indices, roi2_indices)\n",
    "\n",
    "    # 计算 PSI\n",
    "    conn = phase_slope_index(\n",
    "        combined_data[None, :, :],  # 添加一个新的维度表示试次数量，这里为 1\n",
    "        indices=indices,\n",
    "        sfreq=sfreq,\n",
    "        fmin=50,\n",
    "        fmax=150,\n",
    "        mode='multitaper'\n",
    "    )\n",
    "\n",
    "    # 提取 PSI 矩阵\n",
    "    psi = conn.get_data(output='dense')\n",
    "\n",
    "    # 将三维PSI矩阵转换为二维\n",
    "    psi_2d = np.squeeze(psi)\n",
    "\n",
    "    # 将PSI矩阵添加到列表中\n",
    "    psi_list.append(psi_2d)\n",
    "\n",
    "    # psi 结果形状为 (n_signals_roi1, n_signals_roi2)\n",
    "    #print(f\"PSI shape for subject {i+1}: {psi_2d.shape}\")\n",
    "\n",
    "    # 保存PSI数据到CSV文件\n",
    "    df = pd.DataFrame(psi_2d)\n",
    "    csv_path = os.path.join(psi_out_path, f'psi_pn_subject_{i+1}.csv')\n",
    "    df.to_csv(csv_path, index=False)\n",
    "\n",
    "    # 将二维PSI矩阵展平成一维向量\n",
    "    psi_flat = psi_2d.flatten()\n",
    "\n",
    "    # 将PSI一维向量添加到总列表中\n",
    "    all_psi_flat.extend(psi_flat.tolist())\n",
    "\n",
    "    # 将被试编码添加到编码列表中\n",
    "    subject_codes.extend([subject_code] * len(psi_flat))\n",
    "\n",
    "    # psi 结果形状为 (n_signals_roi1 * n_signals_roi2,)\n",
    "   # print(f\"PSI vector shape for subject {i+1}: {psi_flat.shape}\")\n",
    "    \n",
    "    # 在对应的子图中可视化 PSI 矩阵\n",
    "    ax = axes[i]\n",
    "    im = ax.imshow(psi_2d, aspect='auto', origin='lower', cmap='viridis')\n",
    "    ax.set_title(f'Participants {i+1}')\n",
    "    ax.set_xlabel('Amygdala channels')\n",
    "    ax.set_ylabel('Insula channels')\n",
    "\n",
    "# 添加颜色条\n",
    "fig.colorbar(im, ax=axes.ravel().tolist(), label='PSI value')\n",
    "fig.suptitle('Phase Slope Index (PSI) between amygdala and insula BA for four participants')\n",
    "plt.show()\n",
    "\n",
    "# 保存PSI值到文件\n",
    "with open('psi_values.pkl', 'wb') as f:\n",
    "    pickle.dump(psi_list, f)\n",
    "\n",
    "#print(\"PSI values have been saved to 'psi_values.pkl'\")\n",
    "\n",
    "# 将所有被试的PSI一维向量和被试编码转换为DataFrame\n",
    "all_psi_df_pn = pd.DataFrame({'PSI_att': all_psi_flat, 'Subject_Code': subject_codes})\n",
    "\n",
    "# 删除包含缺失值的行\n",
    "all_psi_df_pn.dropna(inplace=True)\n",
    "\n",
    "# 保存所有被试的PSI一维向量和被试编码到CSV文件\n",
    "all_csv_path = os.path.join(psi_out_path, 'all_psi_values_with_codes_pn.csv')\n",
    "all_psi_df_pn.to_csv(all_csv_path, index=False)\n",
    "\n",
    "\n"
   ]
  },
  {
   "cell_type": "markdown",
   "metadata": {},
   "source": [
    "### non-punish trials"
   ]
  },
  {
   "cell_type": "code",
   "execution_count": 44,
   "metadata": {},
   "outputs": [
    {
     "name": "stdout",
     "output_type": "stream",
     "text": [
      "Estimating phase slope index (PSI)\n",
      "Connectivity computation...\n",
      "    computing connectivity for 33 connections\n",
      "    using t=0.000s..1.000s for estimation (1001 points)\n",
      "    frequencies: 50.9Hz..149.9Hz (100 points)\n",
      "    Using multitaper spectrum estimation with 7 DPSS windows\n",
      "    the following metrics will be computed: Coherency\n",
      "    computing cross-spectral density for epoch 1\n",
      "[Connectivity computation done]\n",
      "Computing PSI from estimated Coherency: <SpectralConnectivity | freq : [50.949051, 149.850150], , nave : 1, nodes, n_estimated : 14, 33, ~90 kB>\n",
      "[PSI Estimation Done]\n",
      "PSI shape for subject 1: (14, 14)\n",
      "PSI vector shape for subject 1: (196,)\n",
      "Estimating phase slope index (PSI)\n",
      "Connectivity computation...\n",
      "    computing connectivity for 40 connections\n",
      "    using t=0.000s..1.000s for estimation (1001 points)\n",
      "    frequencies: 50.9Hz..149.9Hz (100 points)\n",
      "    Using multitaper spectrum estimation with 7 DPSS windows\n",
      "    the following metrics will be computed: Coherency\n",
      "    computing cross-spectral density for epoch 1\n",
      "[Connectivity computation done]\n",
      "Computing PSI from estimated Coherency: <SpectralConnectivity | freq : [50.949051, 149.850150], , nave : 1, nodes, n_estimated : 14, 40, ~101 kB>\n",
      "[PSI Estimation Done]\n",
      "PSI shape for subject 2: (14, 14)\n",
      "PSI vector shape for subject 2: (196,)\n",
      "Estimating phase slope index (PSI)\n",
      "Connectivity computation...\n",
      "    computing connectivity for 20 connections\n",
      "    using t=0.000s..1.000s for estimation (1001 points)\n",
      "    frequencies: 50.9Hz..149.9Hz (100 points)\n",
      "    Using multitaper spectrum estimation with 7 DPSS windows\n",
      "    the following metrics will be computed: Coherency\n",
      "    computing cross-spectral density for epoch 1\n",
      "[Connectivity computation done]\n",
      "Computing PSI from estimated Coherency: <SpectralConnectivity | freq : [50.949051, 149.850150], , nave : 1, nodes, n_estimated : 9, 20, ~69 kB>\n",
      "[PSI Estimation Done]\n",
      "PSI shape for subject 3: (9, 9)\n",
      "PSI vector shape for subject 3: (81,)\n",
      "Estimating phase slope index (PSI)\n",
      "Connectivity computation...\n",
      "    computing connectivity for 27 connections\n",
      "    using t=0.000s..1.000s for estimation (1001 points)\n",
      "    frequencies: 50.9Hz..149.9Hz (100 points)\n",
      "    Using multitaper spectrum estimation with 7 DPSS windows\n",
      "    the following metrics will be computed: Coherency\n",
      "    computing cross-spectral density for epoch 1\n",
      "[Connectivity computation done]\n",
      "Computing PSI from estimated Coherency: <SpectralConnectivity | freq : [50.949051, 149.850150], , nave : 1, nodes, n_estimated : 12, 27, ~80 kB>\n",
      "[PSI Estimation Done]\n",
      "PSI shape for subject 4: (12, 12)\n",
      "PSI vector shape for subject 4: (144,)\n",
      "Estimating phase slope index (PSI)\n",
      "Connectivity computation...\n",
      "    computing connectivity for 54 connections\n",
      "    using t=0.000s..1.000s for estimation (1001 points)\n",
      "    frequencies: 50.9Hz..149.9Hz (100 points)\n",
      "    Using multitaper spectrum estimation with 7 DPSS windows\n",
      "    the following metrics will be computed: Coherency\n",
      "    computing cross-spectral density for epoch 1\n",
      "[Connectivity computation done]\n",
      "Computing PSI from estimated Coherency: <SpectralConnectivity | freq : [50.949051, 149.850150], , nave : 1, nodes, n_estimated : 21, 54, ~124 kB>\n",
      "[PSI Estimation Done]\n",
      "PSI shape for subject 5: (21, 21)\n",
      "PSI vector shape for subject 5: (441,)\n",
      "Estimating phase slope index (PSI)\n",
      "Connectivity computation...\n",
      "    computing connectivity for 55 connections\n",
      "    using t=0.000s..1.000s for estimation (1001 points)\n",
      "    frequencies: 50.9Hz..149.9Hz (100 points)\n",
      "    Using multitaper spectrum estimation with 7 DPSS windows\n",
      "    the following metrics will be computed: Coherency\n",
      "    computing cross-spectral density for epoch 1\n",
      "[Connectivity computation done]\n",
      "Computing PSI from estimated Coherency: <SpectralConnectivity | freq : [50.949051, 149.850150], , nave : 1, nodes, n_estimated : 16, 55, ~125 kB>\n",
      "[PSI Estimation Done]\n",
      "PSI shape for subject 6: (16, 16)\n",
      "PSI vector shape for subject 6: (256,)\n",
      "Estimating phase slope index (PSI)\n",
      "Connectivity computation...\n",
      "    computing connectivity for 20 connections\n",
      "    using t=0.000s..1.000s for estimation (1001 points)\n",
      "    frequencies: 50.9Hz..149.9Hz (100 points)\n",
      "    Using multitaper spectrum estimation with 7 DPSS windows\n",
      "    the following metrics will be computed: Coherency\n",
      "    computing cross-spectral density for epoch 1\n",
      "[Connectivity computation done]\n",
      "Computing PSI from estimated Coherency: <SpectralConnectivity | freq : [50.949051, 149.850150], , nave : 1, nodes, n_estimated : 9, 20, ~69 kB>\n",
      "[PSI Estimation Done]\n",
      "PSI shape for subject 7: (9, 9)\n",
      "PSI vector shape for subject 7: (81,)\n"
     ]
    },
    {
     "data": {
      "image/png": "[encoded data removed]",
      "text/plain": [
       "<Figure size 3000x500 with 8 Axes>"
      ]
     },
     "metadata": {},
     "output_type": "display_data"
    },
    {
     "name": "stdout",
     "output_type": "stream",
     "text": [
      "PSI values have been saved to 'psi_values.pkl'\n"
     ]
    }
   ],
   "source": [
    "import numpy as np\n",
    "from mne_connectivity import seed_target_indices, phase_slope_index\n",
    "import matplotlib.pyplot as plt\n",
    "import pickle\n",
    "\n",
    "# 初始化一个列表来存储PSI值\n",
    "psi_list = []\n",
    "\n",
    "# 初始化一个列表来存储所有被试的PSI一维向量\n",
    "all_psi_flat = []\n",
    "# 初始化一个列表来存储所有被试的编码\n",
    "subject_codes = []\n",
    "\n",
    "# 设置可视化参数\n",
    "fig, axes = plt.subplots(1, len(ROI1_npn), figsize=(30, 5))  # 创建一个包含3个子图的图\n",
    "\n",
    "# 定义采样频率\n",
    "sfreq = 1000  # 假设采样频率为 1000 Hz\n",
    "\n",
    "# 循环处理每个被试的数据\n",
    "for i in range(len(ROI1_npn)):\n",
    "\n",
    "    # 创建被试编码\n",
    "    subject_code = f'{i+1}'\n",
    "    \n",
    "    # 提取每个被试的TFR数据\n",
    "    roi1_data = ROI1_npn[i][0].data\n",
    "    roi2_data = ROI2_npn[i][0].data\n",
    "\n",
    "    # 在axis=1维度上对频率进行平均\n",
    "    roi1_averaged = np.mean(roi1_data, axis=1)  # 结果形状为 (channels, times)\n",
    "    roi2_averaged = np.mean(roi2_data, axis=1)  # 结果形状为 (channels, times)\n",
    "\n",
    "    # 合并平均后的数据\n",
    "    combined_data = np.concatenate((roi1_averaged, roi2_averaged), axis=0)\n",
    "\n",
    "    # 获取通道数量\n",
    "    n_signals = combined_data.shape[0]\n",
    "    n_signals_roi1 = roi1_averaged.shape[0]\n",
    "    n_signals_roi2 = roi2_averaged.shape[0]\n",
    "\n",
    "    # 创建索引对\n",
    "    roi1_indices = np.arange(n_signals_roi1)\n",
    "    roi2_indices = np.arange(n_signals_roi1, n_signals)\n",
    "    indices = seed_target_indices(roi1_indices, roi2_indices)\n",
    "\n",
    "    # 计算 PSI\n",
    "    conn = phase_slope_index(\n",
    "        combined_data[None, :, :],  # 添加一个新的维度表示试次数量，这里为 1\n",
    "        indices=indices,\n",
    "        sfreq=sfreq,\n",
    "        fmin=50,\n",
    "        fmax=150,\n",
    "        mode='multitaper'\n",
    "    )\n",
    "\n",
    "    # 提取 PSI 矩阵\n",
    "    psi = conn.get_data(output='dense')\n",
    "\n",
    "    # 将三维PSI矩阵转换为二维\n",
    "    psi_2d = np.squeeze(psi)\n",
    "\n",
    "    # 将PSI矩阵添加到列表中\n",
    "    psi_list.append(psi_2d)\n",
    "\n",
    "    # psi 结果形状为 (n_signals_roi1, n_signals_roi2)\n",
    "    print(f\"PSI shape for subject {i+1}: {psi_2d.shape}\")\n",
    "\n",
    "    # 保存PSI数据到CSV文件\n",
    "    df = pd.DataFrame(psi_2d)\n",
    "    csv_path = os.path.join(psi_out_path, f'psi_npn_subject_{i+1}.csv')\n",
    "    df.to_csv(csv_path, index=False)\n",
    "\n",
    "    # 将二维PSI矩阵展平成一维向量\n",
    "    psi_flat = psi_2d.flatten()\n",
    "\n",
    "    # 将PSI一维向量添加到总列表中\n",
    "    all_psi_flat.extend(psi_flat.tolist())\n",
    "\n",
    "    # 将被试编码添加到编码列表中\n",
    "    subject_codes.extend([subject_code] * len(psi_flat))\n",
    "\n",
    "    # psi 结果形状为 (n_signals_roi1 * n_signals_roi2,)\n",
    "    print(f\"PSI vector shape for subject {i+1}: {psi_flat.shape}\")\n",
    "    \n",
    "    # 在对应的子图中可视化 PSI 矩阵\n",
    "    ax = axes[i]\n",
    "    im = ax.imshow(psi_2d, aspect='auto', origin='lower', cmap='viridis')\n",
    "    ax.set_title(f'Participants {i+1}')\n",
    "    ax.set_xlabel('Amygdala channels')\n",
    "    ax.set_ylabel('Insula channels')\n",
    "\n",
    "# 添加颜色条\n",
    "fig.colorbar(im, ax=axes.ravel().tolist(), label='PSI value')\n",
    "fig.suptitle('Phase Slope Index (PSI) between amygdala and insula BGA for four participants')\n",
    "plt.show()\n",
    "\n",
    "# 保存PSI值到文件\n",
    "with open('psi_values.pkl', 'wb') as f:\n",
    "    pickle.dump(psi_list, f)\n",
    "\n",
    "print(\"PSI values have been saved to 'psi_values.pkl'\")\n",
    "\n",
    "# 将所有被试的PSI一维向量和被试编码转换为DataFrame\n",
    "all_psi_df_npn = pd.DataFrame({'PSI_inatt': all_psi_flat, 'Subject_Code': subject_codes})\n",
    "\n",
    "# 删除包含缺失值的行\n",
    "all_psi_df_npn.dropna(inplace=True)\n",
    "\n",
    "# 保存所有被试的PSI一维向量和被试编码到CSV文件\n",
    "all_csv_path = os.path.join(psi_out_path, 'all_psi_values_with_codes_npn.csv')\n",
    "all_psi_df_npn.to_csv(all_csv_path, index=False)\n",
    "\n",
    "# 创建一个新的 DataFrame，直接将所需列合并\n",
    "combined_df = pd.DataFrame({\n",
    "    'PSI_inatt': all_psi_df_npn['PSI_inatt'],\n",
    "    'Subject_Code': all_psi_df_npn['Subject_Code'],\n",
    "    'PSI_att': all_psi_df_pn['PSI_att']\n",
    "})\n",
    "\n",
    "# 保存所有被试的PSI一维向量和被试编码到CSV文件\n",
    "all_csv_path = os.path.join(psi_out_path, 'all_psi_values_with_codes.csv')\n",
    "combined_df.to_csv(all_csv_path, index=False)\n",
    "\n"
   ]
  }
 ],
 "metadata": {
  "kernelspec": {
   "display_name": "neural",
   "language": "python",
   "name": "python3"
  },
  "language_info": {
   "codemirror_mode": {
    "name": "ipython",
    "version": 3
   },
   "file_extension": ".py",
   "mimetype": "text/x-python",
   "name": "python",
   "nbconvert_exporter": "python",
   "pygments_lexer": "ipython3",
   "version": "3.9.18"
  }
 },
 "nbformat": 4,
 "nbformat_minor": 2
}
