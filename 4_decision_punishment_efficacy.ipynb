{
 "cells": [
  {
   "cell_type": "code",
   "execution_count": 1,
   "metadata": {},
   "outputs": [
    {
     "name": "stderr",
     "output_type": "stream",
     "text": [
      "/Users/madwoman/opt/anaconda3/envs/neural/lib/python3.9/site-packages/pandas/core/arrays/masked.py:60: UserWarning: Pandas requires version '1.3.6' or newer of 'bottleneck' (version '1.3.5' currently installed).\n",
      "  from pandas.core import (\n"
     ]
    }
   ],
   "source": [
    "#import possibly needed modules\n",
    "import matplotlib.pyplot as plt\n",
    "import nibabel as nib\n",
    "import pandas as pd\n",
    "import numpy as np\n",
    "import scipy.io \n",
    "import mne\n",
    "import os\n",
    "import sys\n"
   ]
  },
  {
   "cell_type": "code",
   "execution_count": 34,
   "metadata": {},
   "outputs": [],
   "source": [
    "#define the path and subjects\n",
    "#in_path = r\"/Users/madwoman/Desktop/tpp_seeg/roi_data_67/sts/\" # 分析哪个roi就输入哪个文件夹的数据\n",
    "in_path = r\"/Users/madwoman/Desktop/tpp_seeg/roi_data_1234_new/ipl/\" # 分析哪个roi就输入哪个文件夹的数据\n",
    "in_path_baseline = r\"/Users/madwoman/Desktop/tpp_seeg/roi_data_baseline_new/ipl/\" # 分析哪个roi就输入哪个文件夹的数据\n",
    "#out_path = r\"/Users/madwoman/Desktop/tpp_seeg/frqe_out/sts/\" # 分析哪个roi就输入哪个文件夹的数据\n",
    "#roi_name = \"amy\"\n",
    "# subjects = [108, 116, 117, 120, 122, 135] # vmpfc  \n",
    "# subjects = [119, 125, 127] # vmpfc for kids \n",
    "# subjects = [104, 108, 116, 117, 120,122] # mpfc  \n",
    "# subjects = [108, 113, 117, 120, 122, 135] # ipl  \n",
    "subjects = [110, 125, 127, 134] # ipl for kids\n",
    "# subjects = [112, 120, 122] # sts  \n",
    "# subjects = [110, 119, 125, 127] # sts for kids \n",
    "# subjects = [108, 116, 117, 120, 122] # dmpfc  \n",
    "# subjects= [108, 112, 113, 116, 117, 122, 135] # amy 115 \n",
    "# subjects = [110, 119, 124, 125, 127, 131] # amy for kids\n",
    "# subjects = [117, 120, 122] # accg\n",
    "# subjects = [109, 116, 119, 120] # striatum  删除 107  119\n",
    "# subjects = [104, 113, 117, 120, 122] # acc_bn\n",
    "# subjects = [104, 113] # pcc\n",
    "# subjects = [104, 119, 122,123] # mcc   \n",
    "# subjects = [116, 120] # nacc\n",
    "# subjects = [116, 120] # dlpfc\n",
    "# subjects = [113] # dacc\n",
    "# subjects = [108, 112, 113, 116, 117, 120, 122, 123, 135] # insula/ai\n",
    "# subjects = [110, 119, 124, 125, 127, 131, 134] # insula/ai for kids\n",
    "# subjects = [125, 127] # insula/ai for kids\n",
    "#epochs_name = '/biomo_epo.fif'\n",
    "\n",
    "# subjects = [123]\n",
    "#functions for gaussian filter\n",
    "def gaussian_filter(data, time_span=50, fs=1000, axis=-1):\n",
    "\n",
    "    # time_span: the length of the window (ms)\n",
    "    from scipy import signal, ndimage\n",
    "\n",
    "    winsize = time_span * fs / 1000\n",
    "\n",
    "    # create a window(kernel) with value follow a gaussian distrubution\n",
    "    window = signal.gaussian(winsize,std = int((winsize)/5) ) # Note! In matlab function 'gausswin',the parameter is α(defaut = 2.5), here is std, std = winsize/2α\n",
    "\n",
    "    # Make the sum of the window = 1\n",
    "    gusWin = window/sum(window)\n",
    "\n",
    "    # convolve the last dimension\n",
    "    data_filtered = ndimage.convolve1d(input=data, weights=gusWin, axis=axis, mode='nearest', origin=0)\n",
    "\n",
    "    return data_filtered"
   ]
  },
  {
   "cell_type": "code",
   "execution_count": 35,
   "metadata": {},
   "outputs": [
    {
     "name": "stdout",
     "output_type": "stream",
     "text": [
      "Extracting parameters from /Users/madwoman/Desktop/tpp_seeg/roi_data_1234_new/ipl/110.set...\n",
      "Not setting metadata\n",
      "45 matching events found\n",
      "No baseline correction applied\n",
      "0 projection items activated\n",
      "Ready.\n",
      "NOTE: tfr_morlet() is a legacy function. New code should use .compute_tfr(method=\"morlet\").\n"
     ]
    },
    {
     "name": "stderr",
     "output_type": "stream",
     "text": [
      "/var/folders/9v/hrxf86p91h31ptwdds0f77qw0000gn/T/ipykernel_18466/1482584032.py:16: RuntimeWarning: At least one epoch has multiple events. Only the latency of the first event will be retained.\n",
      "  ROI_epochs = mne.read_epochs_eeglab(in_path + str(subjects[i]) + '.set')\n",
      "[Parallel(n_jobs=1)]: Using backend SequentialBackend with 1 concurrent workers.\n",
      "[Parallel(n_jobs=1)]: Done   1 out of   1 | elapsed:    0.1s remaining:    0.0s\n",
      "[Parallel(n_jobs=1)]: Done   2 out of   2 | elapsed:    0.2s remaining:    0.0s\n",
      "[Parallel(n_jobs=1)]: Done   3 out of   3 | elapsed:    0.2s remaining:    0.0s\n",
      "[Parallel(n_jobs=1)]: Done   4 out of   4 | elapsed:    0.3s remaining:    0.0s\n"
     ]
    },
    {
     "name": "stdout",
     "output_type": "stream",
     "text": [
      "NOTE: tfr_morlet() is a legacy function. New code should use .compute_tfr(method=\"morlet\").\n"
     ]
    },
    {
     "name": "stderr",
     "output_type": "stream",
     "text": [
      "[Parallel(n_jobs=1)]: Done  29 out of  29 | elapsed:    2.3s finished\n",
      "[Parallel(n_jobs=1)]: Using backend SequentialBackend with 1 concurrent workers.\n",
      "[Parallel(n_jobs=1)]: Done   1 out of   1 | elapsed:    0.1s remaining:    0.0s\n",
      "[Parallel(n_jobs=1)]: Done   2 out of   2 | elapsed:    0.2s remaining:    0.0s\n",
      "[Parallel(n_jobs=1)]: Done   3 out of   3 | elapsed:    0.3s remaining:    0.0s\n",
      "[Parallel(n_jobs=1)]: Done   4 out of   4 | elapsed:    0.3s remaining:    0.0s\n"
     ]
    },
    {
     "name": "stdout",
     "output_type": "stream",
     "text": [
      "Extracting parameters from /Users/madwoman/Desktop/tpp_seeg/roi_data_baseline_new/ipl/110.set...\n",
      "Not setting metadata\n",
      "48 matching events found\n"
     ]
    },
    {
     "name": "stderr",
     "output_type": "stream",
     "text": [
      "[Parallel(n_jobs=1)]: Done  29 out of  29 | elapsed:    2.6s finished\n",
      "/var/folders/9v/hrxf86p91h31ptwdds0f77qw0000gn/T/ipykernel_18466/1482584032.py:30: RuntimeWarning: At least one epoch has multiple events. Only the latency of the first event will be retained.\n",
      "  baseline_epoches = mne.read_epochs_eeglab(in_path_baseline + str(subjects[i]) + '.set')\n"
     ]
    },
    {
     "name": "stdout",
     "output_type": "stream",
     "text": [
      "No baseline correction applied\n",
      "0 projection items activated\n",
      "Ready.\n",
      "NOTE: tfr_morlet() is a legacy function. New code should use .compute_tfr(method=\"morlet\").\n"
     ]
    },
    {
     "name": "stderr",
     "output_type": "stream",
     "text": [
      "[Parallel(n_jobs=1)]: Using backend SequentialBackend with 1 concurrent workers.\n",
      "[Parallel(n_jobs=1)]: Done   1 out of   1 | elapsed:    0.1s remaining:    0.0s\n",
      "[Parallel(n_jobs=1)]: Done   2 out of   2 | elapsed:    0.1s remaining:    0.0s\n",
      "[Parallel(n_jobs=1)]: Done   3 out of   3 | elapsed:    0.2s remaining:    0.0s\n",
      "[Parallel(n_jobs=1)]: Done   4 out of   4 | elapsed:    0.3s remaining:    0.0s\n"
     ]
    },
    {
     "name": "stdout",
     "output_type": "stream",
     "text": [
      "NOTE: tfr_morlet() is a legacy function. New code should use .compute_tfr(method=\"morlet\").\n"
     ]
    },
    {
     "name": "stderr",
     "output_type": "stream",
     "text": [
      "[Parallel(n_jobs=1)]: Done  29 out of  29 | elapsed:    2.0s finished\n",
      "[Parallel(n_jobs=1)]: Using backend SequentialBackend with 1 concurrent workers.\n",
      "[Parallel(n_jobs=1)]: Done   1 out of   1 | elapsed:    0.1s remaining:    0.0s\n",
      "[Parallel(n_jobs=1)]: Done   2 out of   2 | elapsed:    0.2s remaining:    0.0s\n",
      "[Parallel(n_jobs=1)]: Done   3 out of   3 | elapsed:    0.3s remaining:    0.0s\n",
      "[Parallel(n_jobs=1)]: Done   4 out of   4 | elapsed:    0.4s remaining:    0.0s\n"
     ]
    },
    {
     "name": "stdout",
     "output_type": "stream",
     "text": [
      "Applying baseline correction (mode: zlogratio)\n"
     ]
    },
    {
     "name": "stderr",
     "output_type": "stream",
     "text": [
      "[Parallel(n_jobs=1)]: Done  29 out of  29 | elapsed:    2.8s finished\n",
      "/var/folders/9v/hrxf86p91h31ptwdds0f77qw0000gn/T/ipykernel_18466/1482584032.py:57: FutureWarning: Parameters \"info\", \"data\", \"times\", \"nave\" are deprecated and will be removed in version 1.8. For a quick fix, use ``AverageTFRArray`` with the same parameters. For a long-term fix, see the docstring notes.\n",
      "  all_pn_mean_tfr = mne.time_frequency.AverageTFR(info=info, data=pn_mean_tfr, times=time_range, freqs=freqs, nave=1)\n",
      "/var/folders/9v/hrxf86p91h31ptwdds0f77qw0000gn/T/ipykernel_18466/1482584032.py:58: FutureWarning: Parameters \"info\", \"data\", \"times\", \"nave\" are deprecated and will be removed in version 1.8. For a quick fix, use ``AverageTFRArray`` with the same parameters. For a long-term fix, see the docstring notes.\n",
      "  all_npn_mean_tfr = mne.time_frequency.AverageTFR(info=info, data=npn_mean_tfr, times=time_range, freqs=freqs, nave=1)\n"
     ]
    },
    {
     "name": "stdout",
     "output_type": "stream",
     "text": [
      "Applying baseline correction (mode: zlogratio)\n",
      "Extracting parameters from /Users/madwoman/Desktop/tpp_seeg/roi_data_1234_new/ipl/125.set...\n",
      "Not setting metadata\n",
      "48 matching events found\n",
      "No baseline correction applied\n",
      "0 projection items activated\n",
      "Ready.\n",
      "NOTE: tfr_morlet() is a legacy function. New code should use .compute_tfr(method=\"morlet\").\n"
     ]
    },
    {
     "name": "stderr",
     "output_type": "stream",
     "text": [
      "/var/folders/9v/hrxf86p91h31ptwdds0f77qw0000gn/T/ipykernel_18466/1482584032.py:16: RuntimeWarning: At least one epoch has multiple events. Only the latency of the first event will be retained.\n",
      "  ROI_epochs = mne.read_epochs_eeglab(in_path + str(subjects[i]) + '.set')\n",
      "[Parallel(n_jobs=1)]: Using backend SequentialBackend with 1 concurrent workers.\n",
      "[Parallel(n_jobs=1)]: Done   1 out of   1 | elapsed:    0.1s remaining:    0.0s\n",
      "[Parallel(n_jobs=1)]: Done   2 out of   2 | elapsed:    0.2s remaining:    0.0s\n",
      "[Parallel(n_jobs=1)]: Done   3 out of   3 | elapsed:    0.3s remaining:    0.0s\n",
      "[Parallel(n_jobs=1)]: Done   4 out of   4 | elapsed:    0.4s remaining:    0.0s\n"
     ]
    },
    {
     "name": "stdout",
     "output_type": "stream",
     "text": [
      "NOTE: tfr_morlet() is a legacy function. New code should use .compute_tfr(method=\"morlet\").\n"
     ]
    },
    {
     "name": "stderr",
     "output_type": "stream",
     "text": [
      "[Parallel(n_jobs=1)]: Done  12 out of  12 | elapsed:    1.1s finished\n",
      "[Parallel(n_jobs=1)]: Using backend SequentialBackend with 1 concurrent workers.\n",
      "[Parallel(n_jobs=1)]: Done   1 out of   1 | elapsed:    0.1s remaining:    0.0s\n",
      "[Parallel(n_jobs=1)]: Done   2 out of   2 | elapsed:    0.2s remaining:    0.0s\n",
      "[Parallel(n_jobs=1)]: Done   3 out of   3 | elapsed:    0.3s remaining:    0.0s\n",
      "[Parallel(n_jobs=1)]: Done   4 out of   4 | elapsed:    0.4s remaining:    0.0s\n"
     ]
    },
    {
     "name": "stdout",
     "output_type": "stream",
     "text": [
      "Extracting parameters from /Users/madwoman/Desktop/tpp_seeg/roi_data_baseline_new/ipl/125.set...\n",
      "Not setting metadata\n",
      "48 matching events found\n",
      "No baseline correction applied\n",
      "0 projection items activated\n",
      "Ready.\n",
      "NOTE: tfr_morlet() is a legacy function. New code should use .compute_tfr(method=\"morlet\").\n"
     ]
    },
    {
     "name": "stderr",
     "output_type": "stream",
     "text": [
      "[Parallel(n_jobs=1)]: Done  12 out of  12 | elapsed:    1.2s finished\n",
      "/var/folders/9v/hrxf86p91h31ptwdds0f77qw0000gn/T/ipykernel_18466/1482584032.py:30: RuntimeWarning: At least one epoch has multiple events. Only the latency of the first event will be retained.\n",
      "  baseline_epoches = mne.read_epochs_eeglab(in_path_baseline + str(subjects[i]) + '.set')\n",
      "[Parallel(n_jobs=1)]: Using backend SequentialBackend with 1 concurrent workers.\n",
      "[Parallel(n_jobs=1)]: Done   1 out of   1 | elapsed:    0.1s remaining:    0.0s\n",
      "[Parallel(n_jobs=1)]: Done   2 out of   2 | elapsed:    0.3s remaining:    0.0s\n",
      "[Parallel(n_jobs=1)]: Done   3 out of   3 | elapsed:    0.4s remaining:    0.0s\n",
      "[Parallel(n_jobs=1)]: Done   4 out of   4 | elapsed:    0.5s remaining:    0.0s\n"
     ]
    },
    {
     "name": "stdout",
     "output_type": "stream",
     "text": [
      "NOTE: tfr_morlet() is a legacy function. New code should use .compute_tfr(method=\"morlet\").\n"
     ]
    },
    {
     "name": "stderr",
     "output_type": "stream",
     "text": [
      "[Parallel(n_jobs=1)]: Done  12 out of  12 | elapsed:    1.5s finished\n",
      "[Parallel(n_jobs=1)]: Using backend SequentialBackend with 1 concurrent workers.\n",
      "[Parallel(n_jobs=1)]: Done   1 out of   1 | elapsed:    0.1s remaining:    0.0s\n",
      "[Parallel(n_jobs=1)]: Done   2 out of   2 | elapsed:    0.2s remaining:    0.0s\n",
      "[Parallel(n_jobs=1)]: Done   3 out of   3 | elapsed:    0.3s remaining:    0.0s\n",
      "[Parallel(n_jobs=1)]: Done   4 out of   4 | elapsed:    0.4s remaining:    0.0s\n"
     ]
    },
    {
     "name": "stdout",
     "output_type": "stream",
     "text": [
      "Applying baseline correction (mode: zlogratio)\n",
      "Applying baseline correction (mode: zlogratio)\n"
     ]
    },
    {
     "name": "stderr",
     "output_type": "stream",
     "text": [
      "[Parallel(n_jobs=1)]: Done  12 out of  12 | elapsed:    1.1s finished\n",
      "/var/folders/9v/hrxf86p91h31ptwdds0f77qw0000gn/T/ipykernel_18466/1482584032.py:57: FutureWarning: Parameters \"info\", \"data\", \"times\", \"nave\" are deprecated and will be removed in version 1.8. For a quick fix, use ``AverageTFRArray`` with the same parameters. For a long-term fix, see the docstring notes.\n",
      "  all_pn_mean_tfr = mne.time_frequency.AverageTFR(info=info, data=pn_mean_tfr, times=time_range, freqs=freqs, nave=1)\n",
      "/var/folders/9v/hrxf86p91h31ptwdds0f77qw0000gn/T/ipykernel_18466/1482584032.py:58: FutureWarning: Parameters \"info\", \"data\", \"times\", \"nave\" are deprecated and will be removed in version 1.8. For a quick fix, use ``AverageTFRArray`` with the same parameters. For a long-term fix, see the docstring notes.\n",
      "  all_npn_mean_tfr = mne.time_frequency.AverageTFR(info=info, data=npn_mean_tfr, times=time_range, freqs=freqs, nave=1)\n"
     ]
    },
    {
     "name": "stdout",
     "output_type": "stream",
     "text": [
      "Extracting parameters from /Users/madwoman/Desktop/tpp_seeg/roi_data_1234_new/ipl/127.set...\n",
      "Not setting metadata\n",
      "48 matching events found\n",
      "No baseline correction applied\n",
      "0 projection items activated\n",
      "Ready.\n"
     ]
    },
    {
     "name": "stderr",
     "output_type": "stream",
     "text": [
      "/var/folders/9v/hrxf86p91h31ptwdds0f77qw0000gn/T/ipykernel_18466/1482584032.py:16: RuntimeWarning: At least one epoch has multiple events. Only the latency of the first event will be retained.\n",
      "  ROI_epochs = mne.read_epochs_eeglab(in_path + str(subjects[i]) + '.set')\n"
     ]
    },
    {
     "name": "stdout",
     "output_type": "stream",
     "text": [
      "NOTE: tfr_morlet() is a legacy function. New code should use .compute_tfr(method=\"morlet\").\n"
     ]
    },
    {
     "name": "stderr",
     "output_type": "stream",
     "text": [
      "[Parallel(n_jobs=1)]: Using backend SequentialBackend with 1 concurrent workers.\n",
      "[Parallel(n_jobs=1)]: Done   1 out of   1 | elapsed:    0.1s remaining:    0.0s\n",
      "[Parallel(n_jobs=1)]: Done   2 out of   2 | elapsed:    0.2s remaining:    0.0s\n",
      "[Parallel(n_jobs=1)]: Done   3 out of   3 | elapsed:    0.3s remaining:    0.0s\n",
      "[Parallel(n_jobs=1)]: Done   4 out of   4 | elapsed:    0.4s remaining:    0.0s\n"
     ]
    },
    {
     "name": "stdout",
     "output_type": "stream",
     "text": [
      "NOTE: tfr_morlet() is a legacy function. New code should use .compute_tfr(method=\"morlet\").\n"
     ]
    },
    {
     "name": "stderr",
     "output_type": "stream",
     "text": [
      "[Parallel(n_jobs=1)]: Done  48 out of  48 | elapsed:    5.0s finished\n",
      "[Parallel(n_jobs=1)]: Using backend SequentialBackend with 1 concurrent workers.\n",
      "[Parallel(n_jobs=1)]: Done   1 out of   1 | elapsed:    0.1s remaining:    0.0s\n",
      "[Parallel(n_jobs=1)]: Done   2 out of   2 | elapsed:    0.2s remaining:    0.0s\n",
      "[Parallel(n_jobs=1)]: Done   3 out of   3 | elapsed:    0.3s remaining:    0.0s\n",
      "[Parallel(n_jobs=1)]: Done   4 out of   4 | elapsed:    0.4s remaining:    0.0s\n"
     ]
    },
    {
     "name": "stdout",
     "output_type": "stream",
     "text": [
      "Extracting parameters from /Users/madwoman/Desktop/tpp_seeg/roi_data_baseline_new/ipl/127.set...\n"
     ]
    },
    {
     "name": "stderr",
     "output_type": "stream",
     "text": [
      "[Parallel(n_jobs=1)]: Done  48 out of  48 | elapsed:    4.8s finished\n",
      "/var/folders/9v/hrxf86p91h31ptwdds0f77qw0000gn/T/ipykernel_18466/1482584032.py:30: RuntimeWarning: At least one epoch has multiple events. Only the latency of the first event will be retained.\n",
      "  baseline_epoches = mne.read_epochs_eeglab(in_path_baseline + str(subjects[i]) + '.set')\n"
     ]
    },
    {
     "name": "stdout",
     "output_type": "stream",
     "text": [
      "Not setting metadata\n",
      "48 matching events found\n",
      "No baseline correction applied\n",
      "0 projection items activated\n",
      "Ready.\n",
      "NOTE: tfr_morlet() is a legacy function. New code should use .compute_tfr(method=\"morlet\").\n"
     ]
    },
    {
     "name": "stderr",
     "output_type": "stream",
     "text": [
      "[Parallel(n_jobs=1)]: Using backend SequentialBackend with 1 concurrent workers.\n",
      "[Parallel(n_jobs=1)]: Done   1 out of   1 | elapsed:    0.1s remaining:    0.0s\n",
      "[Parallel(n_jobs=1)]: Done   2 out of   2 | elapsed:    0.3s remaining:    0.0s\n",
      "[Parallel(n_jobs=1)]: Done   3 out of   3 | elapsed:    0.4s remaining:    0.0s\n",
      "[Parallel(n_jobs=1)]: Done   4 out of   4 | elapsed:    0.5s remaining:    0.0s\n"
     ]
    },
    {
     "name": "stdout",
     "output_type": "stream",
     "text": [
      "NOTE: tfr_morlet() is a legacy function. New code should use .compute_tfr(method=\"morlet\").\n"
     ]
    },
    {
     "name": "stderr",
     "output_type": "stream",
     "text": [
      "[Parallel(n_jobs=1)]: Done  48 out of  48 | elapsed:    6.4s finished\n",
      "[Parallel(n_jobs=1)]: Using backend SequentialBackend with 1 concurrent workers.\n",
      "[Parallel(n_jobs=1)]: Done   1 out of   1 | elapsed:    0.1s remaining:    0.0s\n",
      "[Parallel(n_jobs=1)]: Done   2 out of   2 | elapsed:    0.2s remaining:    0.0s\n",
      "[Parallel(n_jobs=1)]: Done   3 out of   3 | elapsed:    0.4s remaining:    0.0s\n",
      "[Parallel(n_jobs=1)]: Done   4 out of   4 | elapsed:    0.5s remaining:    0.0s\n",
      "[Parallel(n_jobs=1)]: Done  48 out of  48 | elapsed:    7.5s finished\n"
     ]
    },
    {
     "name": "stdout",
     "output_type": "stream",
     "text": [
      "Applying baseline correction (mode: zlogratio)\n"
     ]
    },
    {
     "name": "stderr",
     "output_type": "stream",
     "text": [
      "/var/folders/9v/hrxf86p91h31ptwdds0f77qw0000gn/T/ipykernel_18466/1482584032.py:57: FutureWarning: Parameters \"info\", \"data\", \"times\", \"nave\" are deprecated and will be removed in version 1.8. For a quick fix, use ``AverageTFRArray`` with the same parameters. For a long-term fix, see the docstring notes.\n",
      "  all_pn_mean_tfr = mne.time_frequency.AverageTFR(info=info, data=pn_mean_tfr, times=time_range, freqs=freqs, nave=1)\n",
      "/var/folders/9v/hrxf86p91h31ptwdds0f77qw0000gn/T/ipykernel_18466/1482584032.py:58: FutureWarning: Parameters \"info\", \"data\", \"times\", \"nave\" are deprecated and will be removed in version 1.8. For a quick fix, use ``AverageTFRArray`` with the same parameters. For a long-term fix, see the docstring notes.\n",
      "  all_npn_mean_tfr = mne.time_frequency.AverageTFR(info=info, data=npn_mean_tfr, times=time_range, freqs=freqs, nave=1)\n"
     ]
    },
    {
     "name": "stdout",
     "output_type": "stream",
     "text": [
      "Applying baseline correction (mode: zlogratio)\n",
      "Extracting parameters from /Users/madwoman/Desktop/tpp_seeg/roi_data_1234_new/ipl/134.set...\n",
      "Not setting metadata\n",
      "48 matching events found\n",
      "No baseline correction applied\n",
      "0 projection items activated\n",
      "Ready.\n",
      "NOTE: tfr_morlet() is a legacy function. New code should use .compute_tfr(method=\"morlet\").\n"
     ]
    },
    {
     "name": "stderr",
     "output_type": "stream",
     "text": [
      "/var/folders/9v/hrxf86p91h31ptwdds0f77qw0000gn/T/ipykernel_18466/1482584032.py:16: RuntimeWarning: At least one epoch has multiple events. Only the latency of the first event will be retained.\n",
      "  ROI_epochs = mne.read_epochs_eeglab(in_path + str(subjects[i]) + '.set')\n",
      "[Parallel(n_jobs=1)]: Using backend SequentialBackend with 1 concurrent workers.\n",
      "[Parallel(n_jobs=1)]: Done   1 out of   1 | elapsed:    0.2s remaining:    0.0s\n",
      "[Parallel(n_jobs=1)]: Done   2 out of   2 | elapsed:    0.3s remaining:    0.0s\n",
      "[Parallel(n_jobs=1)]: Done   3 out of   3 | elapsed:    0.5s remaining:    0.0s\n",
      "[Parallel(n_jobs=1)]: Done   4 out of   4 | elapsed:    0.6s remaining:    0.0s\n"
     ]
    },
    {
     "name": "stdout",
     "output_type": "stream",
     "text": [
      "NOTE: tfr_morlet() is a legacy function. New code should use .compute_tfr(method=\"morlet\").\n"
     ]
    },
    {
     "name": "stderr",
     "output_type": "stream",
     "text": [
      "[Parallel(n_jobs=1)]: Done  19 out of  19 | elapsed:    1.6s finished\n",
      "[Parallel(n_jobs=1)]: Using backend SequentialBackend with 1 concurrent workers.\n",
      "[Parallel(n_jobs=1)]: Done   1 out of   1 | elapsed:    0.1s remaining:    0.0s\n",
      "[Parallel(n_jobs=1)]: Done   2 out of   2 | elapsed:    0.2s remaining:    0.0s\n",
      "[Parallel(n_jobs=1)]: Done   3 out of   3 | elapsed:    0.2s remaining:    0.0s\n",
      "[Parallel(n_jobs=1)]: Done   4 out of   4 | elapsed:    0.3s remaining:    0.0s\n"
     ]
    },
    {
     "name": "stdout",
     "output_type": "stream",
     "text": [
      "Extracting parameters from /Users/madwoman/Desktop/tpp_seeg/roi_data_baseline_new/ipl/134.set...\n",
      "Not setting metadata\n",
      "48 matching events found\n"
     ]
    },
    {
     "name": "stderr",
     "output_type": "stream",
     "text": [
      "[Parallel(n_jobs=1)]: Done  19 out of  19 | elapsed:    1.5s finished\n",
      "/var/folders/9v/hrxf86p91h31ptwdds0f77qw0000gn/T/ipykernel_18466/1482584032.py:30: RuntimeWarning: At least one epoch has multiple events. Only the latency of the first event will be retained.\n",
      "  baseline_epoches = mne.read_epochs_eeglab(in_path_baseline + str(subjects[i]) + '.set')\n"
     ]
    },
    {
     "name": "stdout",
     "output_type": "stream",
     "text": [
      "No baseline correction applied\n",
      "0 projection items activated\n",
      "Ready.\n",
      "NOTE: tfr_morlet() is a legacy function. New code should use .compute_tfr(method=\"morlet\").\n"
     ]
    },
    {
     "name": "stderr",
     "output_type": "stream",
     "text": [
      "[Parallel(n_jobs=1)]: Using backend SequentialBackend with 1 concurrent workers.\n",
      "[Parallel(n_jobs=1)]: Done   1 out of   1 | elapsed:    0.1s remaining:    0.0s\n",
      "[Parallel(n_jobs=1)]: Done   2 out of   2 | elapsed:    0.2s remaining:    0.0s\n",
      "[Parallel(n_jobs=1)]: Done   3 out of   3 | elapsed:    0.4s remaining:    0.0s\n",
      "[Parallel(n_jobs=1)]: Done   4 out of   4 | elapsed:    0.5s remaining:    0.0s\n"
     ]
    },
    {
     "name": "stdout",
     "output_type": "stream",
     "text": [
      "NOTE: tfr_morlet() is a legacy function. New code should use .compute_tfr(method=\"morlet\").\n"
     ]
    },
    {
     "name": "stderr",
     "output_type": "stream",
     "text": [
      "[Parallel(n_jobs=1)]: Done  19 out of  19 | elapsed:    2.5s finished\n",
      "[Parallel(n_jobs=1)]: Using backend SequentialBackend with 1 concurrent workers.\n",
      "[Parallel(n_jobs=1)]: Done   1 out of   1 | elapsed:    0.1s remaining:    0.0s\n",
      "[Parallel(n_jobs=1)]: Done   2 out of   2 | elapsed:    0.3s remaining:    0.0s\n",
      "[Parallel(n_jobs=1)]: Done   3 out of   3 | elapsed:    0.4s remaining:    0.0s\n",
      "[Parallel(n_jobs=1)]: Done   4 out of   4 | elapsed:    0.5s remaining:    0.0s\n"
     ]
    },
    {
     "name": "stdout",
     "output_type": "stream",
     "text": [
      "Applying baseline correction (mode: zlogratio)\n"
     ]
    },
    {
     "name": "stderr",
     "output_type": "stream",
     "text": [
      "[Parallel(n_jobs=1)]: Done  19 out of  19 | elapsed:    2.6s finished\n",
      "/var/folders/9v/hrxf86p91h31ptwdds0f77qw0000gn/T/ipykernel_18466/1482584032.py:57: FutureWarning: Parameters \"info\", \"data\", \"times\", \"nave\" are deprecated and will be removed in version 1.8. For a quick fix, use ``AverageTFRArray`` with the same parameters. For a long-term fix, see the docstring notes.\n",
      "  all_pn_mean_tfr = mne.time_frequency.AverageTFR(info=info, data=pn_mean_tfr, times=time_range, freqs=freqs, nave=1)\n",
      "/var/folders/9v/hrxf86p91h31ptwdds0f77qw0000gn/T/ipykernel_18466/1482584032.py:58: FutureWarning: Parameters \"info\", \"data\", \"times\", \"nave\" are deprecated and will be removed in version 1.8. For a quick fix, use ``AverageTFRArray`` with the same parameters. For a long-term fix, see the docstring notes.\n",
      "  all_npn_mean_tfr = mne.time_frequency.AverageTFR(info=info, data=npn_mean_tfr, times=time_range, freqs=freqs, nave=1)\n"
     ]
    },
    {
     "name": "stdout",
     "output_type": "stream",
     "text": [
      "Applying baseline correction (mode: zlogratio)\n"
     ]
    }
   ],
   "source": [
    "from mne.time_frequency import tfr_morlet\n",
    "#freqs=np.arange(70, 125, 5)\n",
    "freqs=np.arange(50, 150, 2)\n",
    "n_cycles=10\n",
    "time_span = 100\n",
    "ch_names = []\n",
    "whole_range = [-7, 0.999]  # baseline前后 0.3s\n",
    "baseline_range = [0, 0.2]\n",
    "\n",
    "\n",
    "# 生成时间序列\n",
    "time_range = np.arange(baseline_range[0]-baseline_range[1] + whole_range[0], whole_range[1], 0.001)\n",
    "for i in range(len(subjects)):\n",
    "\n",
    "    # 导入eegepoch数据\n",
    "    ROI_epochs = mne.read_epochs_eeglab(in_path + str(subjects[i]) + '.set')\n",
    "\n",
    "    #epoch selection\n",
    "\n",
    "    selected_tags = [tag for tag in ROI_epochs.event_id if '50' in tag and '6' in tag]\n",
    "    pn_epochs = ROI_epochs[selected_tags]\n",
    "\n",
    "    selected_tags = [tag for tag in ROI_epochs.event_id if '50' in tag and '7' in tag]\n",
    "    npn_epochs = ROI_epochs[selected_tags]\n",
    "\n",
    "    ##计算tfr: attention v.s. non-attention in punished trials\n",
    "    tfr_ROI_epoch_pn = tfr_morlet(pn_epochs, freqs=freqs, n_cycles=n_cycles, return_itc=False, average=True, use_fft=True)\n",
    "    tfr_ROI_epoch_npn = tfr_morlet(npn_epochs, freqs=freqs, n_cycles=n_cycles, return_itc=False, average=True, use_fft=True)\n",
    "\n",
    "    baseline_epoches = mne.read_epochs_eeglab(in_path_baseline + str(subjects[i]) + '.set')\n",
    "\n",
    "    selected_tags = [tag for tag in baseline_epoches.event_id if '50' in tag and '6' in tag]\n",
    "    pn_epochs = baseline_epoches[selected_tags]\n",
    "\n",
    "    selected_tags = [tag for tag in baseline_epoches.event_id if '50' in tag and '7' in tag]\n",
    "    npn_epochs = baseline_epoches[selected_tags]\n",
    "    ##计算tfr: attention v.s. non-attention in punished trials\n",
    "\n",
    "    tfr_ROI_epoch_pn_base = tfr_morlet(pn_epochs, freqs, n_cycles=n_cycles, return_itc=False, average = True, use_fft=True)\n",
    "    tfr_ROI_epoch_npn_base = tfr_morlet(npn_epochs, freqs, n_cycles=n_cycles, return_itc=False, average = True, use_fft=True)\n",
    "   \n",
    "    baseline_interval = [0.002, 0.2]\n",
    "    # Crop the baseline interval from the baseline dataset\n",
    "    baseline_epochs_pn = tfr_ROI_epoch_pn_base.copy().crop(tmin=baseline_interval[0], tmax=baseline_interval[1])\n",
    "    baseline_epochs_npn = tfr_ROI_epoch_npn_base.copy().crop(tmin=baseline_interval[0], tmax=baseline_interval[1])\n",
    "    # Apply baseline correction to the main dataset using the cropped baseline interval\n",
    "    \n",
    "    # Concatenate the baseline and main TFR data along the time axis\n",
    "    pn_mean_tfr = np.concatenate((baseline_epochs_pn.data, tfr_ROI_epoch_pn.data), axis=2)\n",
    "    npn_mean_tfr = np.concatenate((baseline_epochs_npn.data, tfr_ROI_epoch_npn.data), axis=2)\n",
    "#####\n",
    "   \n",
    "\n",
    "    info = mne.create_info(ch_names = ROI_epochs.ch_names, ch_types = 'eeg', sfreq = 1000)\n",
    "    \n",
    "    # 生成mne的tfr文件\n",
    "    all_pn_mean_tfr = mne.time_frequency.AverageTFR(info=info, data=pn_mean_tfr, times=time_range, freqs=freqs, nave=1)\n",
    "    all_npn_mean_tfr = mne.time_frequency.AverageTFR(info=info, data=npn_mean_tfr, times=time_range, freqs=freqs, nave=1)\n",
    "\n",
    "\n",
    "    #baseline correction\n",
    "    all_pn_mean_tfr.apply_baseline(mode='zlogratio', baseline=(-7.2, -7.002))\n",
    "    all_npn_mean_tfr.apply_baseline(mode='zlogratio', baseline=(-7.2, -7.002))\n",
    "    # Get data using get_data() method\n",
    "    #data_pn = epochs_pn.get_data()\n",
    "    #data_npn = epochs_npn.get_data()\n",
    "#####################\n",
    "\n",
    "    # gaussian_filter\n",
    "    smooth_hgb_pn_data = gaussian_filter(data=np.mean(all_pn_mean_tfr.data,axis=1), time_span=time_span, fs=ROI_epochs.info['sfreq'])\n",
    "    smooth_hgb_npn_data = gaussian_filter(data=np.mean(all_npn_mean_tfr.data,axis=1), time_span=time_span, fs=ROI_epochs.info['sfreq'])\n",
    "    # shape: trial, channel, time\n",
    "      \n",
    "    if i == 0:\n",
    "        all_smooth_hgb_pn_data = smooth_hgb_pn_data\n",
    "        all_smooth_hgb_npn_data = smooth_hgb_npn_data\n",
    "        ch_names = np.array(ROI_epochs.ch_names)\n",
    "    else:\n",
    "        all_smooth_hgb_pn_data = np.vstack((all_smooth_hgb_pn_data, smooth_hgb_pn_data))\n",
    "        all_smooth_hgb_npn_data = np.vstack((all_smooth_hgb_npn_data, smooth_hgb_npn_data))\n",
    "        ch_names = np.hstack((ch_names, np.array(ROI_epochs.ch_names)))\n",
    "  "
   ]
  },
  {
   "cell_type": "code",
   "execution_count": 183,
   "metadata": {},
   "outputs": [
    {
     "data": {
      "text/plain": [
       "['3/50/31/7/2',\n",
       " '3/50/30/7/2',\n",
       " '4/50/41/7/3',\n",
       " '1/50/10/7/1',\n",
       " '4/50/40/7/3',\n",
       " '1/50/11/7']"
      ]
     },
     "execution_count": 183,
     "metadata": {},
     "output_type": "execute_result"
    }
   ],
   "source": [
    "selected_tags"
   ]
  },
  {
   "cell_type": "code",
   "execution_count": 36,
   "metadata": {},
   "outputs": [
    {
     "name": "stdout",
     "output_type": "stream",
     "text": [
      "Using a threshold of 1.982383\n",
      "stat_fun(H1): min=-6.401331003340133 max=0.5715874980779462\n",
      "Running initial clustering …\n",
      "Found 3 clusters\n"
     ]
    },
    {
     "data": {
      "application/vnd.jupyter.widget-view+json": {
       "model_id": "a75f5a614ef7441ea7cc25392a5ae324",
       "version_major": 2,
       "version_minor": 0
      },
      "text/plain": [
       "  0%|          | Permuting : 0/9999 [00:00<?,       ?it/s]"
      ]
     },
     "metadata": {},
     "output_type": "display_data"
    },
    {
     "name": "stdout",
     "output_type": "stream",
     "text": [
      "Using a threshold of 1.982383\n",
      "stat_fun(H1): min=-4.267649430256818 max=2.83775496680116\n",
      "Running initial clustering …\n",
      "Found 7 clusters\n"
     ]
    },
    {
     "data": {
      "application/vnd.jupyter.widget-view+json": {
       "model_id": "670b510b2879460e946050324170cdd4",
       "version_major": 2,
       "version_minor": 0
      },
      "text/plain": [
       "  0%|          | Permuting : 0/9999 [00:00<?,       ?it/s]"
      ]
     },
     "metadata": {},
     "output_type": "display_data"
    },
    {
     "name": "stdout",
     "output_type": "stream",
     "text": [
      "Using a threshold of 3.885280\n",
      "stat_fun(H1): min=3.488270959464164e-06 max=18.783442035389896\n",
      "Running initial clustering …\n",
      "Found 4 clusters\n"
     ]
    },
    {
     "name": "stderr",
     "output_type": "stream",
     "text": [
      "/var/folders/9v/hrxf86p91h31ptwdds0f77qw0000gn/T/ipykernel_18466/1177071300.py:27: RuntimeWarning: Ignoring argument \"tail\", performing 1-tailed F-test\n",
      "  T_obs, clusters, cluster_p_values, H0 = mne.stats.permutation_cluster_test([all_smooth_hgb_pn_crop.data, all_smooth_hgb_npn_crop.data],\n"
     ]
    },
    {
     "data": {
      "application/vnd.jupyter.widget-view+json": {
       "model_id": "34567d35016c4106879482d7e7bffe85",
       "version_major": 2,
       "version_minor": 0
      },
      "text/plain": [
       "  0%|          | Permuting : 0/9999 [00:00<?,       ?it/s]"
      ]
     },
     "metadata": {},
     "output_type": "display_data"
    }
   ],
   "source": [
    "# create a new epochs info\n",
    "info_fast = mne.create_info(ch_names = list(np.arange(all_smooth_hgb_pn_data.shape[0]).astype('str')), ch_types = 'eeg', sfreq = 1000)\n",
    "info_slow = mne.create_info(ch_names = list(np.arange(all_smooth_hgb_npn_data.shape[0]).astype('str')), ch_types = 'eeg', sfreq = 1000)\n",
    "\n",
    "# create a new ROI based epochs\n",
    "all_smooth_hgb_pn = mne.EvokedArray(data = all_smooth_hgb_pn_data, info = info_fast, tmin=-6.8)#改成-6.8\n",
    "all_smooth_hgb_npn = mne.EvokedArray(data = all_smooth_hgb_npn_data, info = info_slow, tmin=-6.8)\n",
    "\n",
    "times = all_smooth_hgb_npn.times\n",
    "\n",
    "all_smooth_hgb_pn_crop = all_smooth_hgb_pn\n",
    "all_smooth_hgb_npn_crop = all_smooth_hgb_npn\n",
    "\n",
    "all_smooth_hgb_pn_crop = all_smooth_hgb_pn_crop.crop(-0.8, 0.1)#看做决策前后哪一段\n",
    "all_smooth_hgb_npn_crop = all_smooth_hgb_npn_crop.crop(-0.8, 0.1) # vmpfc(0, 1.1)\n",
    "\n",
    "n_permutations = 10000\n",
    "\n",
    "# 两种情况下相对于0的显著性\n",
    "T_obs_fast, clusters_fast, cluster_p_values_fast, H0_fast  = mne.stats.permutation_cluster_1samp_test(all_smooth_hgb_pn_crop.data, \n",
    "                                                    out_type='mask',n_permutations=n_permutations, n_jobs=6, tail=0, verbose=None)\n",
    "\n",
    "T_obs_slow, clusters_slow, cluster_p_values_slow, H0_slow  = mne.stats.permutation_cluster_1samp_test(all_smooth_hgb_npn_crop.data, \n",
    "                                                    out_type='mask',n_permutations=n_permutations, n_jobs=6, tail=0, verbose=None)\n",
    "\n",
    "# 两者之间的显著性\n",
    "T_obs, clusters, cluster_p_values, H0 = mne.stats.permutation_cluster_test([all_smooth_hgb_pn_crop.data, all_smooth_hgb_npn_crop.data],\n",
    "                                                                out_type='mask', n_permutations=n_permutations, n_jobs=6,tail=0\n",
    "                                                                ,verbose=None) #, stat_fun=scipy.stats.ttest_ind())\n",
    "\n",
    "# all_smooth_hgb_fast = all_smooth_hgb_fast.crop(-0.1, 1.1)\n",
    "# all_smooth_hgb_slow = all_smooth_hgb_slow.crop(-0.1, 1.1)"
   ]
  },
  {
   "cell_type": "markdown",
   "metadata": {},
   "source": [
    "## Adults"
   ]
  },
  {
   "cell_type": "code",
   "execution_count": 33,
   "metadata": {},
   "outputs": [
    {
     "data": {
      "text/plain": [
       "(array([-1. , -0.8, -0.6, -0.4, -0.2,  0. ,  0.2]),\n",
       " [Text(-1.0, 0, '−1.0'),\n",
       "  Text(-0.8, 0, '−0.8'),\n",
       "  Text(-0.6, 0, '−0.6'),\n",
       "  Text(-0.3999999999999999, 0, '−0.4'),\n",
       "  Text(-0.19999999999999996, 0, '−0.2'),\n",
       "  Text(0.0, 0, '0.0'),\n",
       "  Text(0.20000000000000018, 0, '0.2')])"
      ]
     },
     "execution_count": 33,
     "metadata": {},
     "output_type": "execute_result"
    },
    {
     "data": {
      "image/png": "[encoded data removed]",
      "text/plain": [
       "<Figure size 600x400 with 1 Axes>"
      ]
     },
     "metadata": {},
     "output_type": "display_data"
    }
   ],
   "source": [
    "#line_color = ['#A4132E','#B97979']\n",
    "#line_color = ['#984447','#476C9B'] #original red&blue\n",
    "#line_color = ['#B3606A','#729D35']\n",
    "line_color = ['#75914C', '#B3606A']\n",
    "# line_color = ['#F3C939','#8CBCE5']\n",
    "figsize=(6,4) \n",
    "title_size=20\n",
    "legend_size=12\n",
    "ticksize = 20\n",
    "subplots_adjust=[0.2, 0.2, 0.85, 0.85]\n",
    "\n",
    "\n",
    "import matplotlib.pyplot as plt\n",
    "import numpy as np\n",
    "import os\n",
    "\n",
    "# if not os.path.exists(result_path):\n",
    "# os.mkdir(result_path)    \n",
    "# # plot for each ROI\n",
    "# for ROI_num in range(len(permutation_cluster_result['ROI_name'])):\n",
    "\n",
    "event_0_line_color = line_color[0]\n",
    "event_1_line_color = line_color[1]\n",
    "\n",
    "# the number of time axis\n",
    "times = all_smooth_hgb_npn.times\n",
    "\n",
    "plt.close('all')\n",
    "plt.rcParams['figure.figsize'] = figsize # 设置figure_size尺寸\n",
    "# plt.title('ROI: '+ roi_name, fontdict={'fontsize':title_size})\n",
    "\n",
    "epoch_mean={}\n",
    "epoch_mean[0] = np.squeeze(np.average(all_smooth_hgb_pn.data, axis=0))#就是每根电极的平均\n",
    "epoch_mean[1] = np.squeeze(np.average(all_smooth_hgb_npn.data, axis=0))\n",
    "\n",
    "plt.plot(times, epoch_mean[0], color=line_color[0], alpha=0.9, linewidth=3) # , linestyle='--')\n",
    "plt.plot(times, epoch_mean[1], color=line_color[1], alpha=0.9, linewidth=3) # , linestyle='--')\n",
    "\n",
    "# 标注哪条线是哪个event\n",
    "#legend_font = {'family': fontproperties}\n",
    "plt.legend(['last trial: with efficacy', 'last trial: without efficacy'], fontsize=legend_size, frameon=False, loc='upper left') #, loc='top')\n",
    "\n",
    "# 画0s时的分割线 \n",
    "# plt.axvline(times[101], c=\"gray\", ls = \"dashed\")\n",
    "plt.axvline(times[800], c=\"gray\", ls = \"dashed\")\n",
    "#plt.plot(times, np.zeros(len(epoch_mean[0])), color=\"gray\", linestyle=\"--\")\n",
    "\n",
    "# 画误差(std),现在的版本是阴影部分代表每根电极\n",
    "std_event0 = np.squeeze(np.std(all_smooth_hgb_pn.data, axis=0))\n",
    "std_event1 = np.squeeze(np.std(all_smooth_hgb_npn.data, axis=0))\n",
    "\n",
    "se_event0 = std_event0/np.sqrt(all_smooth_hgb_pn.data.shape[0])\n",
    "se_event1 = std_event1/np.sqrt(all_smooth_hgb_npn.data.shape[0])\n",
    "\n",
    "plt.fill_between(times, epoch_mean[0] - se_event0, epoch_mean[0] + se_event0, color=line_color[0], alpha=0.3)\n",
    "plt.fill_between(times, epoch_mean[1] - se_event1, epoch_mean[1] + se_event1, color=line_color[1], alpha=0.2)\n",
    "\n",
    "# event 间的显著性\n",
    "for i_c, c in enumerate(clusters):\n",
    "    c = c[0]\n",
    "    if cluster_p_values[i_c] <= 0.05:\n",
    "        plt.axvspan(times[c.start], times[c.stop-1], color='#A4A4A4', alpha=0.1)\n",
    "        #plt.plot(times[c.start : c.stop - 1],  -20e-1* np.ones(len(epoch_mean[0]))[c.start : c.stop-1], color='#872C78', alpha=0.7, linewidth=10)\n",
    "\n",
    "#hf = plt.plot(times, T_obs, 'g')\n",
    "#plt.legend((h, ), ('cluster p-value < 0.05', ))\n",
    "plt.subplots_adjust(left=subplots_adjust[0], bottom=subplots_adjust[1], right=subplots_adjust[2], top=subplots_adjust[3], hspace=0.1,wspace=0.1)\n",
    "\n",
    "plt.xlim([times[0]-0.01, times[-1]+0.01])\n",
    "plt.ylim(-10e-1, 0.05e+1)\n",
    "\n",
    "plt.yticks(size=ticksize)\n",
    "plt.xticks(size=ticksize)\n",
    "\n",
    "spines_width = 2\n",
    "ax=plt.gca()\n",
    "ax.spines['top'].set_linewidth(0)\n",
    "ax.spines['right'].set_linewidth(0)\n",
    "ax.spines['left'].set_linewidth(spines_width)\n",
    "ax.spines['bottom'].set_linewidth(spines_width)\n",
    "# sns.despine()\n",
    "\n",
    "# 坐标轴刻度粗细,朝内\n",
    "plt.rcParams['xtick.major.size'] = 4\n",
    "plt.rcParams['ytick.major.size'] = 4\n",
    "plt.rcParams['xtick.major.width'] = 2\n",
    "plt.rcParams['ytick.major.width'] = 2\n",
    "plt.rcParams['xtick.direction'] = 'in'\n",
    "plt.rcParams['ytick.direction'] = 'in'\n",
    "# plt.set_ylabel(\"Escape Accuracy\", size=ticksize, fontproperties='Arial')\n",
    "\n",
    "labelsize=18\n",
    "plt.xlabel(\"time (s)\", fontsize=labelsize, fontproperties='Arial')\n",
    "plt.ylabel(\"Broad Gamma Activity\", size=labelsize, fontproperties='Arial')\n",
    "# plt.ylabel(\"Broad Gamma Activity\", size=labelsize, fontproperties='Arial')\n",
    "# plt.ylabel(\"Beta Activity\", size=labelsize, fontproperties='Arial')\n",
    "# 坐标的粗细\n",
    "ticksize = 18\n",
    "plt.yticks(size=ticksize, fontproperties='Arial')\n",
    "plt.xticks(size=ticksize, fontproperties='Arial')\n"
   ]
  },
  {
   "cell_type": "markdown",
   "metadata": {},
   "source": [
    "## Children"
   ]
  },
  {
   "cell_type": "code",
   "execution_count": 41,
   "metadata": {},
   "outputs": [
    {
     "data": {
      "text/plain": [
       "(array([-1. , -0.8, -0.6, -0.4, -0.2,  0. ,  0.2]),\n",
       " [Text(-1.0, 0, '−1.0'),\n",
       "  Text(-0.8, 0, '−0.8'),\n",
       "  Text(-0.6, 0, '−0.6'),\n",
       "  Text(-0.3999999999999999, 0, '−0.4'),\n",
       "  Text(-0.19999999999999996, 0, '−0.2'),\n",
       "  Text(0.0, 0, '0.0'),\n",
       "  Text(0.20000000000000018, 0, '0.2')])"
      ]
     },
     "execution_count": 41,
     "metadata": {},
     "output_type": "execute_result"
    },
    {
     "data": {
      "image/png": "[encoded data removed]",
      "text/plain": [
       "<Figure size 600x400 with 1 Axes>"
      ]
     },
     "metadata": {},
     "output_type": "display_data"
    }
   ],
   "source": [
    "#line_color = ['#A4132E','#B97979']\n",
    "#line_color = ['#984447','#476C9B'] #original red&blue\n",
    "# line_color = ['#F1B84D','#449AD0']\n",
    "line_color = ['#8cac5f','#c37e86']\n",
    "figsize=(6, 4) \n",
    "title_size=20\n",
    "legend_size=12\n",
    "ticksize = 20\n",
    "subplots_adjust=[0.2, 0.2, 0.85, 0.85]\n",
    "\n",
    "\n",
    "import matplotlib.pyplot as plt\n",
    "import numpy as np\n",
    "import os\n",
    "\n",
    "# if not os.path.exists(result_path):\n",
    "# os.mkdir(result_path)    \n",
    "# # plot for each ROI\n",
    "# for ROI_num in range(len(permutation_cluster_result['ROI_name'])):\n",
    "\n",
    "event_0_line_color = line_color[0]\n",
    "event_1_line_color = line_color[1]\n",
    "\n",
    "# the number of time axis\n",
    "times = all_smooth_hgb_npn.times\n",
    "\n",
    "plt.close('all')\n",
    "plt.rcParams['figure.figsize'] = figsize # 设置figure_size尺寸\n",
    "# plt.title('ROI: '+ roi_name, fontdict={'fontsize':title_size})\n",
    "\n",
    "epoch_mean={}\n",
    "epoch_mean[0] = np.squeeze(np.average(all_smooth_hgb_pn.data, axis=0))#就是每根电极的平均\n",
    "epoch_mean[1] = np.squeeze(np.average(all_smooth_hgb_npn.data, axis=0))\n",
    "\n",
    "plt.plot(times, epoch_mean[0], color=line_color[0], alpha=0.9, linewidth=3) # , linestyle='--')\n",
    "plt.plot(times, epoch_mean[1], color=line_color[1], alpha=0.9, linewidth=3) # , linestyle='--')\n",
    "\n",
    "# 标注哪条线是哪个event\n",
    "#legend_font = {'family': fontproperties}\n",
    "plt.legend(['last trial: with efficacy', 'last trial: without efficacy'], fontsize=legend_size, frameon=False, loc='upper left') #, loc='top')\n",
    "\n",
    "# 画0s时的分割线 \n",
    "# plt.axvline(times[101], c=\"gray\", ls = \"dashed\")\n",
    "plt.axvline(times[800], c=\"gray\", ls = \"dashed\")\n",
    "#plt.plot(times, np.zeros(len(epoch_mean[0])), color=\"gray\", linestyle=\"--\")\n",
    "\n",
    "# 画误差(std),现在的版本是阴影部分代表每根电极\n",
    "std_event0 = np.squeeze(np.std(all_smooth_hgb_pn.data, axis=0))\n",
    "std_event1 = np.squeeze(np.std(all_smooth_hgb_npn.data, axis=0))\n",
    "\n",
    "se_event0 = std_event0/np.sqrt(all_smooth_hgb_pn.data.shape[0])\n",
    "se_event1 = std_event1/np.sqrt(all_smooth_hgb_npn.data.shape[0])\n",
    "\n",
    "plt.fill_between(times, epoch_mean[0] - se_event0, epoch_mean[0] + se_event0, color=line_color[0], alpha=0.3)\n",
    "plt.fill_between(times, epoch_mean[1] - se_event1, epoch_mean[1] + se_event1, color=line_color[1], alpha=0.2)\n",
    "\n",
    "# event 间的显著性\n",
    "for i_c, c in enumerate(clusters):\n",
    "    c = c[0]\n",
    "    if cluster_p_values[i_c] <= 0.05:\n",
    "        plt.axvspan(times[c.start], times[c.stop-1], color='#A4A4A4', alpha=0.1)\n",
    "        #plt.plot(times[c.start : c.stop - 1],  -20e-1* np.ones(len(epoch_mean[0]))[c.start : c.stop-1], color='#872C78', alpha=0.7, linewidth=10)\n",
    "\n",
    "#hf = plt.plot(times, T_obs, 'g')\n",
    "#plt.legend((h, ), ('cluster p-value < 0.05', ))\n",
    "plt.subplots_adjust(left=subplots_adjust[0], bottom=subplots_adjust[1], right=subplots_adjust[2], top=subplots_adjust[3], hspace=0.1,wspace=0.1)\n",
    "\n",
    "plt.xlim([times[0]-0.01, times[-1]+0.01])\n",
    "plt.ylim(-6e-1, 0.05e+1)\n",
    "\n",
    "plt.yticks(size=ticksize)\n",
    "plt.xticks(size=ticksize)\n",
    "\n",
    "spines_width = 2\n",
    "ax=plt.gca()\n",
    "ax.spines['top'].set_linewidth(0)\n",
    "ax.spines['right'].set_linewidth(0)\n",
    "ax.spines['left'].set_linewidth(spines_width)\n",
    "ax.spines['bottom'].set_linewidth(spines_width)\n",
    "# sns.despine()\n",
    "\n",
    "# 坐标轴刻度粗细,朝内\n",
    "plt.rcParams['xtick.major.size'] = 4\n",
    "plt.rcParams['ytick.major.size'] = 4\n",
    "plt.rcParams['xtick.major.width'] = 2\n",
    "plt.rcParams['ytick.major.width'] = 2\n",
    "plt.rcParams['xtick.direction'] = 'in'\n",
    "plt.rcParams['ytick.direction'] = 'in'\n",
    "# plt.set_ylabel(\"Escape Accuracy\", size=ticksize, fontproperties='Arial')\n",
    "\n",
    "labelsize=18\n",
    "plt.xlabel(\"time (s)\", fontsize=labelsize, fontproperties='Arial')\n",
    "plt.ylabel(\"Broad Gamma Activity\", size=labelsize, fontproperties='Arial')\n",
    "#plt.ylabel(\"Broad Gamma Activity\", size=labelsize, fontproperties='Arial')\n",
    "# plt.ylabel(\"Beta Activity\", size=labelsize, fontproperties='Arial')\n",
    "# 坐标的粗细\n",
    "ticksize = 18\n",
    "plt.yticks(size=ticksize, fontproperties='Arial')\n",
    "plt.xticks(size=ticksize, fontproperties='Arial')\n"
   ]
  }
 ],
 "metadata": {
  "kernelspec": {
   "display_name": "neural",
   "language": "python",
   "name": "python3"
  },
  "language_info": {
   "codemirror_mode": {
    "name": "ipython",
    "version": 3
   },
   "file_extension": ".py",
   "mimetype": "text/x-python",
   "name": "python",
   "nbconvert_exporter": "python",
   "pygments_lexer": "ipython3",
   "version": "3.9.18"
  }
 },
 "nbformat": 4,
 "nbformat_minor": 2
}
